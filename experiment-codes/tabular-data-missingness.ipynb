{
 "cells": [
  {
   "cell_type": "code",
   "execution_count": 1,
   "id": "b994cc20",
   "metadata": {
    "_cell_guid": "b1076dfc-b9ad-4769-8c92-a6c4dae69d19",
    "_uuid": "8f2839f25d086af736a60e9eeb907d3b93b6e0e5",
    "execution": {
     "iopub.execute_input": "2022-09-26T14:03:06.261966Z",
     "iopub.status.busy": "2022-09-26T14:03:06.261528Z",
     "iopub.status.idle": "2022-09-26T14:03:06.286682Z",
     "shell.execute_reply": "2022-09-26T14:03:06.284032Z"
    },
    "papermill": {
     "duration": 0.032704,
     "end_time": "2022-09-26T14:03:06.289380",
     "exception": false,
     "start_time": "2022-09-26T14:03:06.256676",
     "status": "completed"
    },
    "tags": []
   },
   "outputs": [
    {
     "name": "stdout",
     "output_type": "stream",
     "text": [
      "/kaggle/input/cvpreprocess/cv-preprocess.csv\n",
      "/kaggle/input/mvpreprocess/mv-preprocess.csv\n"
     ]
    }
   ],
   "source": [
    "# This Python 3 environment comes with many helpful analytics libraries installed\n",
    "# It is defined by the kaggle/python Docker image: https://github.com/kaggle/docker-python\n",
    "# For example, here's several helpful packages to load\n",
    "\n",
    "import numpy as np # linear algebra\n",
    "import pandas as pd # data processing, CSV file I/O (e.g. pd.read_csv)\n",
    "\n",
    "# Input data files are available in the read-only \"../input/\" directory\n",
    "# For example, running this (by clicking run or pressing Shift+Enter) will list all files under the input directory\n",
    "\n",
    "import os\n",
    "for dirname, _, filenames in os.walk('/kaggle/input'):\n",
    "    for filename in filenames:\n",
    "        print(os.path.join(dirname, filename))\n",
    "\n",
    "# You can write up to 20GB to the current directory (/kaggle/working/) that gets preserved as output when you create a version using \"Save & Run All\" \n",
    "# You can also write temporary files to /kaggle/temp/, but they won't be saved outside of the current session"
   ]
  },
  {
   "cell_type": "code",
   "execution_count": 2,
   "id": "4432e09f",
   "metadata": {
    "execution": {
     "iopub.execute_input": "2022-09-26T14:03:06.296033Z",
     "iopub.status.busy": "2022-09-26T14:03:06.294929Z",
     "iopub.status.idle": "2022-09-26T14:03:06.819310Z",
     "shell.execute_reply": "2022-09-26T14:03:06.817901Z"
    },
    "papermill": {
     "duration": 0.530251,
     "end_time": "2022-09-26T14:03:06.821915",
     "exception": false,
     "start_time": "2022-09-26T14:03:06.291664",
     "status": "completed"
    },
    "tags": []
   },
   "outputs": [
    {
     "name": "stdout",
     "output_type": "stream",
     "text": [
      "0.313027101039746\n"
     ]
    }
   ],
   "source": [
    "pd.set_option('display.max_columns', None)\n",
    "cv = pd.read_csv(\"../input/cvpreprocess/cv-preprocess.csv\")\n",
    "print(cv.isna().sum().sum() / (len(cv)*(len(cv.columns)-2))) # deduct 2 columns representing ICUSTAY_ID and the target"
   ]
  },
  {
   "cell_type": "code",
   "execution_count": 3,
   "id": "0f87d76a",
   "metadata": {
    "execution": {
     "iopub.execute_input": "2022-09-26T14:03:06.827980Z",
     "iopub.status.busy": "2022-09-26T14:03:06.827400Z",
     "iopub.status.idle": "2022-09-26T14:03:07.112431Z",
     "shell.execute_reply": "2022-09-26T14:03:07.111163Z"
    },
    "papermill": {
     "duration": 0.290756,
     "end_time": "2022-09-26T14:03:07.114755",
     "exception": false,
     "start_time": "2022-09-26T14:03:06.823999",
     "status": "completed"
    },
    "tags": []
   },
   "outputs": [
    {
     "name": "stdout",
     "output_type": "stream",
     "text": [
      "0.2884055637190765\n"
     ]
    }
   ],
   "source": [
    "mv = pd.read_csv(\"../input/mvpreprocess/mv-preprocess.csv\")\n",
    "print(mv.isna().sum().sum() / (len(mv)*(len(mv.columns)-2)))"
   ]
  }
 ],
 "metadata": {
  "kernelspec": {
   "display_name": "Python 3",
   "language": "python",
   "name": "python3"
  },
  "language_info": {
   "codemirror_mode": {
    "name": "ipython",
    "version": 3
   },
   "file_extension": ".py",
   "mimetype": "text/x-python",
   "name": "python",
   "nbconvert_exporter": "python",
   "pygments_lexer": "ipython3",
   "version": "3.7.12"
  },
  "papermill": {
   "default_parameters": {},
   "duration": 11.038591,
   "end_time": "2022-09-26T14:03:07.838792",
   "environment_variables": {},
   "exception": null,
   "input_path": "__notebook__.ipynb",
   "output_path": "__notebook__.ipynb",
   "parameters": {},
   "start_time": "2022-09-26T14:02:56.800201",
   "version": "2.3.4"
  }
 },
 "nbformat": 4,
 "nbformat_minor": 5
}
