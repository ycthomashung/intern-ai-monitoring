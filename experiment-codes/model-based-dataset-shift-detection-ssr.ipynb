{
 "cells": [
  {
   "cell_type": "markdown",
   "id": "8f58ab8f",
   "metadata": {
    "papermill": {
     "duration": 0.008723,
     "end_time": "2022-09-27T12:30:25.283025",
     "exception": false,
     "start_time": "2022-09-27T12:30:25.274302",
     "status": "completed"
    },
    "tags": []
   },
   "source": [
    "# Import libraries"
   ]
  },
  {
   "cell_type": "code",
   "execution_count": 1,
   "id": "5fabe867",
   "metadata": {
    "_cell_guid": "b1076dfc-b9ad-4769-8c92-a6c4dae69d19",
    "_uuid": "8f2839f25d086af736a60e9eeb907d3b93b6e0e5",
    "execution": {
     "iopub.execute_input": "2022-09-27T12:30:25.296786Z",
     "iopub.status.busy": "2022-09-27T12:30:25.294167Z",
     "iopub.status.idle": "2022-09-27T12:30:41.118672Z",
     "shell.execute_reply": "2022-09-27T12:30:41.117583Z"
    },
    "papermill": {
     "duration": 15.833169,
     "end_time": "2022-09-27T12:30:41.121363",
     "exception": false,
     "start_time": "2022-09-27T12:30:25.288194",
     "status": "completed"
    },
    "tags": []
   },
   "outputs": [
    {
     "name": "stdout",
     "output_type": "stream",
     "text": [
      "Collecting torchsummary\r\n",
      "  Downloading torchsummary-1.5.1-py3-none-any.whl (2.8 kB)\r\n",
      "Installing collected packages: torchsummary\r\n",
      "Successfully installed torchsummary-1.5.1\r\n",
      "\u001b[33mWARNING: Running pip as the 'root' user can result in broken permissions and conflicting behaviour with the system package manager. It is recommended to use a virtual environment instead: https://pip.pypa.io/warnings/venv\u001b[0m\u001b[33m\r\n",
      "\u001b[0m"
     ]
    }
   ],
   "source": [
    "# numpy, scipy, pandas, sklearn, matplotlib\n",
    "import numpy as np\n",
    "import pandas as pd\n",
    "from scipy.stats import entropy\n",
    "from sklearn.metrics import accuracy_score,classification_report,roc_auc_score,RocCurveDisplay\n",
    "from sklearn.model_selection import train_test_split\n",
    "from sklearn.ensemble import RandomForestClassifier\n",
    "import matplotlib.pyplot as plt\n",
    "\n",
    "# pytorch and pytorch lightning\n",
    "import torch\n",
    "import torch.nn as nn\n",
    "import torch.nn.functional as F\n",
    "from torch.utils.data import Dataset, DataLoader, Subset\n",
    "import torchvision \n",
    "from torchvision import datasets\n",
    "import torchvision.transforms as transforms\n",
    "!pip install torchsummary\n",
    "from torchsummary import summary\n",
    "try:\n",
    "    import pytorch_lightning as pl\n",
    "except ModuleNotFoundError: # Google Colab does not have PyTorch Lightning installed by default. Hence, we do it here if necessary\n",
    "    !pip install --quiet pytorch-lightning>=1.4\n",
    "    import pytorch_lightning as pl\n",
    "from pytorch_lightning.callbacks import LearningRateMonitor, ModelCheckpoint\n",
    "\n",
    "# others\n",
    "import os\n",
    "from tqdm import tqdm_notebook as tqdm\n",
    "import time\n",
    "import warnings\n",
    "warnings.simplefilter(\"ignore\")\n",
    "warnings.filterwarnings(\"ignore\", category=DeprecationWarning)\n",
    "warnings.filterwarnings(\"ignore\", category=UserWarning)\n",
    "warnings.filterwarnings(\"ignore\", category=FutureWarning)"
   ]
  },
  {
   "cell_type": "code",
   "execution_count": 2,
   "id": "b5a77d4d",
   "metadata": {
    "execution": {
     "iopub.execute_input": "2022-09-27T12:30:41.132008Z",
     "iopub.status.busy": "2022-09-27T12:30:41.129992Z",
     "iopub.status.idle": "2022-09-27T12:30:41.203010Z",
     "shell.execute_reply": "2022-09-27T12:30:41.201698Z"
    },
    "papermill": {
     "duration": 0.079954,
     "end_time": "2022-09-27T12:30:41.205062",
     "exception": false,
     "start_time": "2022-09-27T12:30:41.125108",
     "status": "completed"
    },
    "tags": []
   },
   "outputs": [
    {
     "name": "stdout",
     "output_type": "stream",
     "text": [
      "Device: cuda:0\n"
     ]
    }
   ],
   "source": [
    "# Setting the seed\n",
    "pl.seed_everything(42)\n",
    "\n",
    "# Ensure that all operations are deterministic on GPU (if used) for reproducibility\n",
    "torch.backends.cudnn.deterministic = True\n",
    "torch.backends.cudnn.benchmark = False\n",
    "\n",
    "device = torch.device(\"cuda:0\") if torch.cuda.is_available() else torch.device(\"cpu\")\n",
    "print(\"Device:\", device)\n",
    "# print(\"Number of workers:\", NUM_WORKERS)"
   ]
  },
  {
   "cell_type": "code",
   "execution_count": 3,
   "id": "a43d0eb5",
   "metadata": {
    "execution": {
     "iopub.execute_input": "2022-09-27T12:30:41.214120Z",
     "iopub.status.busy": "2022-09-27T12:30:41.213491Z",
     "iopub.status.idle": "2022-09-27T12:30:41.218847Z",
     "shell.execute_reply": "2022-09-27T12:30:41.218017Z"
    },
    "papermill": {
     "duration": 0.011845,
     "end_time": "2022-09-27T12:30:41.220754",
     "exception": false,
     "start_time": "2022-09-27T12:30:41.208909",
     "status": "completed"
    },
    "tags": []
   },
   "outputs": [],
   "source": [
    "# global constants\n",
    "IMAGE_SIZE = (224, 224)\n",
    "NUM_CLASSES = 3\n",
    "BATCH_SIZE = 32"
   ]
  },
  {
   "cell_type": "markdown",
   "id": "799eead2",
   "metadata": {
    "papermill": {
     "duration": 0.00339,
     "end_time": "2022-09-27T12:30:41.227574",
     "exception": false,
     "start_time": "2022-09-27T12:30:41.224184",
     "status": "completed"
    },
    "tags": []
   },
   "source": [
    "# Import data"
   ]
  },
  {
   "cell_type": "code",
   "execution_count": 4,
   "id": "7dc4333d",
   "metadata": {
    "execution": {
     "iopub.execute_input": "2022-09-27T12:30:41.236066Z",
     "iopub.status.busy": "2022-09-27T12:30:41.235326Z",
     "iopub.status.idle": "2022-09-27T12:30:55.727727Z",
     "shell.execute_reply": "2022-09-27T12:30:55.726313Z"
    },
    "papermill": {
     "duration": 14.499481,
     "end_time": "2022-09-27T12:30:55.730498",
     "exception": false,
     "start_time": "2022-09-27T12:30:41.231017",
     "status": "completed"
    },
    "tags": []
   },
   "outputs": [
    {
     "name": "stdout",
     "output_type": "stream",
     "text": [
      "Training set size: 251\n",
      "Validation set size: 66\n",
      "Deployment set size: 800\n",
      "{'Covid': 0, 'Normal': 1, 'Viral Pneumonia': 2}\n"
     ]
    }
   ],
   "source": [
    "# dataset path\n",
    "train_path = '../input/covid19-image-dataset/Covid19-dataset/train'\n",
    "val_path = '../input/covid19-image-dataset/Covid19-dataset/test'\n",
    "deploy_path = '../input/covid19radiographydatabaseedited/COVID-19_Radiography_Dataset'\n",
    "\n",
    "# import data\n",
    "detect_transform = transforms.Compose([transforms.Resize(IMAGE_SIZE), transforms.ToTensor(), transforms.Normalize([0.485, 0.456, 0.406],[0.229, 0.224, 0.225])])\n",
    "trainset = datasets.ImageFolder(train_path,transform = detect_transform)\n",
    "valset = datasets.ImageFolder(val_path,transform = detect_transform)\n",
    "deployset = datasets.ImageFolder(deploy_path,transform = detect_transform)\n",
    "\n",
    "# reduce size of deployment data (for computational time and memory)\n",
    "n_deployment = 800\n",
    "deploy_idx = np.random.choice(len(deployset.targets), size=n_deployment, replace=False)\n",
    "deployset = Subset(deployset, deploy_idx)\n",
    "\n",
    "print(\"Training set size: {}\\nValidation set size: {}\\nDeployment set size: {}\".format(len(trainset.targets),len(valset.targets),n_deployment))\n",
    "print(trainset.class_to_idx)"
   ]
  },
  {
   "cell_type": "markdown",
   "id": "8e3e8e0a",
   "metadata": {
    "papermill": {
     "duration": 0.003449,
     "end_time": "2022-09-27T12:30:55.738119",
     "exception": false,
     "start_time": "2022-09-27T12:30:55.734670",
     "status": "completed"
    },
    "tags": []
   },
   "source": [
    "# Detection for model adjustment: Model-based"
   ]
  },
  {
   "cell_type": "code",
   "execution_count": 5,
   "id": "871e8224",
   "metadata": {
    "execution": {
     "iopub.execute_input": "2022-09-27T12:30:55.747047Z",
     "iopub.status.busy": "2022-09-27T12:30:55.746760Z",
     "iopub.status.idle": "2022-09-27T12:30:55.763119Z",
     "shell.execute_reply": "2022-09-27T12:30:55.762208Z"
    },
    "papermill": {
     "duration": 0.023358,
     "end_time": "2022-09-27T12:30:55.765273",
     "exception": false,
     "start_time": "2022-09-27T12:30:55.741915",
     "status": "completed"
    },
    "tags": []
   },
   "outputs": [],
   "source": [
    "class SimCLR(pl.LightningModule):\n",
    "\n",
    "    def __init__(self, hidden_dim, lr, temperature, weight_decay, pretrained_model=None, max_epochs=500):\n",
    "        super().__init__()\n",
    "        self.save_hyperparameters()\n",
    "        assert self.hparams.temperature > 0.0, 'The temperature must be a positive float!'\n",
    "        # Base model f(.)\n",
    "        self.model = pretrained_model if pretrained_model is not None else torchvision.models.resnet50(pretrained=True)  # Output of last linear layer: 2048-dim representation\n",
    "        # print(\"Hi\\n{}\".format(list(self.model.children())))\n",
    "        # The MLP for g(.) consists of Linear->ReLU->Linear\n",
    "        # print(self.model.fc)\n",
    "        # print(len(list(list(self.model.children())[-1].children())))\n",
    "        # print(list(self.model.children())[-1])\n",
    "        # print(list(list(self.model.children())[-1].children()))\n",
    "        if len(list(list(self.model.children())[-1].children())) == 0:\n",
    "            self.model = nn.Sequential(*(list(self.model.children())[:-1]),\n",
    "                                        nn.Flatten(),\n",
    "                                        nn.Linear(self.model.fc.in_features, 2048),\n",
    "                                        nn.ReLU(inplace=True),\n",
    "                                        nn.Linear(2048, hidden_dim))\n",
    "            print(\"done\")\n",
    "        # print(\"Hihi\\n{}\".format(list(self.model.children())))\n",
    "    \n",
    "    def forward(self, x):\n",
    "        return self.model(x)\n",
    "    \n",
    "    def configure_optimizers(self):\n",
    "        optimizer = torch.optim.Adam(self.parameters(),\n",
    "                                lr=self.hparams.lr,\n",
    "                                weight_decay=self.hparams.weight_decay)\n",
    "        lr_scheduler = torch.optim.lr_scheduler.CosineAnnealingLR(optimizer,\n",
    "                                                            T_max=self.hparams.max_epochs,\n",
    "                                                            eta_min=self.hparams.lr/50) # search what does it refer to\n",
    "        return [optimizer], [lr_scheduler]\n",
    "\n",
    "    def info_nce_loss(self, batch, mode='train'):\n",
    "        imgs, _ = batch\n",
    "        # print(imgs.shape)\n",
    "        imgs = torch.cat(imgs, dim=0)\n",
    "        # print(imgs.shape)\n",
    "\n",
    "        # Encode all images\n",
    "        feats = self(imgs)\n",
    "        # print(feats.shape)\n",
    "        # Calculate cosine similarity\n",
    "        cos_sim = F.cosine_similarity(feats[:,None,:], feats[None,:,:], dim=-1)\n",
    "        # Mask out cosine similarity to itself\n",
    "        self_mask = torch.eye(cos_sim.shape[0], dtype=torch.bool, device=cos_sim.device)\n",
    "        cos_sim.masked_fill_(self_mask, -9e15)\n",
    "        # Find positive example -> batch_size//2 away from the original example\n",
    "        pos_mask = self_mask.roll(shifts=cos_sim.shape[0]//2, dims=0)\n",
    "        # InfoNCE loss\n",
    "        cos_sim = cos_sim / self.hparams.temperature\n",
    "        nll = -cos_sim[pos_mask] + torch.logsumexp(cos_sim, dim=-1)\n",
    "        nll = nll.mean()\n",
    "\n",
    "        # Logging loss\n",
    "        print(mode+'_loss: {:.4f}'.format(nll))\n",
    "        self.log(mode+'_loss', nll)\n",
    "        # Get ranking position of positive example\n",
    "        comb_sim = torch.cat([cos_sim[pos_mask][:,None],  # First position positive example\n",
    "                              cos_sim.masked_fill(pos_mask, -9e15)],\n",
    "                             dim=-1)\n",
    "        sim_argsort = comb_sim.argsort(dim=-1, descending=True).argmin(dim=-1)\n",
    "        # Logging ranking metrics\n",
    "        self.log(mode+'_acc_top1', (sim_argsort == 0).float().mean())\n",
    "        self.log(mode+'_acc_top5', (sim_argsort < 5).float().mean())\n",
    "        self.log(mode+'_acc_mean_pos', 1+sim_argsort.float().mean())\n",
    "\n",
    "        return nll\n",
    "\n",
    "    def training_step(self, batch, batch_idx):\n",
    "        return self.info_nce_loss(batch, mode='train')\n",
    "\n",
    "    def validation_step(self, batch, batch_idx):\n",
    "        self.info_nce_loss(batch, mode='val')"
   ]
  },
  {
   "cell_type": "code",
   "execution_count": 6,
   "id": "694377ec",
   "metadata": {
    "execution": {
     "iopub.execute_input": "2022-09-27T12:30:55.773953Z",
     "iopub.status.busy": "2022-09-27T12:30:55.773091Z",
     "iopub.status.idle": "2022-09-27T12:30:59.204339Z",
     "shell.execute_reply": "2022-09-27T12:30:59.203283Z"
    },
    "papermill": {
     "duration": 3.438338,
     "end_time": "2022-09-27T12:30:59.207101",
     "exception": false,
     "start_time": "2022-09-27T12:30:55.768763",
     "status": "completed"
    },
    "tags": []
   },
   "outputs": [
    {
     "name": "stdout",
     "output_type": "stream",
     "text": [
      "done\n"
     ]
    }
   ],
   "source": [
    "simclr_model = SimCLR.load_from_checkpoint(\"../input/ssrchestxray/ssr-chest-x-ray.ckpt\") # load pre-trained model\n",
    "feature_model = torch.nn.Sequential(*(list(simclr_model.model.children())[:-3]))\n",
    "# feature_model = simclr_model\n",
    "\n",
    "FEATURE_SIZE = 2048"
   ]
  },
  {
   "cell_type": "code",
   "execution_count": 7,
   "id": "79fb64eb",
   "metadata": {
    "execution": {
     "iopub.execute_input": "2022-09-27T12:30:59.220012Z",
     "iopub.status.busy": "2022-09-27T12:30:59.219371Z",
     "iopub.status.idle": "2022-09-27T12:32:46.525719Z",
     "shell.execute_reply": "2022-09-27T12:32:46.524273Z"
    },
    "papermill": {
     "duration": 107.315759,
     "end_time": "2022-09-27T12:32:46.528788",
     "exception": false,
     "start_time": "2022-09-27T12:30:59.213029",
     "status": "completed"
    },
    "tags": []
   },
   "outputs": [
    {
     "data": {
      "application/vnd.jupyter.widget-view+json": {
       "model_id": "8e23821207cd40b59252e74d202dd8a8",
       "version_major": 2,
       "version_minor": 0
      },
      "text/plain": [
       "  0%|          | 0/8 [00:00<?, ?it/s]"
      ]
     },
     "metadata": {},
     "output_type": "display_data"
    },
    {
     "name": "stdout",
     "output_type": "stream",
     "text": [
      "(64, 2048)\n"
     ]
    }
   ],
   "source": [
    "train_loader = DataLoader(trainset,batch_size=BATCH_SIZE,shuffle=False,num_workers=4)\n",
    "train_values = np.zeros((2*BATCH_SIZE, FEATURE_SIZE))\n",
    "\n",
    "for i, (images, labels) in enumerate(tqdm(train_loader, total=int(len(train_loader)))):\n",
    "    train_values[BATCH_SIZE*i:BATCH_SIZE*i+images.shape[0],:] = feature_model(images).detach().cpu().numpy()\n",
    "    if i == 1:\n",
    "        break\n",
    "\n",
    "print(train_values.shape)"
   ]
  },
  {
   "cell_type": "code",
   "execution_count": 8,
   "id": "a929081e",
   "metadata": {
    "execution": {
     "iopub.execute_input": "2022-09-27T12:32:46.538290Z",
     "iopub.status.busy": "2022-09-27T12:32:46.537972Z",
     "iopub.status.idle": "2022-09-27T12:34:30.506816Z",
     "shell.execute_reply": "2022-09-27T12:34:30.505483Z"
    },
    "papermill": {
     "duration": 103.976761,
     "end_time": "2022-09-27T12:34:30.509591",
     "exception": false,
     "start_time": "2022-09-27T12:32:46.532830",
     "status": "completed"
    },
    "tags": []
   },
   "outputs": [
    {
     "data": {
      "application/vnd.jupyter.widget-view+json": {
       "model_id": "6651f189996b4518807489824cf29a96",
       "version_major": 2,
       "version_minor": 0
      },
      "text/plain": [
       "  0%|          | 0/3 [00:00<?, ?it/s]"
      ]
     },
     "metadata": {},
     "output_type": "display_data"
    },
    {
     "name": "stdout",
     "output_type": "stream",
     "text": [
      "(66, 2048)\n"
     ]
    }
   ],
   "source": [
    "val_loader = DataLoader(valset,batch_size=BATCH_SIZE,shuffle=False,num_workers=4)\n",
    "val_values = np.zeros((len(valset.targets), FEATURE_SIZE))\n",
    "\n",
    "for i, (images, labels) in enumerate(tqdm(val_loader, total=int(len(val_loader)))):\n",
    "    val_values[BATCH_SIZE*i:BATCH_SIZE*i+images.shape[0],:] = feature_model(images).detach().cpu().numpy()\n",
    "\n",
    "print(val_values.shape)"
   ]
  },
  {
   "cell_type": "code",
   "execution_count": 9,
   "id": "7e156343",
   "metadata": {
    "execution": {
     "iopub.execute_input": "2022-09-27T12:34:30.519483Z",
     "iopub.status.busy": "2022-09-27T12:34:30.519138Z",
     "iopub.status.idle": "2022-09-27T12:34:30.742602Z",
     "shell.execute_reply": "2022-09-27T12:34:30.741471Z"
    },
    "papermill": {
     "duration": 0.231704,
     "end_time": "2022-09-27T12:34:30.745632",
     "exception": false,
     "start_time": "2022-09-27T12:34:30.513928",
     "status": "completed"
    },
    "tags": []
   },
   "outputs": [
    {
     "name": "stdout",
     "output_type": "stream",
     "text": [
      "Classification score for drift control: 0.6538461538461539\n"
     ]
    }
   ],
   "source": [
    "X_control = np.vstack((train_values, val_values))\n",
    "y_control = np.hstack((np.ones(train_values.shape[0]), np.zeros(val_values.shape[0])))\n",
    "# print(X_control.shape, y_control.shape) # Check if they have the correct shape\n",
    "X_control_train, X_control_test, y_control_train, y_control_test = train_test_split(X_control, y_control, test_size=0.2, random_state=42)\n",
    "control_model = RandomForestClassifier(random_state=42)\n",
    "control_model.fit(X_control_train, y_control_train)\n",
    "print(\"Classification score for drift control: {}\".format(control_model.score(X_control_test, y_control_test)))"
   ]
  },
  {
   "cell_type": "code",
   "execution_count": 10,
   "id": "f6203f98",
   "metadata": {
    "execution": {
     "iopub.execute_input": "2022-09-27T12:34:30.757108Z",
     "iopub.status.busy": "2022-09-27T12:34:30.756831Z",
     "iopub.status.idle": "2022-09-27T12:36:12.536612Z",
     "shell.execute_reply": "2022-09-27T12:36:12.535115Z"
    },
    "papermill": {
     "duration": 101.788877,
     "end_time": "2022-09-27T12:36:12.539504",
     "exception": false,
     "start_time": "2022-09-27T12:34:30.750627",
     "status": "completed"
    },
    "tags": []
   },
   "outputs": [
    {
     "data": {
      "application/vnd.jupyter.widget-view+json": {
       "model_id": "4b393c035ff14541bdbe62012ca4cc06",
       "version_major": 2,
       "version_minor": 0
      },
      "text/plain": [
       "  0%|          | 0/25 [00:00<?, ?it/s]"
      ]
     },
     "metadata": {},
     "output_type": "display_data"
    },
    {
     "name": "stdout",
     "output_type": "stream",
     "text": [
      "(64, 2048)\n"
     ]
    }
   ],
   "source": [
    "deploy_loader = DataLoader(deployset,batch_size=BATCH_SIZE,shuffle=False,num_workers=4)\n",
    "deploy_values = np.zeros((2*BATCH_SIZE, FEATURE_SIZE))\n",
    "\n",
    "for i, (images, labels) in enumerate(tqdm(deploy_loader, total=int(len(deploy_loader)))):\n",
    "    deploy_values[BATCH_SIZE*i:BATCH_SIZE*i+images.shape[0],:] = feature_model(images).detach().cpu().numpy()\n",
    "    if i == 1:\n",
    "        break\n",
    "\n",
    "print(deploy_values.shape)"
   ]
  },
  {
   "cell_type": "code",
   "execution_count": 11,
   "id": "ce7b56cc",
   "metadata": {
    "execution": {
     "iopub.execute_input": "2022-09-27T12:36:12.550545Z",
     "iopub.status.busy": "2022-09-27T12:36:12.549618Z",
     "iopub.status.idle": "2022-09-27T12:36:12.939611Z",
     "shell.execute_reply": "2022-09-27T12:36:12.938079Z"
    },
    "papermill": {
     "duration": 0.397759,
     "end_time": "2022-09-27T12:36:12.941881",
     "exception": false,
     "start_time": "2022-09-27T12:36:12.544122",
     "status": "completed"
    },
    "tags": []
   },
   "outputs": [
    {
     "name": "stdout",
     "output_type": "stream",
     "text": [
      "Classification score for drift detection: 1.0\n",
      "Classification score for drift check: 0.9230769230769231\n"
     ]
    }
   ],
   "source": [
    "X_detect = np.vstack((train_values, deploy_values))\n",
    "y_detect = np.hstack((np.ones(train_values.shape[0]), np.zeros(deploy_values.shape[0])))\n",
    "# print(X_detect.shape, y_detect.shape) # Check if they have the correct shape\n",
    "X_detect_train, X_detect_test, y_detect_train, y_detect_test = train_test_split(X_detect, y_detect, test_size=0.2, random_state=42)\n",
    "detection_model = RandomForestClassifier(random_state=42)\n",
    "detection_model.fit(X_detect_train, y_detect_train)\n",
    "print(\"Classification score for drift detection: {}\".format(detection_model.score(X_detect_test, y_detect_test)))\n",
    "\n",
    "X_check = np.vstack((val_values, deploy_values))\n",
    "y_check = np.hstack((np.ones(val_values.shape[0]), np.zeros(deploy_values.shape[0])))\n",
    "# print(X_check.shape, y_check.shape) # Check if they have the correct shape\n",
    "X_check_train, X_check_test, y_check_train, y_check_test = train_test_split(X_check, y_check, test_size=0.2, random_state=42)\n",
    "check_model = RandomForestClassifier(random_state=42)\n",
    "check_model.fit(X_check_train, y_check_train)\n",
    "print(\"Classification score for drift check: {}\".format(check_model.score(X_check_test, y_check_test)))"
   ]
  }
 ],
 "metadata": {
  "kernelspec": {
   "display_name": "Python 3",
   "language": "python",
   "name": "python3"
  },
  "language_info": {
   "codemirror_mode": {
    "name": "ipython",
    "version": 3
   },
   "file_extension": ".py",
   "mimetype": "text/x-python",
   "name": "python",
   "nbconvert_exporter": "python",
   "pygments_lexer": "ipython3",
   "version": "3.7.12"
  },
  "papermill": {
   "default_parameters": {},
   "duration": 356.630817,
   "end_time": "2022-09-27T12:36:14.370974",
   "environment_variables": {},
   "exception": null,
   "input_path": "__notebook__.ipynb",
   "output_path": "__notebook__.ipynb",
   "parameters": {},
   "start_time": "2022-09-27T12:30:17.740157",
   "version": "2.3.4"
  },
  "widgets": {
   "application/vnd.jupyter.widget-state+json": {
    "state": {
     "039f9cf6ed8b4245a221b89fb6d60130": {
      "model_module": "@jupyter-widgets/base",
      "model_module_version": "1.2.0",
      "model_name": "LayoutModel",
      "state": {
       "_model_module": "@jupyter-widgets/base",
       "_model_module_version": "1.2.0",
       "_model_name": "LayoutModel",
       "_view_count": null,
       "_view_module": "@jupyter-widgets/base",
       "_view_module_version": "1.2.0",
       "_view_name": "LayoutView",
       "align_content": null,
       "align_items": null,
       "align_self": null,
       "border": null,
       "bottom": null,
       "display": null,
       "flex": null,
       "flex_flow": null,
       "grid_area": null,
       "grid_auto_columns": null,
       "grid_auto_flow": null,
       "grid_auto_rows": null,
       "grid_column": null,
       "grid_gap": null,
       "grid_row": null,
       "grid_template_areas": null,
       "grid_template_columns": null,
       "grid_template_rows": null,
       "height": null,
       "justify_content": null,
       "justify_items": null,
       "left": null,
       "margin": null,
       "max_height": null,
       "max_width": null,
       "min_height": null,
       "min_width": null,
       "object_fit": null,
       "object_position": null,
       "order": null,
       "overflow": null,
       "overflow_x": null,
       "overflow_y": null,
       "padding": null,
       "right": null,
       "top": null,
       "visibility": null,
       "width": null
      }
     },
     "129de8c4bfee41888836f26dedcb4c08": {
      "model_module": "@jupyter-widgets/base",
      "model_module_version": "1.2.0",
      "model_name": "LayoutModel",
      "state": {
       "_model_module": "@jupyter-widgets/base",
       "_model_module_version": "1.2.0",
       "_model_name": "LayoutModel",
       "_view_count": null,
       "_view_module": "@jupyter-widgets/base",
       "_view_module_version": "1.2.0",
       "_view_name": "LayoutView",
       "align_content": null,
       "align_items": null,
       "align_self": null,
       "border": null,
       "bottom": null,
       "display": null,
       "flex": null,
       "flex_flow": null,
       "grid_area": null,
       "grid_auto_columns": null,
       "grid_auto_flow": null,
       "grid_auto_rows": null,
       "grid_column": null,
       "grid_gap": null,
       "grid_row": null,
       "grid_template_areas": null,
       "grid_template_columns": null,
       "grid_template_rows": null,
       "height": null,
       "justify_content": null,
       "justify_items": null,
       "left": null,
       "margin": null,
       "max_height": null,
       "max_width": null,
       "min_height": null,
       "min_width": null,
       "object_fit": null,
       "object_position": null,
       "order": null,
       "overflow": null,
       "overflow_x": null,
       "overflow_y": null,
       "padding": null,
       "right": null,
       "top": null,
       "visibility": null,
       "width": null
      }
     },
     "26f293196bd349eca90e8685953e4c9f": {
      "model_module": "@jupyter-widgets/base",
      "model_module_version": "1.2.0",
      "model_name": "LayoutModel",
      "state": {
       "_model_module": "@jupyter-widgets/base",
       "_model_module_version": "1.2.0",
       "_model_name": "LayoutModel",
       "_view_count": null,
       "_view_module": "@jupyter-widgets/base",
       "_view_module_version": "1.2.0",
       "_view_name": "LayoutView",
       "align_content": null,
       "align_items": null,
       "align_self": null,
       "border": null,
       "bottom": null,
       "display": null,
       "flex": null,
       "flex_flow": null,
       "grid_area": null,
       "grid_auto_columns": null,
       "grid_auto_flow": null,
       "grid_auto_rows": null,
       "grid_column": null,
       "grid_gap": null,
       "grid_row": null,
       "grid_template_areas": null,
       "grid_template_columns": null,
       "grid_template_rows": null,
       "height": null,
       "justify_content": null,
       "justify_items": null,
       "left": null,
       "margin": null,
       "max_height": null,
       "max_width": null,
       "min_height": null,
       "min_width": null,
       "object_fit": null,
       "object_position": null,
       "order": null,
       "overflow": null,
       "overflow_x": null,
       "overflow_y": null,
       "padding": null,
       "right": null,
       "top": null,
       "visibility": null,
       "width": null
      }
     },
     "28cd736159464c6db49c946f0b925ddd": {
      "model_module": "@jupyter-widgets/base",
      "model_module_version": "1.2.0",
      "model_name": "LayoutModel",
      "state": {
       "_model_module": "@jupyter-widgets/base",
       "_model_module_version": "1.2.0",
       "_model_name": "LayoutModel",
       "_view_count": null,
       "_view_module": "@jupyter-widgets/base",
       "_view_module_version": "1.2.0",
       "_view_name": "LayoutView",
       "align_content": null,
       "align_items": null,
       "align_self": null,
       "border": null,
       "bottom": null,
       "display": null,
       "flex": null,
       "flex_flow": null,
       "grid_area": null,
       "grid_auto_columns": null,
       "grid_auto_flow": null,
       "grid_auto_rows": null,
       "grid_column": null,
       "grid_gap": null,
       "grid_row": null,
       "grid_template_areas": null,
       "grid_template_columns": null,
       "grid_template_rows": null,
       "height": null,
       "justify_content": null,
       "justify_items": null,
       "left": null,
       "margin": null,
       "max_height": null,
       "max_width": null,
       "min_height": null,
       "min_width": null,
       "object_fit": null,
       "object_position": null,
       "order": null,
       "overflow": null,
       "overflow_x": null,
       "overflow_y": null,
       "padding": null,
       "right": null,
       "top": null,
       "visibility": null,
       "width": null
      }
     },
     "345f2240a8ac4fe5a387fb49d2d8b2bc": {
      "model_module": "@jupyter-widgets/base",
      "model_module_version": "1.2.0",
      "model_name": "LayoutModel",
      "state": {
       "_model_module": "@jupyter-widgets/base",
       "_model_module_version": "1.2.0",
       "_model_name": "LayoutModel",
       "_view_count": null,
       "_view_module": "@jupyter-widgets/base",
       "_view_module_version": "1.2.0",
       "_view_name": "LayoutView",
       "align_content": null,
       "align_items": null,
       "align_self": null,
       "border": null,
       "bottom": null,
       "display": null,
       "flex": null,
       "flex_flow": null,
       "grid_area": null,
       "grid_auto_columns": null,
       "grid_auto_flow": null,
       "grid_auto_rows": null,
       "grid_column": null,
       "grid_gap": null,
       "grid_row": null,
       "grid_template_areas": null,
       "grid_template_columns": null,
       "grid_template_rows": null,
       "height": null,
       "justify_content": null,
       "justify_items": null,
       "left": null,
       "margin": null,
       "max_height": null,
       "max_width": null,
       "min_height": null,
       "min_width": null,
       "object_fit": null,
       "object_position": null,
       "order": null,
       "overflow": null,
       "overflow_x": null,
       "overflow_y": null,
       "padding": null,
       "right": null,
       "top": null,
       "visibility": null,
       "width": null
      }
     },
     "3a9f34751f624a2696c9ed5ec813bd75": {
      "model_module": "@jupyter-widgets/controls",
      "model_module_version": "1.5.0",
      "model_name": "HTMLModel",
      "state": {
       "_dom_classes": [],
       "_model_module": "@jupyter-widgets/controls",
       "_model_module_version": "1.5.0",
       "_model_name": "HTMLModel",
       "_view_count": null,
       "_view_module": "@jupyter-widgets/controls",
       "_view_module_version": "1.5.0",
       "_view_name": "HTMLView",
       "description": "",
       "description_tooltip": null,
       "layout": "IPY_MODEL_28cd736159464c6db49c946f0b925ddd",
       "placeholder": "​",
       "style": "IPY_MODEL_98874878bcc54b4b94187d4584442187",
       "value": " 3/3 [01:43&lt;00:00, 28.51s/it]"
      }
     },
     "3b86a70909e14016935786a9a27f9f99": {
      "model_module": "@jupyter-widgets/controls",
      "model_module_version": "1.5.0",
      "model_name": "HTMLModel",
      "state": {
       "_dom_classes": [],
       "_model_module": "@jupyter-widgets/controls",
       "_model_module_version": "1.5.0",
       "_model_name": "HTMLModel",
       "_view_count": null,
       "_view_module": "@jupyter-widgets/controls",
       "_view_module_version": "1.5.0",
       "_view_name": "HTMLView",
       "description": "",
       "description_tooltip": null,
       "layout": "IPY_MODEL_345f2240a8ac4fe5a387fb49d2d8b2bc",
       "placeholder": "​",
       "style": "IPY_MODEL_abbf804ea9f046518919a95b247b65e2",
       "value": "100%"
      }
     },
     "4b393c035ff14541bdbe62012ca4cc06": {
      "model_module": "@jupyter-widgets/controls",
      "model_module_version": "1.5.0",
      "model_name": "HBoxModel",
      "state": {
       "_dom_classes": [],
       "_model_module": "@jupyter-widgets/controls",
       "_model_module_version": "1.5.0",
       "_model_name": "HBoxModel",
       "_view_count": null,
       "_view_module": "@jupyter-widgets/controls",
       "_view_module_version": "1.5.0",
       "_view_name": "HBoxView",
       "box_style": "",
       "children": [
        "IPY_MODEL_8129bfc807e14e3abef7ad7929a65721",
        "IPY_MODEL_ad9258e394fd451f88ab96ccc271363b",
        "IPY_MODEL_55d1ee3ab54644adbad6db0c051ec452"
       ],
       "layout": "IPY_MODEL_26f293196bd349eca90e8685953e4c9f"
      }
     },
     "55d1ee3ab54644adbad6db0c051ec452": {
      "model_module": "@jupyter-widgets/controls",
      "model_module_version": "1.5.0",
      "model_name": "HTMLModel",
      "state": {
       "_dom_classes": [],
       "_model_module": "@jupyter-widgets/controls",
       "_model_module_version": "1.5.0",
       "_model_name": "HTMLModel",
       "_view_count": null,
       "_view_module": "@jupyter-widgets/controls",
       "_view_module_version": "1.5.0",
       "_view_name": "HTMLView",
       "description": "",
       "description_tooltip": null,
       "layout": "IPY_MODEL_a09aebe75ae648cf95feff3175285178",
       "placeholder": "​",
       "style": "IPY_MODEL_640d4c0b18284fadba91bb3bde8050e6",
       "value": " 1/25 [01:41&lt;20:53, 52.23s/it]"
      }
     },
     "5fec2afb4c0e4765808b0e216f881c61": {
      "model_module": "@jupyter-widgets/base",
      "model_module_version": "1.2.0",
      "model_name": "LayoutModel",
      "state": {
       "_model_module": "@jupyter-widgets/base",
       "_model_module_version": "1.2.0",
       "_model_name": "LayoutModel",
       "_view_count": null,
       "_view_module": "@jupyter-widgets/base",
       "_view_module_version": "1.2.0",
       "_view_name": "LayoutView",
       "align_content": null,
       "align_items": null,
       "align_self": null,
       "border": null,
       "bottom": null,
       "display": null,
       "flex": null,
       "flex_flow": null,
       "grid_area": null,
       "grid_auto_columns": null,
       "grid_auto_flow": null,
       "grid_auto_rows": null,
       "grid_column": null,
       "grid_gap": null,
       "grid_row": null,
       "grid_template_areas": null,
       "grid_template_columns": null,
       "grid_template_rows": null,
       "height": null,
       "justify_content": null,
       "justify_items": null,
       "left": null,
       "margin": null,
       "max_height": null,
       "max_width": null,
       "min_height": null,
       "min_width": null,
       "object_fit": null,
       "object_position": null,
       "order": null,
       "overflow": null,
       "overflow_x": null,
       "overflow_y": null,
       "padding": null,
       "right": null,
       "top": null,
       "visibility": null,
       "width": null
      }
     },
     "640d4c0b18284fadba91bb3bde8050e6": {
      "model_module": "@jupyter-widgets/controls",
      "model_module_version": "1.5.0",
      "model_name": "DescriptionStyleModel",
      "state": {
       "_model_module": "@jupyter-widgets/controls",
       "_model_module_version": "1.5.0",
       "_model_name": "DescriptionStyleModel",
       "_view_count": null,
       "_view_module": "@jupyter-widgets/base",
       "_view_module_version": "1.2.0",
       "_view_name": "StyleView",
       "description_width": ""
      }
     },
     "6651f189996b4518807489824cf29a96": {
      "model_module": "@jupyter-widgets/controls",
      "model_module_version": "1.5.0",
      "model_name": "HBoxModel",
      "state": {
       "_dom_classes": [],
       "_model_module": "@jupyter-widgets/controls",
       "_model_module_version": "1.5.0",
       "_model_name": "HBoxModel",
       "_view_count": null,
       "_view_module": "@jupyter-widgets/controls",
       "_view_module_version": "1.5.0",
       "_view_name": "HBoxView",
       "box_style": "",
       "children": [
        "IPY_MODEL_3b86a70909e14016935786a9a27f9f99",
        "IPY_MODEL_c9e8d4e6322d48f5bd30508cf77d18ab",
        "IPY_MODEL_3a9f34751f624a2696c9ed5ec813bd75"
       ],
       "layout": "IPY_MODEL_92138f8103da4a738b82cea3ae3746c2"
      }
     },
     "68fa9917161c4c91bf96d14eb9de41cc": {
      "model_module": "@jupyter-widgets/base",
      "model_module_version": "1.2.0",
      "model_name": "LayoutModel",
      "state": {
       "_model_module": "@jupyter-widgets/base",
       "_model_module_version": "1.2.0",
       "_model_name": "LayoutModel",
       "_view_count": null,
       "_view_module": "@jupyter-widgets/base",
       "_view_module_version": "1.2.0",
       "_view_name": "LayoutView",
       "align_content": null,
       "align_items": null,
       "align_self": null,
       "border": null,
       "bottom": null,
       "display": null,
       "flex": null,
       "flex_flow": null,
       "grid_area": null,
       "grid_auto_columns": null,
       "grid_auto_flow": null,
       "grid_auto_rows": null,
       "grid_column": null,
       "grid_gap": null,
       "grid_row": null,
       "grid_template_areas": null,
       "grid_template_columns": null,
       "grid_template_rows": null,
       "height": null,
       "justify_content": null,
       "justify_items": null,
       "left": null,
       "margin": null,
       "max_height": null,
       "max_width": null,
       "min_height": null,
       "min_width": null,
       "object_fit": null,
       "object_position": null,
       "order": null,
       "overflow": null,
       "overflow_x": null,
       "overflow_y": null,
       "padding": null,
       "right": null,
       "top": null,
       "visibility": null,
       "width": null
      }
     },
     "6af9b47260b54dabba4a57ca51f4b2af": {
      "model_module": "@jupyter-widgets/controls",
      "model_module_version": "1.5.0",
      "model_name": "DescriptionStyleModel",
      "state": {
       "_model_module": "@jupyter-widgets/controls",
       "_model_module_version": "1.5.0",
       "_model_name": "DescriptionStyleModel",
       "_view_count": null,
       "_view_module": "@jupyter-widgets/base",
       "_view_module_version": "1.2.0",
       "_view_name": "StyleView",
       "description_width": ""
      }
     },
     "6bf2cea09ed8489e8d30a455f713422b": {
      "model_module": "@jupyter-widgets/base",
      "model_module_version": "1.2.0",
      "model_name": "LayoutModel",
      "state": {
       "_model_module": "@jupyter-widgets/base",
       "_model_module_version": "1.2.0",
       "_model_name": "LayoutModel",
       "_view_count": null,
       "_view_module": "@jupyter-widgets/base",
       "_view_module_version": "1.2.0",
       "_view_name": "LayoutView",
       "align_content": null,
       "align_items": null,
       "align_self": null,
       "border": null,
       "bottom": null,
       "display": null,
       "flex": null,
       "flex_flow": null,
       "grid_area": null,
       "grid_auto_columns": null,
       "grid_auto_flow": null,
       "grid_auto_rows": null,
       "grid_column": null,
       "grid_gap": null,
       "grid_row": null,
       "grid_template_areas": null,
       "grid_template_columns": null,
       "grid_template_rows": null,
       "height": null,
       "justify_content": null,
       "justify_items": null,
       "left": null,
       "margin": null,
       "max_height": null,
       "max_width": null,
       "min_height": null,
       "min_width": null,
       "object_fit": null,
       "object_position": null,
       "order": null,
       "overflow": null,
       "overflow_x": null,
       "overflow_y": null,
       "padding": null,
       "right": null,
       "top": null,
       "visibility": null,
       "width": null
      }
     },
     "7095e6d25fb949a2adb8ec3104841c0a": {
      "model_module": "@jupyter-widgets/controls",
      "model_module_version": "1.5.0",
      "model_name": "HTMLModel",
      "state": {
       "_dom_classes": [],
       "_model_module": "@jupyter-widgets/controls",
       "_model_module_version": "1.5.0",
       "_model_name": "HTMLModel",
       "_view_count": null,
       "_view_module": "@jupyter-widgets/controls",
       "_view_module_version": "1.5.0",
       "_view_name": "HTMLView",
       "description": "",
       "description_tooltip": null,
       "layout": "IPY_MODEL_6bf2cea09ed8489e8d30a455f713422b",
       "placeholder": "​",
       "style": "IPY_MODEL_8abcb3708e3a401583b10f07ad451311",
       "value": " 1/8 [01:47&lt;06:57, 59.70s/it]"
      }
     },
     "7b8ed520e4184f98a156a55d49d967e3": {
      "model_module": "@jupyter-widgets/controls",
      "model_module_version": "1.5.0",
      "model_name": "HTMLModel",
      "state": {
       "_dom_classes": [],
       "_model_module": "@jupyter-widgets/controls",
       "_model_module_version": "1.5.0",
       "_model_name": "HTMLModel",
       "_view_count": null,
       "_view_module": "@jupyter-widgets/controls",
       "_view_module_version": "1.5.0",
       "_view_name": "HTMLView",
       "description": "",
       "description_tooltip": null,
       "layout": "IPY_MODEL_129de8c4bfee41888836f26dedcb4c08",
       "placeholder": "​",
       "style": "IPY_MODEL_ddf6af24d3c241e2b574868da67eb892",
       "value": " 12%"
      }
     },
     "7f97a37481de46eba818285a76c87752": {
      "model_module": "@jupyter-widgets/controls",
      "model_module_version": "1.5.0",
      "model_name": "ProgressStyleModel",
      "state": {
       "_model_module": "@jupyter-widgets/controls",
       "_model_module_version": "1.5.0",
       "_model_name": "ProgressStyleModel",
       "_view_count": null,
       "_view_module": "@jupyter-widgets/base",
       "_view_module_version": "1.2.0",
       "_view_name": "StyleView",
       "bar_color": null,
       "description_width": ""
      }
     },
     "8129bfc807e14e3abef7ad7929a65721": {
      "model_module": "@jupyter-widgets/controls",
      "model_module_version": "1.5.0",
      "model_name": "HTMLModel",
      "state": {
       "_dom_classes": [],
       "_model_module": "@jupyter-widgets/controls",
       "_model_module_version": "1.5.0",
       "_model_name": "HTMLModel",
       "_view_count": null,
       "_view_module": "@jupyter-widgets/controls",
       "_view_module_version": "1.5.0",
       "_view_name": "HTMLView",
       "description": "",
       "description_tooltip": null,
       "layout": "IPY_MODEL_e44bcf146c8643288f83dc2d3cc93372",
       "placeholder": "​",
       "style": "IPY_MODEL_6af9b47260b54dabba4a57ca51f4b2af",
       "value": "  4%"
      }
     },
     "8abcb3708e3a401583b10f07ad451311": {
      "model_module": "@jupyter-widgets/controls",
      "model_module_version": "1.5.0",
      "model_name": "DescriptionStyleModel",
      "state": {
       "_model_module": "@jupyter-widgets/controls",
       "_model_module_version": "1.5.0",
       "_model_name": "DescriptionStyleModel",
       "_view_count": null,
       "_view_module": "@jupyter-widgets/base",
       "_view_module_version": "1.2.0",
       "_view_name": "StyleView",
       "description_width": ""
      }
     },
     "8af2550c150f47518ff79ea82044b832": {
      "model_module": "@jupyter-widgets/controls",
      "model_module_version": "1.5.0",
      "model_name": "FloatProgressModel",
      "state": {
       "_dom_classes": [],
       "_model_module": "@jupyter-widgets/controls",
       "_model_module_version": "1.5.0",
       "_model_name": "FloatProgressModel",
       "_view_count": null,
       "_view_module": "@jupyter-widgets/controls",
       "_view_module_version": "1.5.0",
       "_view_name": "ProgressView",
       "bar_style": "danger",
       "description": "",
       "description_tooltip": null,
       "layout": "IPY_MODEL_8c6dbd26544e4cc088da5697479b2782",
       "max": 8.0,
       "min": 0.0,
       "orientation": "horizontal",
       "style": "IPY_MODEL_d2d36b9a2bc5492b9a82db5efc7e6244",
       "value": 1.0
      }
     },
     "8c6dbd26544e4cc088da5697479b2782": {
      "model_module": "@jupyter-widgets/base",
      "model_module_version": "1.2.0",
      "model_name": "LayoutModel",
      "state": {
       "_model_module": "@jupyter-widgets/base",
       "_model_module_version": "1.2.0",
       "_model_name": "LayoutModel",
       "_view_count": null,
       "_view_module": "@jupyter-widgets/base",
       "_view_module_version": "1.2.0",
       "_view_name": "LayoutView",
       "align_content": null,
       "align_items": null,
       "align_self": null,
       "border": null,
       "bottom": null,
       "display": null,
       "flex": null,
       "flex_flow": null,
       "grid_area": null,
       "grid_auto_columns": null,
       "grid_auto_flow": null,
       "grid_auto_rows": null,
       "grid_column": null,
       "grid_gap": null,
       "grid_row": null,
       "grid_template_areas": null,
       "grid_template_columns": null,
       "grid_template_rows": null,
       "height": null,
       "justify_content": null,
       "justify_items": null,
       "left": null,
       "margin": null,
       "max_height": null,
       "max_width": null,
       "min_height": null,
       "min_width": null,
       "object_fit": null,
       "object_position": null,
       "order": null,
       "overflow": null,
       "overflow_x": null,
       "overflow_y": null,
       "padding": null,
       "right": null,
       "top": null,
       "visibility": null,
       "width": null
      }
     },
     "8e23821207cd40b59252e74d202dd8a8": {
      "model_module": "@jupyter-widgets/controls",
      "model_module_version": "1.5.0",
      "model_name": "HBoxModel",
      "state": {
       "_dom_classes": [],
       "_model_module": "@jupyter-widgets/controls",
       "_model_module_version": "1.5.0",
       "_model_name": "HBoxModel",
       "_view_count": null,
       "_view_module": "@jupyter-widgets/controls",
       "_view_module_version": "1.5.0",
       "_view_name": "HBoxView",
       "box_style": "",
       "children": [
        "IPY_MODEL_7b8ed520e4184f98a156a55d49d967e3",
        "IPY_MODEL_8af2550c150f47518ff79ea82044b832",
        "IPY_MODEL_7095e6d25fb949a2adb8ec3104841c0a"
       ],
       "layout": "IPY_MODEL_039f9cf6ed8b4245a221b89fb6d60130"
      }
     },
     "92138f8103da4a738b82cea3ae3746c2": {
      "model_module": "@jupyter-widgets/base",
      "model_module_version": "1.2.0",
      "model_name": "LayoutModel",
      "state": {
       "_model_module": "@jupyter-widgets/base",
       "_model_module_version": "1.2.0",
       "_model_name": "LayoutModel",
       "_view_count": null,
       "_view_module": "@jupyter-widgets/base",
       "_view_module_version": "1.2.0",
       "_view_name": "LayoutView",
       "align_content": null,
       "align_items": null,
       "align_self": null,
       "border": null,
       "bottom": null,
       "display": null,
       "flex": null,
       "flex_flow": null,
       "grid_area": null,
       "grid_auto_columns": null,
       "grid_auto_flow": null,
       "grid_auto_rows": null,
       "grid_column": null,
       "grid_gap": null,
       "grid_row": null,
       "grid_template_areas": null,
       "grid_template_columns": null,
       "grid_template_rows": null,
       "height": null,
       "justify_content": null,
       "justify_items": null,
       "left": null,
       "margin": null,
       "max_height": null,
       "max_width": null,
       "min_height": null,
       "min_width": null,
       "object_fit": null,
       "object_position": null,
       "order": null,
       "overflow": null,
       "overflow_x": null,
       "overflow_y": null,
       "padding": null,
       "right": null,
       "top": null,
       "visibility": null,
       "width": null
      }
     },
     "98874878bcc54b4b94187d4584442187": {
      "model_module": "@jupyter-widgets/controls",
      "model_module_version": "1.5.0",
      "model_name": "DescriptionStyleModel",
      "state": {
       "_model_module": "@jupyter-widgets/controls",
       "_model_module_version": "1.5.0",
       "_model_name": "DescriptionStyleModel",
       "_view_count": null,
       "_view_module": "@jupyter-widgets/base",
       "_view_module_version": "1.2.0",
       "_view_name": "StyleView",
       "description_width": ""
      }
     },
     "9eb6fae1882e4d28badcfa6b57de29bd": {
      "model_module": "@jupyter-widgets/controls",
      "model_module_version": "1.5.0",
      "model_name": "ProgressStyleModel",
      "state": {
       "_model_module": "@jupyter-widgets/controls",
       "_model_module_version": "1.5.0",
       "_model_name": "ProgressStyleModel",
       "_view_count": null,
       "_view_module": "@jupyter-widgets/base",
       "_view_module_version": "1.2.0",
       "_view_name": "StyleView",
       "bar_color": null,
       "description_width": ""
      }
     },
     "a09aebe75ae648cf95feff3175285178": {
      "model_module": "@jupyter-widgets/base",
      "model_module_version": "1.2.0",
      "model_name": "LayoutModel",
      "state": {
       "_model_module": "@jupyter-widgets/base",
       "_model_module_version": "1.2.0",
       "_model_name": "LayoutModel",
       "_view_count": null,
       "_view_module": "@jupyter-widgets/base",
       "_view_module_version": "1.2.0",
       "_view_name": "LayoutView",
       "align_content": null,
       "align_items": null,
       "align_self": null,
       "border": null,
       "bottom": null,
       "display": null,
       "flex": null,
       "flex_flow": null,
       "grid_area": null,
       "grid_auto_columns": null,
       "grid_auto_flow": null,
       "grid_auto_rows": null,
       "grid_column": null,
       "grid_gap": null,
       "grid_row": null,
       "grid_template_areas": null,
       "grid_template_columns": null,
       "grid_template_rows": null,
       "height": null,
       "justify_content": null,
       "justify_items": null,
       "left": null,
       "margin": null,
       "max_height": null,
       "max_width": null,
       "min_height": null,
       "min_width": null,
       "object_fit": null,
       "object_position": null,
       "order": null,
       "overflow": null,
       "overflow_x": null,
       "overflow_y": null,
       "padding": null,
       "right": null,
       "top": null,
       "visibility": null,
       "width": null
      }
     },
     "abbf804ea9f046518919a95b247b65e2": {
      "model_module": "@jupyter-widgets/controls",
      "model_module_version": "1.5.0",
      "model_name": "DescriptionStyleModel",
      "state": {
       "_model_module": "@jupyter-widgets/controls",
       "_model_module_version": "1.5.0",
       "_model_name": "DescriptionStyleModel",
       "_view_count": null,
       "_view_module": "@jupyter-widgets/base",
       "_view_module_version": "1.2.0",
       "_view_name": "StyleView",
       "description_width": ""
      }
     },
     "ad9258e394fd451f88ab96ccc271363b": {
      "model_module": "@jupyter-widgets/controls",
      "model_module_version": "1.5.0",
      "model_name": "FloatProgressModel",
      "state": {
       "_dom_classes": [],
       "_model_module": "@jupyter-widgets/controls",
       "_model_module_version": "1.5.0",
       "_model_name": "FloatProgressModel",
       "_view_count": null,
       "_view_module": "@jupyter-widgets/controls",
       "_view_module_version": "1.5.0",
       "_view_name": "ProgressView",
       "bar_style": "danger",
       "description": "",
       "description_tooltip": null,
       "layout": "IPY_MODEL_5fec2afb4c0e4765808b0e216f881c61",
       "max": 25.0,
       "min": 0.0,
       "orientation": "horizontal",
       "style": "IPY_MODEL_7f97a37481de46eba818285a76c87752",
       "value": 1.0
      }
     },
     "c9e8d4e6322d48f5bd30508cf77d18ab": {
      "model_module": "@jupyter-widgets/controls",
      "model_module_version": "1.5.0",
      "model_name": "FloatProgressModel",
      "state": {
       "_dom_classes": [],
       "_model_module": "@jupyter-widgets/controls",
       "_model_module_version": "1.5.0",
       "_model_name": "FloatProgressModel",
       "_view_count": null,
       "_view_module": "@jupyter-widgets/controls",
       "_view_module_version": "1.5.0",
       "_view_name": "ProgressView",
       "bar_style": "success",
       "description": "",
       "description_tooltip": null,
       "layout": "IPY_MODEL_68fa9917161c4c91bf96d14eb9de41cc",
       "max": 3.0,
       "min": 0.0,
       "orientation": "horizontal",
       "style": "IPY_MODEL_9eb6fae1882e4d28badcfa6b57de29bd",
       "value": 3.0
      }
     },
     "d2d36b9a2bc5492b9a82db5efc7e6244": {
      "model_module": "@jupyter-widgets/controls",
      "model_module_version": "1.5.0",
      "model_name": "ProgressStyleModel",
      "state": {
       "_model_module": "@jupyter-widgets/controls",
       "_model_module_version": "1.5.0",
       "_model_name": "ProgressStyleModel",
       "_view_count": null,
       "_view_module": "@jupyter-widgets/base",
       "_view_module_version": "1.2.0",
       "_view_name": "StyleView",
       "bar_color": null,
       "description_width": ""
      }
     },
     "ddf6af24d3c241e2b574868da67eb892": {
      "model_module": "@jupyter-widgets/controls",
      "model_module_version": "1.5.0",
      "model_name": "DescriptionStyleModel",
      "state": {
       "_model_module": "@jupyter-widgets/controls",
       "_model_module_version": "1.5.0",
       "_model_name": "DescriptionStyleModel",
       "_view_count": null,
       "_view_module": "@jupyter-widgets/base",
       "_view_module_version": "1.2.0",
       "_view_name": "StyleView",
       "description_width": ""
      }
     },
     "e44bcf146c8643288f83dc2d3cc93372": {
      "model_module": "@jupyter-widgets/base",
      "model_module_version": "1.2.0",
      "model_name": "LayoutModel",
      "state": {
       "_model_module": "@jupyter-widgets/base",
       "_model_module_version": "1.2.0",
       "_model_name": "LayoutModel",
       "_view_count": null,
       "_view_module": "@jupyter-widgets/base",
       "_view_module_version": "1.2.0",
       "_view_name": "LayoutView",
       "align_content": null,
       "align_items": null,
       "align_self": null,
       "border": null,
       "bottom": null,
       "display": null,
       "flex": null,
       "flex_flow": null,
       "grid_area": null,
       "grid_auto_columns": null,
       "grid_auto_flow": null,
       "grid_auto_rows": null,
       "grid_column": null,
       "grid_gap": null,
       "grid_row": null,
       "grid_template_areas": null,
       "grid_template_columns": null,
       "grid_template_rows": null,
       "height": null,
       "justify_content": null,
       "justify_items": null,
       "left": null,
       "margin": null,
       "max_height": null,
       "max_width": null,
       "min_height": null,
       "min_width": null,
       "object_fit": null,
       "object_position": null,
       "order": null,
       "overflow": null,
       "overflow_x": null,
       "overflow_y": null,
       "padding": null,
       "right": null,
       "top": null,
       "visibility": null,
       "width": null
      }
     }
    },
    "version_major": 2,
    "version_minor": 0
   }
  }
 },
 "nbformat": 4,
 "nbformat_minor": 5
}
