{
 "cells": [
  {
   "cell_type": "code",
   "execution_count": 1,
   "id": "5f6025c1",
   "metadata": {
    "_cell_guid": "b1076dfc-b9ad-4769-8c92-a6c4dae69d19",
    "_uuid": "8f2839f25d086af736a60e9eeb907d3b93b6e0e5",
    "execution": {
     "iopub.execute_input": "2022-09-27T18:09:50.716582Z",
     "iopub.status.busy": "2022-09-27T18:09:50.716120Z",
     "iopub.status.idle": "2022-09-27T18:10:11.235422Z",
     "shell.execute_reply": "2022-09-27T18:10:11.234104Z"
    },
    "papermill": {
     "duration": 20.531824,
     "end_time": "2022-09-27T18:10:11.238766",
     "exception": false,
     "start_time": "2022-09-27T18:09:50.706942",
     "status": "completed"
    },
    "tags": []
   },
   "outputs": [
    {
     "name": "stdout",
     "output_type": "stream",
     "text": [
      "Collecting torchsummary\r\n",
      "  Downloading torchsummary-1.5.1-py3-none-any.whl (2.8 kB)\r\n",
      "Installing collected packages: torchsummary\r\n",
      "Successfully installed torchsummary-1.5.1\r\n",
      "\u001b[33mWARNING: Running pip as the 'root' user can result in broken permissions and conflicting behaviour with the system package manager. It is recommended to use a virtual environment instead: https://pip.pypa.io/warnings/venv\u001b[0m\u001b[33m\r\n",
      "\u001b[0m"
     ]
    }
   ],
   "source": [
    "import numpy as np\n",
    "import pandas as pd\n",
    "from scipy.stats import entropy\n",
    "from sklearn.metrics import accuracy_score,classification_report,roc_auc_score,RocCurveDisplay\n",
    "from sklearn.model_selection import train_test_split\n",
    "from sklearn.ensemble import RandomForestClassifier\n",
    "import matplotlib.pyplot as plt\n",
    "\n",
    "# pytorch and pytorch lightning\n",
    "import torch\n",
    "import torch.nn as nn\n",
    "import torch.nn.functional as F\n",
    "from torch.utils.data import Dataset, DataLoader, Subset\n",
    "import torchvision \n",
    "from torchvision import datasets\n",
    "import torchvision.transforms as transforms\n",
    "!pip install torchsummary\n",
    "from torchsummary import summary\n",
    "try:\n",
    "    import pytorch_lightning as pl\n",
    "except ModuleNotFoundError: # Google Colab does not have PyTorch Lightning installed by default. Hence, we do it here if necessary\n",
    "    !pip install --quiet pytorch-lightning>=1.4\n",
    "    import pytorch_lightning as pl\n",
    "from pytorch_lightning.callbacks import LearningRateMonitor, ModelCheckpoint\n",
    "\n",
    "# others\n",
    "import os\n",
    "from tqdm import tqdm_notebook as tqdm\n",
    "import time\n",
    "import warnings\n",
    "warnings.simplefilter(\"ignore\")\n",
    "warnings.filterwarnings(\"ignore\", category=DeprecationWarning)\n",
    "warnings.filterwarnings(\"ignore\", category=UserWarning)\n",
    "warnings.filterwarnings(\"ignore\", category=FutureWarning)"
   ]
  },
  {
   "cell_type": "code",
   "execution_count": 2,
   "id": "fe93bb3c",
   "metadata": {
    "execution": {
     "iopub.execute_input": "2022-09-27T18:10:11.254450Z",
     "iopub.status.busy": "2022-09-27T18:10:11.253005Z",
     "iopub.status.idle": "2022-09-27T18:10:11.265909Z",
     "shell.execute_reply": "2022-09-27T18:10:11.264505Z"
    },
    "papermill": {
     "duration": 0.023394,
     "end_time": "2022-09-27T18:10:11.268771",
     "exception": false,
     "start_time": "2022-09-27T18:10:11.245377",
     "status": "completed"
    },
    "tags": []
   },
   "outputs": [
    {
     "name": "stdout",
     "output_type": "stream",
     "text": [
      "Device: cpu\n"
     ]
    }
   ],
   "source": [
    "# Setting the seed\n",
    "pl.seed_everything(42)\n",
    "\n",
    "# Ensure that all operations are deterministic on GPU (if used) for reproducibility\n",
    "torch.backends.cudnn.deterministic = True\n",
    "torch.backends.cudnn.benchmark = False\n",
    "\n",
    "device = torch.device(\"cuda:0\") if torch.cuda.is_available() else torch.device(\"cpu\")\n",
    "print(\"Device:\", device)\n",
    "# print(\"Number of workers:\", NUM_WORKERS)"
   ]
  },
  {
   "cell_type": "code",
   "execution_count": 3,
   "id": "6fbd1252",
   "metadata": {
    "execution": {
     "iopub.execute_input": "2022-09-27T18:10:11.285268Z",
     "iopub.status.busy": "2022-09-27T18:10:11.284752Z",
     "iopub.status.idle": "2022-09-27T18:10:11.291499Z",
     "shell.execute_reply": "2022-09-27T18:10:11.290015Z"
    },
    "papermill": {
     "duration": 0.018071,
     "end_time": "2022-09-27T18:10:11.294084",
     "exception": false,
     "start_time": "2022-09-27T18:10:11.276013",
     "status": "completed"
    },
    "tags": []
   },
   "outputs": [],
   "source": [
    "# global constants\n",
    "IMAGE_SIZE = (224, 224)\n",
    "NUM_CLASSES = 3"
   ]
  },
  {
   "cell_type": "code",
   "execution_count": 4,
   "id": "ed3274b7",
   "metadata": {
    "execution": {
     "iopub.execute_input": "2022-09-27T18:10:11.310627Z",
     "iopub.status.busy": "2022-09-27T18:10:11.310109Z",
     "iopub.status.idle": "2022-09-27T18:10:11.317356Z",
     "shell.execute_reply": "2022-09-27T18:10:11.316169Z"
    },
    "papermill": {
     "duration": 0.018746,
     "end_time": "2022-09-27T18:10:11.319626",
     "exception": false,
     "start_time": "2022-09-27T18:10:11.300880",
     "status": "completed"
    },
    "tags": []
   },
   "outputs": [],
   "source": [
    "# define image transformation for detection of dataset shift\n",
    "def images_transforms():\n",
    "    data_transformation = transforms.Compose([\n",
    "        transforms.Resize(IMAGE_SIZE),\n",
    "        transforms.ToTensor(),\n",
    "        transforms.Normalize([0.485, 0.456, 0.406],[0.229, 0.224, 0.225])\n",
    "    ])\n",
    "    return data_transformation"
   ]
  },
  {
   "cell_type": "code",
   "execution_count": 5,
   "id": "7074ce73",
   "metadata": {
    "execution": {
     "iopub.execute_input": "2022-09-27T18:10:11.336170Z",
     "iopub.status.busy": "2022-09-27T18:10:11.334902Z",
     "iopub.status.idle": "2022-09-27T18:10:18.795996Z",
     "shell.execute_reply": "2022-09-27T18:10:18.793956Z"
    },
    "papermill": {
     "duration": 7.472713,
     "end_time": "2022-09-27T18:10:18.798976",
     "exception": false,
     "start_time": "2022-09-27T18:10:11.326263",
     "status": "completed"
    },
    "tags": []
   },
   "outputs": [
    {
     "name": "stdout",
     "output_type": "stream",
     "text": [
      "Training set size: 251\n",
      "Validation set size: 66\n",
      "Deployment set size: 800\n",
      "{'Covid': 0, 'Normal': 1, 'Viral Pneumonia': 2}\n"
     ]
    }
   ],
   "source": [
    "# dataset path\n",
    "train_path='../input/covid19-image-dataset/Covid19-dataset/train'\n",
    "val_path='../input/covid19-image-dataset/Covid19-dataset/test/'\n",
    "deploy_path='../input/covid19radiographydatabaseedited/COVID-19_Radiography_Dataset'\n",
    "\n",
    "# import data\n",
    "trainset=datasets.ImageFolder(train_path,transform=images_transforms())\n",
    "valset=datasets.ImageFolder(val_path,transform=images_transforms())\n",
    "deployset=datasets.ImageFolder(deploy_path,transform=images_transforms())\n",
    "\n",
    "# reduce size of deployment data (for computational time and memory)\n",
    "n_deployment = 800\n",
    "deploy_idx = np.random.choice(len(deployset.targets), size=n_deployment, replace=False)\n",
    "deployset = Subset(deployset, deploy_idx)\n",
    "\n",
    "print(\"Training set size: {}\\nValidation set size: {}\\nDeployment set size: {}\".format(len(trainset.targets),len(valset.targets),n_deployment))\n",
    "print(trainset.class_to_idx)"
   ]
  },
  {
   "cell_type": "code",
   "execution_count": 6,
   "id": "0c011b33",
   "metadata": {
    "execution": {
     "iopub.execute_input": "2022-09-27T18:10:18.814366Z",
     "iopub.status.busy": "2022-09-27T18:10:18.813837Z",
     "iopub.status.idle": "2022-09-27T18:10:18.826564Z",
     "shell.execute_reply": "2022-09-27T18:10:18.825049Z"
    },
    "papermill": {
     "duration": 0.023823,
     "end_time": "2022-09-27T18:10:18.829187",
     "exception": false,
     "start_time": "2022-09-27T18:10:18.805364",
     "status": "completed"
    },
    "tags": []
   },
   "outputs": [
    {
     "data": {
      "text/plain": [
       "'\\ndef imshow(img):\\n    plt.figure(figsize=(20, 20))\\n    invTrans = transforms.Compose([ transforms.Normalize(mean = [ 0., 0., 0. ],\\n                                                     std = [ 1/0.229, 1/0.224, 1/0.225 ]),\\n                                transforms.Normalize(mean = [ -0.485, -0.456, -0.406 ],\\n                                                     std = [ 1., 1., 1. ]),\\n                               ])\\n    img = invTrans(img) # unnormalize\\n    npimg = img.numpy()\\n    plt.imshow(np.transpose(npimg, (1, 2, 0)))\\n    plt.show()\\n'"
      ]
     },
     "execution_count": 6,
     "metadata": {},
     "output_type": "execute_result"
    }
   ],
   "source": [
    "'''\n",
    "def imshow(img):\n",
    "    plt.figure(figsize=(20, 20))\n",
    "    invTrans = transforms.Compose([ transforms.Normalize(mean = [ 0., 0., 0. ],\n",
    "                                                     std = [ 1/0.229, 1/0.224, 1/0.225 ]),\n",
    "                                transforms.Normalize(mean = [ -0.485, -0.456, -0.406 ],\n",
    "                                                     std = [ 1., 1., 1. ]),\n",
    "                               ])\n",
    "    img = invTrans(img) # unnormalize\n",
    "    npimg = img.numpy()\n",
    "    plt.imshow(np.transpose(npimg, (1, 2, 0)))\n",
    "    plt.show()\n",
    "'''"
   ]
  },
  {
   "cell_type": "code",
   "execution_count": 7,
   "id": "f49265a9",
   "metadata": {
    "execution": {
     "iopub.execute_input": "2022-09-27T18:10:18.844828Z",
     "iopub.status.busy": "2022-09-27T18:10:18.843931Z",
     "iopub.status.idle": "2022-09-27T18:10:18.853132Z",
     "shell.execute_reply": "2022-09-27T18:10:18.851590Z"
    },
    "papermill": {
     "duration": 0.020266,
     "end_time": "2022-09-27T18:10:18.855854",
     "exception": false,
     "start_time": "2022-09-27T18:10:18.835588",
     "status": "completed"
    },
    "tags": []
   },
   "outputs": [
    {
     "data": {
      "text/plain": [
       "'\\n# Training data visualization\\ntrain_loader = DataLoader(trainset,batch_size=16,shuffle=True,num_workers=2)\\ntrain_examples = iter(train_loader)\\nimages,labels = train_examples.next()\\nprint(images.shape)\\nimshow(torchvision.utils.make_grid(images))\\n'"
      ]
     },
     "execution_count": 7,
     "metadata": {},
     "output_type": "execute_result"
    }
   ],
   "source": [
    "'''\n",
    "# Training data visualization\n",
    "train_loader = DataLoader(trainset,batch_size=16,shuffle=True,num_workers=2)\n",
    "train_examples = iter(train_loader)\n",
    "images,labels = train_examples.next()\n",
    "print(images.shape)\n",
    "imshow(torchvision.utils.make_grid(images))\n",
    "'''"
   ]
  },
  {
   "cell_type": "code",
   "execution_count": 8,
   "id": "7d2092fc",
   "metadata": {
    "execution": {
     "iopub.execute_input": "2022-09-27T18:10:18.871330Z",
     "iopub.status.busy": "2022-09-27T18:10:18.870829Z",
     "iopub.status.idle": "2022-09-27T18:10:18.879058Z",
     "shell.execute_reply": "2022-09-27T18:10:18.877945Z"
    },
    "papermill": {
     "duration": 0.019349,
     "end_time": "2022-09-27T18:10:18.881797",
     "exception": false,
     "start_time": "2022-09-27T18:10:18.862448",
     "status": "completed"
    },
    "tags": []
   },
   "outputs": [
    {
     "data": {
      "text/plain": [
       "'\\n# Deployment data visualization\\ndeploy_loader = DataLoader(deployset,batch_size=16,shuffle=True,num_workers=2)\\ndeploy_examples = iter(deploy_loader)\\nimages,labels = deploy_examples.next()\\nprint(images.shape)\\nimshow(torchvision.utils.make_grid(images))\\n'"
      ]
     },
     "execution_count": 8,
     "metadata": {},
     "output_type": "execute_result"
    }
   ],
   "source": [
    "'''\n",
    "# Deployment data visualization\n",
    "deploy_loader = DataLoader(deployset,batch_size=16,shuffle=True,num_workers=2)\n",
    "deploy_examples = iter(deploy_loader)\n",
    "images,labels = deploy_examples.next()\n",
    "print(images.shape)\n",
    "imshow(torchvision.utils.make_grid(images))\n",
    "'''"
   ]
  },
  {
   "cell_type": "markdown",
   "id": "4025773b",
   "metadata": {
    "papermill": {
     "duration": 0.006566,
     "end_time": "2022-09-27T18:10:18.895152",
     "exception": false,
     "start_time": "2022-09-27T18:10:18.888586",
     "status": "completed"
    },
    "tags": []
   },
   "source": [
    "# Histograms on the distribution of images"
   ]
  },
  {
   "cell_type": "code",
   "execution_count": 9,
   "id": "c2f70e43",
   "metadata": {
    "execution": {
     "iopub.execute_input": "2022-09-27T18:10:18.910837Z",
     "iopub.status.busy": "2022-09-27T18:10:18.910351Z",
     "iopub.status.idle": "2022-09-27T18:10:32.053520Z",
     "shell.execute_reply": "2022-09-27T18:10:32.052297Z"
    },
    "papermill": {
     "duration": 13.154035,
     "end_time": "2022-09-27T18:10:32.055824",
     "exception": false,
     "start_time": "2022-09-27T18:10:18.901789",
     "status": "completed"
    },
    "tags": []
   },
   "outputs": [
    {
     "data": {
      "application/vnd.jupyter.widget-view+json": {
       "model_id": "8e02096ac6d24f0db0ac5536bc1b28ee",
       "version_major": 2,
       "version_minor": 0
      },
      "text/plain": [
       "  0%|          | 0/16 [00:00<?, ?it/s]"
      ]
     },
     "metadata": {},
     "output_type": "display_data"
    },
    {
     "name": "stdout",
     "output_type": "stream",
     "text": [
      "torch.Size([251, 3, 224, 224])\n",
      "torch.Size([12594176])\n"
     ]
    }
   ],
   "source": [
    "BATCH_SIZE = 16\n",
    "train_loader = DataLoader(trainset,batch_size=BATCH_SIZE,shuffle=True,num_workers=2)\n",
    "train_values = torch.zeros(len(trainset.targets), NUM_CLASSES, *IMAGE_SIZE)\n",
    "\n",
    "for i, (images, labels) in enumerate(tqdm(train_loader, total=int(len(train_loader)))):\n",
    "    train_values[BATCH_SIZE*i:BATCH_SIZE*i+images.shape[0],:,:,:] = images\n",
    "\n",
    "print(train_values.shape)\n",
    "train_values = torch.mean(train_values, dim=1).reshape(-1)\n",
    "print(train_values.shape)"
   ]
  },
  {
   "cell_type": "code",
   "execution_count": 10,
   "id": "4e079a47",
   "metadata": {
    "execution": {
     "iopub.execute_input": "2022-09-27T18:10:32.072326Z",
     "iopub.status.busy": "2022-09-27T18:10:32.071118Z",
     "iopub.status.idle": "2022-09-27T18:12:17.359742Z",
     "shell.execute_reply": "2022-09-27T18:12:17.358549Z"
    },
    "papermill": {
     "duration": 105.30852,
     "end_time": "2022-09-27T18:12:17.371325",
     "exception": false,
     "start_time": "2022-09-27T18:10:32.062805",
     "status": "completed"
    },
    "tags": []
   },
   "outputs": [
    {
     "data": {
      "image/png": "[encoded data removed]",
      "text/plain": [
       "<Figure size 432x288 with 1 Axes>"
      ]
     },
     "metadata": {
      "needs_background": "light"
     },
     "output_type": "display_data"
    }
   ],
   "source": [
    "plt.hist(train_values, bins=120, range=(-3,3), density=True)\n",
    "plt.title(\"Training data\")\n",
    "plt.xlabel(\"value\")\n",
    "plt.ylabel(\"density\")\n",
    "plt.show()"
   ]
  },
  {
   "cell_type": "code",
   "execution_count": 11,
   "id": "bfad3ce6",
   "metadata": {
    "execution": {
     "iopub.execute_input": "2022-09-27T18:12:17.389828Z",
     "iopub.status.busy": "2022-09-27T18:12:17.389388Z",
     "iopub.status.idle": "2022-09-27T18:12:19.778549Z",
     "shell.execute_reply": "2022-09-27T18:12:19.776919Z"
    },
    "papermill": {
     "duration": 2.401915,
     "end_time": "2022-09-27T18:12:19.781399",
     "exception": false,
     "start_time": "2022-09-27T18:12:17.379484",
     "status": "completed"
    },
    "tags": []
   },
   "outputs": [
    {
     "data": {
      "application/vnd.jupyter.widget-view+json": {
       "model_id": "45441e690115425f80099dcfbfd75037",
       "version_major": 2,
       "version_minor": 0
      },
      "text/plain": [
       "  0%|          | 0/5 [00:00<?, ?it/s]"
      ]
     },
     "metadata": {},
     "output_type": "display_data"
    },
    {
     "name": "stdout",
     "output_type": "stream",
     "text": [
      "torch.Size([66, 3, 224, 224])\n",
      "torch.Size([3311616])\n"
     ]
    }
   ],
   "source": [
    "val_loader = DataLoader(valset,batch_size=BATCH_SIZE,shuffle=True,num_workers=2)\n",
    "val_values = torch.zeros(len(valset.targets), NUM_CLASSES, *IMAGE_SIZE)\n",
    "\n",
    "for i, (images, labels) in enumerate(tqdm(val_loader, total=int(len(val_loader)))):\n",
    "    val_values[BATCH_SIZE*i:BATCH_SIZE*i+images.shape[0],:,:,:] = images\n",
    "\n",
    "print(val_values.shape)\n",
    "val_values = torch.mean(val_values, dim=1).reshape(-1)\n",
    "print(val_values.shape)"
   ]
  },
  {
   "cell_type": "code",
   "execution_count": 12,
   "id": "93dc4f3b",
   "metadata": {
    "execution": {
     "iopub.execute_input": "2022-09-27T18:12:19.799620Z",
     "iopub.status.busy": "2022-09-27T18:12:19.798421Z",
     "iopub.status.idle": "2022-09-27T18:12:46.618950Z",
     "shell.execute_reply": "2022-09-27T18:12:46.617646Z"
    },
    "papermill": {
     "duration": 26.832369,
     "end_time": "2022-09-27T18:12:46.621336",
     "exception": false,
     "start_time": "2022-09-27T18:12:19.788967",
     "status": "completed"
    },
    "tags": []
   },
   "outputs": [
    {
     "data": {
      "image/png": "[encoded data removed]",
      "text/plain": [
       "<Figure size 432x288 with 1 Axes>"
      ]
     },
     "metadata": {
      "needs_background": "light"
     },
     "output_type": "display_data"
    }
   ],
   "source": [
    "plt.hist(val_values, bins=120, range=(-3,3), density=True)\n",
    "plt.title(\"Validation data\")\n",
    "plt.xlabel(\"value\")\n",
    "plt.ylabel(\"density\")\n",
    "plt.show()"
   ]
  },
  {
   "cell_type": "code",
   "execution_count": 13,
   "id": "40ef2521",
   "metadata": {
    "execution": {
     "iopub.execute_input": "2022-09-27T18:12:46.638368Z",
     "iopub.status.busy": "2022-09-27T18:12:46.637940Z",
     "iopub.status.idle": "2022-09-27T18:12:48.113382Z",
     "shell.execute_reply": "2022-09-27T18:12:48.111137Z"
    },
    "papermill": {
     "duration": 1.487073,
     "end_time": "2022-09-27T18:12:48.116014",
     "exception": false,
     "start_time": "2022-09-27T18:12:46.628941",
     "status": "completed"
    },
    "tags": []
   },
   "outputs": [
    {
     "data": {
      "application/vnd.jupyter.widget-view+json": {
       "model_id": "c0e6859b8bf74c0da2bb7d0f3885ca38",
       "version_major": 2,
       "version_minor": 0
      },
      "text/plain": [
       "  0%|          | 0/50 [00:00<?, ?it/s]"
      ]
     },
     "metadata": {},
     "output_type": "display_data"
    },
    {
     "name": "stdout",
     "output_type": "stream",
     "text": [
      "torch.Size([160, 3, 224, 224])\n",
      "torch.Size([8028160])\n"
     ]
    }
   ],
   "source": [
    "deploy_loader = DataLoader(deployset,batch_size=BATCH_SIZE,shuffle=True,num_workers=2)\n",
    "deploy_values = torch.zeros(BATCH_SIZE*10, NUM_CLASSES, *IMAGE_SIZE)\n",
    "\n",
    "for i, (images, labels) in enumerate(tqdm(deploy_loader, total=int(len(deploy_loader)))):\n",
    "    deploy_values[BATCH_SIZE*i:BATCH_SIZE*i+images.shape[0],:,:,:] = images\n",
    "    if i == 9:\n",
    "        break\n",
    "\n",
    "print(deploy_values.shape)\n",
    "deploy_values = torch.mean(deploy_values, dim=1).reshape(-1)\n",
    "print(deploy_values.shape)"
   ]
  },
  {
   "cell_type": "code",
   "execution_count": 14,
   "id": "9add7d7b",
   "metadata": {
    "execution": {
     "iopub.execute_input": "2022-09-27T18:12:48.133401Z",
     "iopub.status.busy": "2022-09-27T18:12:48.132938Z",
     "iopub.status.idle": "2022-09-27T18:13:52.585380Z",
     "shell.execute_reply": "2022-09-27T18:13:52.584262Z"
    },
    "papermill": {
     "duration": 64.471243,
     "end_time": "2022-09-27T18:13:52.594972",
     "exception": false,
     "start_time": "2022-09-27T18:12:48.123729",
     "status": "completed"
    },
    "tags": []
   },
   "outputs": [
    {
     "data": {
      "image/png": "[encoded data removed]",
      "text/plain": [
       "<Figure size 432x288 with 1 Axes>"
      ]
     },
     "metadata": {
      "needs_background": "light"
     },
     "output_type": "display_data"
    }
   ],
   "source": [
    "plt.hist(deploy_values, bins=120, range=(-3,3), density=True)\n",
    "plt.title(\"Deployment data\")\n",
    "plt.xlabel(\"value\")\n",
    "plt.ylabel(\"density\")\n",
    "plt.show()"
   ]
  },
  {
   "cell_type": "markdown",
   "id": "e0d0e92f",
   "metadata": {
    "papermill": {
     "duration": 0.007522,
     "end_time": "2022-09-27T18:13:52.610181",
     "exception": false,
     "start_time": "2022-09-27T18:13:52.602659",
     "status": "completed"
    },
    "tags": []
   },
   "source": [
    "# KS divergence"
   ]
  },
  {
   "cell_type": "code",
   "execution_count": 15,
   "id": "b11a3efd",
   "metadata": {
    "execution": {
     "iopub.execute_input": "2022-09-27T18:13:52.627851Z",
     "iopub.status.busy": "2022-09-27T18:13:52.627426Z",
     "iopub.status.idle": "2022-09-27T18:13:59.280904Z",
     "shell.execute_reply": "2022-09-27T18:13:59.280013Z"
    },
    "papermill": {
     "duration": 6.665461,
     "end_time": "2022-09-27T18:13:59.283451",
     "exception": false,
     "start_time": "2022-09-27T18:13:52.617990",
     "status": "completed"
    },
    "tags": []
   },
   "outputs": [],
   "source": [
    "from scipy.stats import ks_2samp\n",
    "stat_detect, p_detect = ks_2samp(train_values, deploy_values)\n",
    "stat_control, p_control = ks_2samp(train_values, val_values)"
   ]
  },
  {
   "cell_type": "code",
   "execution_count": 16,
   "id": "e5ce0698",
   "metadata": {
    "execution": {
     "iopub.execute_input": "2022-09-27T18:13:59.301676Z",
     "iopub.status.busy": "2022-09-27T18:13:59.300624Z",
     "iopub.status.idle": "2022-09-27T18:13:59.306813Z",
     "shell.execute_reply": "2022-09-27T18:13:59.305654Z"
    },
    "papermill": {
     "duration": 0.017618,
     "end_time": "2022-09-27T18:13:59.309085",
     "exception": false,
     "start_time": "2022-09-27T18:13:59.291467",
     "status": "completed"
    },
    "tags": []
   },
   "outputs": [
    {
     "name": "stdout",
     "output_type": "stream",
     "text": [
      "Detection: KS value is 0.073 with p-value 0.0\n",
      "Control: KS value is 0.015 with p-value 0.0\n"
     ]
    }
   ],
   "source": [
    "print(\"Detection: KS value is {:.3f} with p-value {}\".format(stat_detect, p_detect))\n",
    "print(\"Control: KS value is {:.3f} with p-value {}\".format(stat_control, p_control))"
   ]
  },
  {
   "cell_type": "markdown",
   "id": "bddc1139",
   "metadata": {
    "papermill": {
     "duration": 0.007598,
     "end_time": "2022-09-27T18:13:59.324903",
     "exception": false,
     "start_time": "2022-09-27T18:13:59.317305",
     "status": "completed"
    },
    "tags": []
   },
   "source": [
    "# Investigation on the classes of dataset A / B"
   ]
  },
  {
   "cell_type": "code",
   "execution_count": 17,
   "id": "de82061a",
   "metadata": {
    "execution": {
     "iopub.execute_input": "2022-09-27T18:13:59.342639Z",
     "iopub.status.busy": "2022-09-27T18:13:59.341974Z",
     "iopub.status.idle": "2022-09-27T18:14:09.104939Z",
     "shell.execute_reply": "2022-09-27T18:14:09.103576Z"
    },
    "papermill": {
     "duration": 9.774906,
     "end_time": "2022-09-27T18:14:09.107549",
     "exception": false,
     "start_time": "2022-09-27T18:13:59.332643",
     "status": "completed"
    },
    "tags": []
   },
   "outputs": [
    {
     "data": {
      "application/vnd.jupyter.widget-view+json": {
       "model_id": "c19e36cc1b924e77b67ee45d7afc2e53",
       "version_major": 2,
       "version_minor": 0
      },
      "text/plain": [
       "  0%|          | 0/16 [00:00<?, ?it/s]"
      ]
     },
     "metadata": {},
     "output_type": "display_data"
    },
    {
     "name": "stdout",
     "output_type": "stream",
     "text": [
      "torch.Size([251, 3, 224, 224])\n"
     ]
    }
   ],
   "source": [
    "train_loader = DataLoader(trainset,batch_size=BATCH_SIZE,shuffle=True,num_workers=2)\n",
    "train_values = torch.zeros(len(trainset.targets), NUM_CLASSES, *IMAGE_SIZE)\n",
    "train_labels = torch.zeros(len(trainset.targets))\n",
    "\n",
    "for i, (images, labels) in enumerate(tqdm(train_loader, total=int(len(train_loader)))):\n",
    "    train_values[BATCH_SIZE*i:BATCH_SIZE*i+images.shape[0],:,:,:] = images\n",
    "    train_labels[BATCH_SIZE*i:BATCH_SIZE*i+images.shape[0]] = labels\n",
    "\n",
    "print(train_values.shape)"
   ]
  },
  {
   "cell_type": "code",
   "execution_count": 18,
   "id": "c82d0271",
   "metadata": {
    "execution": {
     "iopub.execute_input": "2022-09-27T18:14:09.126599Z",
     "iopub.status.busy": "2022-09-27T18:14:09.125654Z",
     "iopub.status.idle": "2022-09-27T18:14:10.932719Z",
     "shell.execute_reply": "2022-09-27T18:14:10.930789Z"
    },
    "papermill": {
     "duration": 1.820068,
     "end_time": "2022-09-27T18:14:10.935980",
     "exception": false,
     "start_time": "2022-09-27T18:14:09.115912",
     "status": "completed"
    },
    "tags": []
   },
   "outputs": [
    {
     "data": {
      "application/vnd.jupyter.widget-view+json": {
       "model_id": "1859266055b64dabadf26d89cf47ff65",
       "version_major": 2,
       "version_minor": 0
      },
      "text/plain": [
       "  0%|          | 0/5 [00:00<?, ?it/s]"
      ]
     },
     "metadata": {},
     "output_type": "display_data"
    },
    {
     "name": "stdout",
     "output_type": "stream",
     "text": [
      "torch.Size([66, 3, 224, 224])\n"
     ]
    }
   ],
   "source": [
    "val_loader = DataLoader(valset,batch_size=BATCH_SIZE,shuffle=True,num_workers=2)\n",
    "val_values = torch.zeros(len(valset.targets), NUM_CLASSES, *IMAGE_SIZE)\n",
    "val_labels = torch.zeros(len(valset.targets))\n",
    "\n",
    "for i, (images, labels) in enumerate(tqdm(val_loader, total=int(len(val_loader)))):\n",
    "    val_values[BATCH_SIZE*i:BATCH_SIZE*i+images.shape[0],:,:,:] = images\n",
    "    val_labels[BATCH_SIZE*i:BATCH_SIZE*i+images.shape[0]] = labels\n",
    "\n",
    "print(val_values.shape)"
   ]
  },
  {
   "cell_type": "code",
   "execution_count": 19,
   "id": "86a6efc8",
   "metadata": {
    "execution": {
     "iopub.execute_input": "2022-09-27T18:14:10.959855Z",
     "iopub.status.busy": "2022-09-27T18:14:10.959424Z",
     "iopub.status.idle": "2022-09-27T18:16:25.780635Z",
     "shell.execute_reply": "2022-09-27T18:16:25.779036Z"
    },
    "papermill": {
     "duration": 134.837241,
     "end_time": "2022-09-27T18:16:25.783257",
     "exception": false,
     "start_time": "2022-09-27T18:14:10.946016",
     "status": "completed"
    },
    "tags": []
   },
   "outputs": [
    {
     "name": "stdout",
     "output_type": "stream",
     "text": [
      "torch.Size([137, 3, 224, 224])\n",
      "Detection for data \"COVID\": KS value is 0.028 with p-value 0.0\n",
      "torch.Size([90, 3, 224, 224])\n",
      "Detection for data \"Normal\": KS value is 0.116 with p-value 0.0\n",
      "torch.Size([90, 3, 224, 224])\n",
      "Detection for data \"Viral Pneumonia\": KS value is 0.128 with p-value 0.0\n"
     ]
    },
    {
     "data": {
      "image/png": "[encoded data removed]",
      "text/plain": [
       "<Figure size 720x720 with 3 Axes>"
      ]
     },
     "metadata": {
      "needs_background": "light"
     },
     "output_type": "display_data"
    }
   ],
   "source": [
    "values_list = []\n",
    "plt.figure(figsize=(10, 10))\n",
    "\n",
    "for c in range(NUM_CLASSES):\n",
    "    plt.subplot(311+c)\n",
    "    train_values_by_class = train_values[np.where(train_labels==c)[0],:,:,:]\n",
    "    val_values_by_class = val_values[np.where(val_labels==c)[0],:,:,:]\n",
    "    values = torch.cat((train_values_by_class, val_values_by_class), dim=0)\n",
    "    print(values.shape)\n",
    "    values = torch.mean(values, dim=1).reshape(-1)\n",
    "    stat_detect, p_detect = ks_2samp(values, deploy_values)\n",
    "    values_list.append(values)\n",
    "    plt.hist(values, bins=120, range=(-3,3), density=True)\n",
    "    if c == 0:\n",
    "        title = \"COVID\"\n",
    "    elif c == 1:\n",
    "        title = \"Normal\"\n",
    "    else:\n",
    "        title = \"Viral Pneumonia\"\n",
    "    print(\"Detection for data \\\"{}\\\": KS value is {:.3f} with p-value {}\".format(title, stat_detect, p_detect))\n",
    "    plt.title(title)\n",
    "    plt.xlabel(\"value\")\n",
    "    plt.ylabel(\"density\")\n",
    "\n",
    "plt.subplots_adjust(hspace = 0.2)\n",
    "plt.show()"
   ]
  },
  {
   "cell_type": "code",
   "execution_count": 20,
   "id": "ead363a7",
   "metadata": {
    "execution": {
     "iopub.execute_input": "2022-09-27T18:16:25.803095Z",
     "iopub.status.busy": "2022-09-27T18:16:25.802629Z",
     "iopub.status.idle": "2022-09-27T18:16:31.454848Z",
     "shell.execute_reply": "2022-09-27T18:16:31.453914Z"
    },
    "papermill": {
     "duration": 5.665716,
     "end_time": "2022-09-27T18:16:31.458001",
     "exception": false,
     "start_time": "2022-09-27T18:16:25.792285",
     "status": "completed"
    },
    "tags": []
   },
   "outputs": [
    {
     "name": "stdout",
     "output_type": "stream",
     "text": [
      "KS value between COVID/Normal is 0.112 with p-value 0.0\n",
      "KS value between COVID/Viral Pneumonia is 0.125 with p-value 0.0\n",
      "KS value between Normal/Viral Pneumonia is 0.021 with p-value 0.0\n"
     ]
    }
   ],
   "source": [
    "stat_detect_01, p_detect_01 = ks_2samp(values_list[0], values_list[1])\n",
    "print(\"KS value between COVID/Normal is {:.3f} with p-value {}\".format(stat_detect_01, p_detect_01))\n",
    "stat_detect_02, p_detect_02 = ks_2samp(values_list[0], values_list[2])\n",
    "print(\"KS value between COVID/Viral Pneumonia is {:.3f} with p-value {}\".format(stat_detect_02, p_detect_02))\n",
    "stat_detect_12, p_detect_12 = ks_2samp(values_list[1], values_list[2])\n",
    "print(\"KS value between Normal/Viral Pneumonia is {:.3f} with p-value {}\".format(stat_detect_12, p_detect_12))"
   ]
  }
 ],
 "metadata": {
  "kernelspec": {
   "display_name": "Python 3",
   "language": "python",
   "name": "python3"
  },
  "language_info": {
   "codemirror_mode": {
    "name": "ipython",
    "version": 3
   },
   "file_extension": ".py",
   "mimetype": "text/x-python",
   "name": "python",
   "nbconvert_exporter": "python",
   "pygments_lexer": "ipython3",
   "version": "3.7.12"
  },
  "papermill": {
   "default_parameters": {},
   "duration": 412.979515,
   "end_time": "2022-09-27T18:16:34.002756",
   "environment_variables": {},
   "exception": null,
   "input_path": "__notebook__.ipynb",
   "output_path": "__notebook__.ipynb",
   "parameters": {},
   "start_time": "2022-09-27T18:09:41.023241",
   "version": "2.3.4"
  },
  "widgets": {
   "application/vnd.jupyter.widget-state+json": {
    "state": {
     "08d006633e0a445faf22bb52414d259d": {
      "model_module": "@jupyter-widgets/base",
      "model_module_version": "1.2.0",
      "model_name": "LayoutModel",
      "state": {
       "_model_module": "@jupyter-widgets/base",
       "_model_module_version": "1.2.0",
       "_model_name": "LayoutModel",
       "_view_count": null,
       "_view_module": "@jupyter-widgets/base",
       "_view_module_version": "1.2.0",
       "_view_name": "LayoutView",
       "align_content": null,
       "align_items": null,
       "align_self": null,
       "border": null,
       "bottom": null,
       "display": null,
       "flex": null,
       "flex_flow": null,
       "grid_area": null,
       "grid_auto_columns": null,
       "grid_auto_flow": null,
       "grid_auto_rows": null,
       "grid_column": null,
       "grid_gap": null,
       "grid_row": null,
       "grid_template_areas": null,
       "grid_template_columns": null,
       "grid_template_rows": null,
       "height": null,
       "justify_content": null,
       "justify_items": null,
       "left": null,
       "margin": null,
       "max_height": null,
       "max_width": null,
       "min_height": null,
       "min_width": null,
       "object_fit": null,
       "object_position": null,
       "order": null,
       "overflow": null,
       "overflow_x": null,
       "overflow_y": null,
       "padding": null,
       "right": null,
       "top": null,
       "visibility": null,
       "width": null
      }
     },
     "091801b27cdf4b949f28e9693da7348e": {
      "model_module": "@jupyter-widgets/controls",
      "model_module_version": "1.5.0",
      "model_name": "ProgressStyleModel",
      "state": {
       "_model_module": "@jupyter-widgets/controls",
       "_model_module_version": "1.5.0",
       "_model_name": "ProgressStyleModel",
       "_view_count": null,
       "_view_module": "@jupyter-widgets/base",
       "_view_module_version": "1.2.0",
       "_view_name": "StyleView",
       "bar_color": null,
       "description_width": ""
      }
     },
     "096f211a7429430abe5a18ccad96a9d3": {
      "model_module": "@jupyter-widgets/base",
      "model_module_version": "1.2.0",
      "model_name": "LayoutModel",
      "state": {
       "_model_module": "@jupyter-widgets/base",
       "_model_module_version": "1.2.0",
       "_model_name": "LayoutModel",
       "_view_count": null,
       "_view_module": "@jupyter-widgets/base",
       "_view_module_version": "1.2.0",
       "_view_name": "LayoutView",
       "align_content": null,
       "align_items": null,
       "align_self": null,
       "border": null,
       "bottom": null,
       "display": null,
       "flex": null,
       "flex_flow": null,
       "grid_area": null,
       "grid_auto_columns": null,
       "grid_auto_flow": null,
       "grid_auto_rows": null,
       "grid_column": null,
       "grid_gap": null,
       "grid_row": null,
       "grid_template_areas": null,
       "grid_template_columns": null,
       "grid_template_rows": null,
       "height": null,
       "justify_content": null,
       "justify_items": null,
       "left": null,
       "margin": null,
       "max_height": null,
       "max_width": null,
       "min_height": null,
       "min_width": null,
       "object_fit": null,
       "object_position": null,
       "order": null,
       "overflow": null,
       "overflow_x": null,
       "overflow_y": null,
       "padding": null,
       "right": null,
       "top": null,
       "visibility": null,
       "width": null
      }
     },
     "0ecc93506f12482a8e09c94a5c40bfe9": {
      "model_module": "@jupyter-widgets/base",
      "model_module_version": "1.2.0",
      "model_name": "LayoutModel",
      "state": {
       "_model_module": "@jupyter-widgets/base",
       "_model_module_version": "1.2.0",
       "_model_name": "LayoutModel",
       "_view_count": null,
       "_view_module": "@jupyter-widgets/base",
       "_view_module_version": "1.2.0",
       "_view_name": "LayoutView",
       "align_content": null,
       "align_items": null,
       "align_self": null,
       "border": null,
       "bottom": null,
       "display": null,
       "flex": null,
       "flex_flow": null,
       "grid_area": null,
       "grid_auto_columns": null,
       "grid_auto_flow": null,
       "grid_auto_rows": null,
       "grid_column": null,
       "grid_gap": null,
       "grid_row": null,
       "grid_template_areas": null,
       "grid_template_columns": null,
       "grid_template_rows": null,
       "height": null,
       "justify_content": null,
       "justify_items": null,
       "left": null,
       "margin": null,
       "max_height": null,
       "max_width": null,
       "min_height": null,
       "min_width": null,
       "object_fit": null,
       "object_position": null,
       "order": null,
       "overflow": null,
       "overflow_x": null,
       "overflow_y": null,
       "padding": null,
       "right": null,
       "top": null,
       "visibility": null,
       "width": null
      }
     },
     "106709404c864124b82464ac02cf17c1": {
      "model_module": "@jupyter-widgets/controls",
      "model_module_version": "1.5.0",
      "model_name": "ProgressStyleModel",
      "state": {
       "_model_module": "@jupyter-widgets/controls",
       "_model_module_version": "1.5.0",
       "_model_name": "ProgressStyleModel",
       "_view_count": null,
       "_view_module": "@jupyter-widgets/base",
       "_view_module_version": "1.2.0",
       "_view_name": "StyleView",
       "bar_color": null,
       "description_width": ""
      }
     },
     "1859266055b64dabadf26d89cf47ff65": {
      "model_module": "@jupyter-widgets/controls",
      "model_module_version": "1.5.0",
      "model_name": "HBoxModel",
      "state": {
       "_dom_classes": [],
       "_model_module": "@jupyter-widgets/controls",
       "_model_module_version": "1.5.0",
       "_model_name": "HBoxModel",
       "_view_count": null,
       "_view_module": "@jupyter-widgets/controls",
       "_view_module_version": "1.5.0",
       "_view_name": "HBoxView",
       "box_style": "",
       "children": [
        "IPY_MODEL_99fee75dd4f94a80b13002c4fdcb7ba4",
        "IPY_MODEL_b11a43f900144cf4a3330d29c8de1b7e",
        "IPY_MODEL_c2e3858b10174d7eb34566fd5dbfda13"
       ],
       "layout": "IPY_MODEL_7b317f3da72040e0a267c32028bf276b"
      }
     },
     "1e3f30f735ba493fad6fcdf2d03426ee": {
      "model_module": "@jupyter-widgets/controls",
      "model_module_version": "1.5.0",
      "model_name": "FloatProgressModel",
      "state": {
       "_dom_classes": [],
       "_model_module": "@jupyter-widgets/controls",
       "_model_module_version": "1.5.0",
       "_model_name": "FloatProgressModel",
       "_view_count": null,
       "_view_module": "@jupyter-widgets/controls",
       "_view_module_version": "1.5.0",
       "_view_name": "ProgressView",
       "bar_style": "danger",
       "description": "",
       "description_tooltip": null,
       "layout": "IPY_MODEL_b8874335ebcd4acfba56b025177529e2",
       "max": 50.0,
       "min": 0.0,
       "orientation": "horizontal",
       "style": "IPY_MODEL_091801b27cdf4b949f28e9693da7348e",
       "value": 9.0
      }
     },
     "21e59e4f2751417790c274f646aed5a8": {
      "model_module": "@jupyter-widgets/controls",
      "model_module_version": "1.5.0",
      "model_name": "FloatProgressModel",
      "state": {
       "_dom_classes": [],
       "_model_module": "@jupyter-widgets/controls",
       "_model_module_version": "1.5.0",
       "_model_name": "FloatProgressModel",
       "_view_count": null,
       "_view_module": "@jupyter-widgets/controls",
       "_view_module_version": "1.5.0",
       "_view_name": "ProgressView",
       "bar_style": "success",
       "description": "",
       "description_tooltip": null,
       "layout": "IPY_MODEL_b729e2c1cd744fcda0a62a6290c41996",
       "max": 16.0,
       "min": 0.0,
       "orientation": "horizontal",
       "style": "IPY_MODEL_65685affa7ee4b908a89a8ee9b0b1f71",
       "value": 16.0
      }
     },
     "2393dfb779b141b39be89ec55ec54bfa": {
      "model_module": "@jupyter-widgets/controls",
      "model_module_version": "1.5.0",
      "model_name": "FloatProgressModel",
      "state": {
       "_dom_classes": [],
       "_model_module": "@jupyter-widgets/controls",
       "_model_module_version": "1.5.0",
       "_model_name": "FloatProgressModel",
       "_view_count": null,
       "_view_module": "@jupyter-widgets/controls",
       "_view_module_version": "1.5.0",
       "_view_name": "ProgressView",
       "bar_style": "success",
       "description": "",
       "description_tooltip": null,
       "layout": "IPY_MODEL_be2a122caeb041b294c081dbe6ac7bcb",
       "max": 5.0,
       "min": 0.0,
       "orientation": "horizontal",
       "style": "IPY_MODEL_106709404c864124b82464ac02cf17c1",
       "value": 5.0
      }
     },
     "24ec243837884ad3a6d048e202080c34": {
      "model_module": "@jupyter-widgets/controls",
      "model_module_version": "1.5.0",
      "model_name": "HTMLModel",
      "state": {
       "_dom_classes": [],
       "_model_module": "@jupyter-widgets/controls",
       "_model_module_version": "1.5.0",
       "_model_name": "HTMLModel",
       "_view_count": null,
       "_view_module": "@jupyter-widgets/controls",
       "_view_module_version": "1.5.0",
       "_view_name": "HTMLView",
       "description": "",
       "description_tooltip": null,
       "layout": "IPY_MODEL_c16f2e007040429ca12ff68056192ca2",
       "placeholder": "​",
       "style": "IPY_MODEL_328887590f5a4ab2818e9c28c223b955",
       "value": "100%"
      }
     },
     "2c4f830af28a4c3d84d8296162be2062": {
      "model_module": "@jupyter-widgets/controls",
      "model_module_version": "1.5.0",
      "model_name": "DescriptionStyleModel",
      "state": {
       "_model_module": "@jupyter-widgets/controls",
       "_model_module_version": "1.5.0",
       "_model_name": "DescriptionStyleModel",
       "_view_count": null,
       "_view_module": "@jupyter-widgets/base",
       "_view_module_version": "1.2.0",
       "_view_name": "StyleView",
       "description_width": ""
      }
     },
     "2e9d81caa9074014802e5d2405caa358": {
      "model_module": "@jupyter-widgets/controls",
      "model_module_version": "1.5.0",
      "model_name": "DescriptionStyleModel",
      "state": {
       "_model_module": "@jupyter-widgets/controls",
       "_model_module_version": "1.5.0",
       "_model_name": "DescriptionStyleModel",
       "_view_count": null,
       "_view_module": "@jupyter-widgets/base",
       "_view_module_version": "1.2.0",
       "_view_name": "StyleView",
       "description_width": ""
      }
     },
     "3021ff72538b48d8be672451851fd75f": {
      "model_module": "@jupyter-widgets/controls",
      "model_module_version": "1.5.0",
      "model_name": "HTMLModel",
      "state": {
       "_dom_classes": [],
       "_model_module": "@jupyter-widgets/controls",
       "_model_module_version": "1.5.0",
       "_model_name": "HTMLModel",
       "_view_count": null,
       "_view_module": "@jupyter-widgets/controls",
       "_view_module_version": "1.5.0",
       "_view_name": "HTMLView",
       "description": "",
       "description_tooltip": null,
       "layout": "IPY_MODEL_08d006633e0a445faf22bb52414d259d",
       "placeholder": "​",
       "style": "IPY_MODEL_c39df657b62b4028aa4d787aace4a655",
       "value": " 18%"
      }
     },
     "328887590f5a4ab2818e9c28c223b955": {
      "model_module": "@jupyter-widgets/controls",
      "model_module_version": "1.5.0",
      "model_name": "DescriptionStyleModel",
      "state": {
       "_model_module": "@jupyter-widgets/controls",
       "_model_module_version": "1.5.0",
       "_model_name": "DescriptionStyleModel",
       "_view_count": null,
       "_view_module": "@jupyter-widgets/base",
       "_view_module_version": "1.2.0",
       "_view_name": "StyleView",
       "description_width": ""
      }
     },
     "38f91184c1e046f6bbb43a023c676c58": {
      "model_module": "@jupyter-widgets/controls",
      "model_module_version": "1.5.0",
      "model_name": "DescriptionStyleModel",
      "state": {
       "_model_module": "@jupyter-widgets/controls",
       "_model_module_version": "1.5.0",
       "_model_name": "DescriptionStyleModel",
       "_view_count": null,
       "_view_module": "@jupyter-widgets/base",
       "_view_module_version": "1.2.0",
       "_view_name": "StyleView",
       "description_width": ""
      }
     },
     "3985e000b26c4ff882c084fe8a6a71e4": {
      "model_module": "@jupyter-widgets/base",
      "model_module_version": "1.2.0",
      "model_name": "LayoutModel",
      "state": {
       "_model_module": "@jupyter-widgets/base",
       "_model_module_version": "1.2.0",
       "_model_name": "LayoutModel",
       "_view_count": null,
       "_view_module": "@jupyter-widgets/base",
       "_view_module_version": "1.2.0",
       "_view_name": "LayoutView",
       "align_content": null,
       "align_items": null,
       "align_self": null,
       "border": null,
       "bottom": null,
       "display": null,
       "flex": null,
       "flex_flow": null,
       "grid_area": null,
       "grid_auto_columns": null,
       "grid_auto_flow": null,
       "grid_auto_rows": null,
       "grid_column": null,
       "grid_gap": null,
       "grid_row": null,
       "grid_template_areas": null,
       "grid_template_columns": null,
       "grid_template_rows": null,
       "height": null,
       "justify_content": null,
       "justify_items": null,
       "left": null,
       "margin": null,
       "max_height": null,
       "max_width": null,
       "min_height": null,
       "min_width": null,
       "object_fit": null,
       "object_position": null,
       "order": null,
       "overflow": null,
       "overflow_x": null,
       "overflow_y": null,
       "padding": null,
       "right": null,
       "top": null,
       "visibility": null,
       "width": null
      }
     },
     "3d7093a12b254febb0b85fad59d2ab12": {
      "model_module": "@jupyter-widgets/base",
      "model_module_version": "1.2.0",
      "model_name": "LayoutModel",
      "state": {
       "_model_module": "@jupyter-widgets/base",
       "_model_module_version": "1.2.0",
       "_model_name": "LayoutModel",
       "_view_count": null,
       "_view_module": "@jupyter-widgets/base",
       "_view_module_version": "1.2.0",
       "_view_name": "LayoutView",
       "align_content": null,
       "align_items": null,
       "align_self": null,
       "border": null,
       "bottom": null,
       "display": null,
       "flex": null,
       "flex_flow": null,
       "grid_area": null,
       "grid_auto_columns": null,
       "grid_auto_flow": null,
       "grid_auto_rows": null,
       "grid_column": null,
       "grid_gap": null,
       "grid_row": null,
       "grid_template_areas": null,
       "grid_template_columns": null,
       "grid_template_rows": null,
       "height": null,
       "justify_content": null,
       "justify_items": null,
       "left": null,
       "margin": null,
       "max_height": null,
       "max_width": null,
       "min_height": null,
       "min_width": null,
       "object_fit": null,
       "object_position": null,
       "order": null,
       "overflow": null,
       "overflow_x": null,
       "overflow_y": null,
       "padding": null,
       "right": null,
       "top": null,
       "visibility": null,
       "width": null
      }
     },
     "3f28eb8c103743a2b0aa5e07d8c511d6": {
      "model_module": "@jupyter-widgets/controls",
      "model_module_version": "1.5.0",
      "model_name": "FloatProgressModel",
      "state": {
       "_dom_classes": [],
       "_model_module": "@jupyter-widgets/controls",
       "_model_module_version": "1.5.0",
       "_model_name": "FloatProgressModel",
       "_view_count": null,
       "_view_module": "@jupyter-widgets/controls",
       "_view_module_version": "1.5.0",
       "_view_name": "ProgressView",
       "bar_style": "success",
       "description": "",
       "description_tooltip": null,
       "layout": "IPY_MODEL_d3f08f1bca43452c8bbd45d19fb05cc6",
       "max": 16.0,
       "min": 0.0,
       "orientation": "horizontal",
       "style": "IPY_MODEL_7a864cadf7024460af34a6c568dcb305",
       "value": 16.0
      }
     },
     "45441e690115425f80099dcfbfd75037": {
      "model_module": "@jupyter-widgets/controls",
      "model_module_version": "1.5.0",
      "model_name": "HBoxModel",
      "state": {
       "_dom_classes": [],
       "_model_module": "@jupyter-widgets/controls",
       "_model_module_version": "1.5.0",
       "_model_name": "HBoxModel",
       "_view_count": null,
       "_view_module": "@jupyter-widgets/controls",
       "_view_module_version": "1.5.0",
       "_view_name": "HBoxView",
       "box_style": "",
       "children": [
        "IPY_MODEL_b44cd72400a8487d9365ceb790e599fe",
        "IPY_MODEL_2393dfb779b141b39be89ec55ec54bfa",
        "IPY_MODEL_cd224572d2174bee8052b72a30cdbb21"
       ],
       "layout": "IPY_MODEL_f87e2bba44d1427e88683c684ea45b05"
      }
     },
     "5e77205e20fb43a284999cb934642109": {
      "model_module": "@jupyter-widgets/base",
      "model_module_version": "1.2.0",
      "model_name": "LayoutModel",
      "state": {
       "_model_module": "@jupyter-widgets/base",
       "_model_module_version": "1.2.0",
       "_model_name": "LayoutModel",
       "_view_count": null,
       "_view_module": "@jupyter-widgets/base",
       "_view_module_version": "1.2.0",
       "_view_name": "LayoutView",
       "align_content": null,
       "align_items": null,
       "align_self": null,
       "border": null,
       "bottom": null,
       "display": null,
       "flex": null,
       "flex_flow": null,
       "grid_area": null,
       "grid_auto_columns": null,
       "grid_auto_flow": null,
       "grid_auto_rows": null,
       "grid_column": null,
       "grid_gap": null,
       "grid_row": null,
       "grid_template_areas": null,
       "grid_template_columns": null,
       "grid_template_rows": null,
       "height": null,
       "justify_content": null,
       "justify_items": null,
       "left": null,
       "margin": null,
       "max_height": null,
       "max_width": null,
       "min_height": null,
       "min_width": null,
       "object_fit": null,
       "object_position": null,
       "order": null,
       "overflow": null,
       "overflow_x": null,
       "overflow_y": null,
       "padding": null,
       "right": null,
       "top": null,
       "visibility": null,
       "width": null
      }
     },
     "65685affa7ee4b908a89a8ee9b0b1f71": {
      "model_module": "@jupyter-widgets/controls",
      "model_module_version": "1.5.0",
      "model_name": "ProgressStyleModel",
      "state": {
       "_model_module": "@jupyter-widgets/controls",
       "_model_module_version": "1.5.0",
       "_model_name": "ProgressStyleModel",
       "_view_count": null,
       "_view_module": "@jupyter-widgets/base",
       "_view_module_version": "1.2.0",
       "_view_name": "StyleView",
       "bar_color": null,
       "description_width": ""
      }
     },
     "67ddc1e625384e709839772ba31131da": {
      "model_module": "@jupyter-widgets/base",
      "model_module_version": "1.2.0",
      "model_name": "LayoutModel",
      "state": {
       "_model_module": "@jupyter-widgets/base",
       "_model_module_version": "1.2.0",
       "_model_name": "LayoutModel",
       "_view_count": null,
       "_view_module": "@jupyter-widgets/base",
       "_view_module_version": "1.2.0",
       "_view_name": "LayoutView",
       "align_content": null,
       "align_items": null,
       "align_self": null,
       "border": null,
       "bottom": null,
       "display": null,
       "flex": null,
       "flex_flow": null,
       "grid_area": null,
       "grid_auto_columns": null,
       "grid_auto_flow": null,
       "grid_auto_rows": null,
       "grid_column": null,
       "grid_gap": null,
       "grid_row": null,
       "grid_template_areas": null,
       "grid_template_columns": null,
       "grid_template_rows": null,
       "height": null,
       "justify_content": null,
       "justify_items": null,
       "left": null,
       "margin": null,
       "max_height": null,
       "max_width": null,
       "min_height": null,
       "min_width": null,
       "object_fit": null,
       "object_position": null,
       "order": null,
       "overflow": null,
       "overflow_x": null,
       "overflow_y": null,
       "padding": null,
       "right": null,
       "top": null,
       "visibility": null,
       "width": null
      }
     },
     "7a5d3a9cbb7a460eb9fafa369d517430": {
      "model_module": "@jupyter-widgets/controls",
      "model_module_version": "1.5.0",
      "model_name": "DescriptionStyleModel",
      "state": {
       "_model_module": "@jupyter-widgets/controls",
       "_model_module_version": "1.5.0",
       "_model_name": "DescriptionStyleModel",
       "_view_count": null,
       "_view_module": "@jupyter-widgets/base",
       "_view_module_version": "1.2.0",
       "_view_name": "StyleView",
       "description_width": ""
      }
     },
     "7a864cadf7024460af34a6c568dcb305": {
      "model_module": "@jupyter-widgets/controls",
      "model_module_version": "1.5.0",
      "model_name": "ProgressStyleModel",
      "state": {
       "_model_module": "@jupyter-widgets/controls",
       "_model_module_version": "1.5.0",
       "_model_name": "ProgressStyleModel",
       "_view_count": null,
       "_view_module": "@jupyter-widgets/base",
       "_view_module_version": "1.2.0",
       "_view_name": "StyleView",
       "bar_color": null,
       "description_width": ""
      }
     },
     "7b317f3da72040e0a267c32028bf276b": {
      "model_module": "@jupyter-widgets/base",
      "model_module_version": "1.2.0",
      "model_name": "LayoutModel",
      "state": {
       "_model_module": "@jupyter-widgets/base",
       "_model_module_version": "1.2.0",
       "_model_name": "LayoutModel",
       "_view_count": null,
       "_view_module": "@jupyter-widgets/base",
       "_view_module_version": "1.2.0",
       "_view_name": "LayoutView",
       "align_content": null,
       "align_items": null,
       "align_self": null,
       "border": null,
       "bottom": null,
       "display": null,
       "flex": null,
       "flex_flow": null,
       "grid_area": null,
       "grid_auto_columns": null,
       "grid_auto_flow": null,
       "grid_auto_rows": null,
       "grid_column": null,
       "grid_gap": null,
       "grid_row": null,
       "grid_template_areas": null,
       "grid_template_columns": null,
       "grid_template_rows": null,
       "height": null,
       "justify_content": null,
       "justify_items": null,
       "left": null,
       "margin": null,
       "max_height": null,
       "max_width": null,
       "min_height": null,
       "min_width": null,
       "object_fit": null,
       "object_position": null,
       "order": null,
       "overflow": null,
       "overflow_x": null,
       "overflow_y": null,
       "padding": null,
       "right": null,
       "top": null,
       "visibility": null,
       "width": null
      }
     },
     "8e02096ac6d24f0db0ac5536bc1b28ee": {
      "model_module": "@jupyter-widgets/controls",
      "model_module_version": "1.5.0",
      "model_name": "HBoxModel",
      "state": {
       "_dom_classes": [],
       "_model_module": "@jupyter-widgets/controls",
       "_model_module_version": "1.5.0",
       "_model_name": "HBoxModel",
       "_view_count": null,
       "_view_module": "@jupyter-widgets/controls",
       "_view_module_version": "1.5.0",
       "_view_name": "HBoxView",
       "box_style": "",
       "children": [
        "IPY_MODEL_24ec243837884ad3a6d048e202080c34",
        "IPY_MODEL_3f28eb8c103743a2b0aa5e07d8c511d6",
        "IPY_MODEL_e9ed4f2a015b45f7acf60985cc74020c"
       ],
       "layout": "IPY_MODEL_3d7093a12b254febb0b85fad59d2ab12"
      }
     },
     "8ea5e83b4478480c89bc67c35f922691": {
      "model_module": "@jupyter-widgets/base",
      "model_module_version": "1.2.0",
      "model_name": "LayoutModel",
      "state": {
       "_model_module": "@jupyter-widgets/base",
       "_model_module_version": "1.2.0",
       "_model_name": "LayoutModel",
       "_view_count": null,
       "_view_module": "@jupyter-widgets/base",
       "_view_module_version": "1.2.0",
       "_view_name": "LayoutView",
       "align_content": null,
       "align_items": null,
       "align_self": null,
       "border": null,
       "bottom": null,
       "display": null,
       "flex": null,
       "flex_flow": null,
       "grid_area": null,
       "grid_auto_columns": null,
       "grid_auto_flow": null,
       "grid_auto_rows": null,
       "grid_column": null,
       "grid_gap": null,
       "grid_row": null,
       "grid_template_areas": null,
       "grid_template_columns": null,
       "grid_template_rows": null,
       "height": null,
       "justify_content": null,
       "justify_items": null,
       "left": null,
       "margin": null,
       "max_height": null,
       "max_width": null,
       "min_height": null,
       "min_width": null,
       "object_fit": null,
       "object_position": null,
       "order": null,
       "overflow": null,
       "overflow_x": null,
       "overflow_y": null,
       "padding": null,
       "right": null,
       "top": null,
       "visibility": null,
       "width": null
      }
     },
     "9673457238ca452b8e4b28aa8361745d": {
      "model_module": "@jupyter-widgets/controls",
      "model_module_version": "1.5.0",
      "model_name": "HTMLModel",
      "state": {
       "_dom_classes": [],
       "_model_module": "@jupyter-widgets/controls",
       "_model_module_version": "1.5.0",
       "_model_name": "HTMLModel",
       "_view_count": null,
       "_view_module": "@jupyter-widgets/controls",
       "_view_module_version": "1.5.0",
       "_view_name": "HTMLView",
       "description": "",
       "description_tooltip": null,
       "layout": "IPY_MODEL_8ea5e83b4478480c89bc67c35f922691",
       "placeholder": "​",
       "style": "IPY_MODEL_976d0f83aa434a10bfafac880a8eeae4",
       "value": " 9/50 [00:01&lt;00:04,  9.58it/s]"
      }
     },
     "976d0f83aa434a10bfafac880a8eeae4": {
      "model_module": "@jupyter-widgets/controls",
      "model_module_version": "1.5.0",
      "model_name": "DescriptionStyleModel",
      "state": {
       "_model_module": "@jupyter-widgets/controls",
       "_model_module_version": "1.5.0",
       "_model_name": "DescriptionStyleModel",
       "_view_count": null,
       "_view_module": "@jupyter-widgets/base",
       "_view_module_version": "1.2.0",
       "_view_name": "StyleView",
       "description_width": ""
      }
     },
     "99fee75dd4f94a80b13002c4fdcb7ba4": {
      "model_module": "@jupyter-widgets/controls",
      "model_module_version": "1.5.0",
      "model_name": "HTMLModel",
      "state": {
       "_dom_classes": [],
       "_model_module": "@jupyter-widgets/controls",
       "_model_module_version": "1.5.0",
       "_model_name": "HTMLModel",
       "_view_count": null,
       "_view_module": "@jupyter-widgets/controls",
       "_view_module_version": "1.5.0",
       "_view_name": "HTMLView",
       "description": "",
       "description_tooltip": null,
       "layout": "IPY_MODEL_de98dbb71e514b85a9043aaea20ee549",
       "placeholder": "​",
       "style": "IPY_MODEL_fb3d41b818dd4caea3a1592091ee551a",
       "value": "100%"
      }
     },
     "ad698fe6dc8c42dca67c09065e641756": {
      "model_module": "@jupyter-widgets/controls",
      "model_module_version": "1.5.0",
      "model_name": "ProgressStyleModel",
      "state": {
       "_model_module": "@jupyter-widgets/controls",
       "_model_module_version": "1.5.0",
       "_model_name": "ProgressStyleModel",
       "_view_count": null,
       "_view_module": "@jupyter-widgets/base",
       "_view_module_version": "1.2.0",
       "_view_name": "StyleView",
       "bar_color": null,
       "description_width": ""
      }
     },
     "b11a43f900144cf4a3330d29c8de1b7e": {
      "model_module": "@jupyter-widgets/controls",
      "model_module_version": "1.5.0",
      "model_name": "FloatProgressModel",
      "state": {
       "_dom_classes": [],
       "_model_module": "@jupyter-widgets/controls",
       "_model_module_version": "1.5.0",
       "_model_name": "FloatProgressModel",
       "_view_count": null,
       "_view_module": "@jupyter-widgets/controls",
       "_view_module_version": "1.5.0",
       "_view_name": "ProgressView",
       "bar_style": "success",
       "description": "",
       "description_tooltip": null,
       "layout": "IPY_MODEL_5e77205e20fb43a284999cb934642109",
       "max": 5.0,
       "min": 0.0,
       "orientation": "horizontal",
       "style": "IPY_MODEL_ad698fe6dc8c42dca67c09065e641756",
       "value": 5.0
      }
     },
     "b44cd72400a8487d9365ceb790e599fe": {
      "model_module": "@jupyter-widgets/controls",
      "model_module_version": "1.5.0",
      "model_name": "HTMLModel",
      "state": {
       "_dom_classes": [],
       "_model_module": "@jupyter-widgets/controls",
       "_model_module_version": "1.5.0",
       "_model_name": "HTMLModel",
       "_view_count": null,
       "_view_module": "@jupyter-widgets/controls",
       "_view_module_version": "1.5.0",
       "_view_name": "HTMLView",
       "description": "",
       "description_tooltip": null,
       "layout": "IPY_MODEL_ec65e4c4826c4191b1f5d3ed1ac4e249",
       "placeholder": "​",
       "style": "IPY_MODEL_2e9d81caa9074014802e5d2405caa358",
       "value": "100%"
      }
     },
     "b729e2c1cd744fcda0a62a6290c41996": {
      "model_module": "@jupyter-widgets/base",
      "model_module_version": "1.2.0",
      "model_name": "LayoutModel",
      "state": {
       "_model_module": "@jupyter-widgets/base",
       "_model_module_version": "1.2.0",
       "_model_name": "LayoutModel",
       "_view_count": null,
       "_view_module": "@jupyter-widgets/base",
       "_view_module_version": "1.2.0",
       "_view_name": "LayoutView",
       "align_content": null,
       "align_items": null,
       "align_self": null,
       "border": null,
       "bottom": null,
       "display": null,
       "flex": null,
       "flex_flow": null,
       "grid_area": null,
       "grid_auto_columns": null,
       "grid_auto_flow": null,
       "grid_auto_rows": null,
       "grid_column": null,
       "grid_gap": null,
       "grid_row": null,
       "grid_template_areas": null,
       "grid_template_columns": null,
       "grid_template_rows": null,
       "height": null,
       "justify_content": null,
       "justify_items": null,
       "left": null,
       "margin": null,
       "max_height": null,
       "max_width": null,
       "min_height": null,
       "min_width": null,
       "object_fit": null,
       "object_position": null,
       "order": null,
       "overflow": null,
       "overflow_x": null,
       "overflow_y": null,
       "padding": null,
       "right": null,
       "top": null,
       "visibility": null,
       "width": null
      }
     },
     "b82325a8e9b84a91abd55e51cf16bd31": {
      "model_module": "@jupyter-widgets/controls",
      "model_module_version": "1.5.0",
      "model_name": "DescriptionStyleModel",
      "state": {
       "_model_module": "@jupyter-widgets/controls",
       "_model_module_version": "1.5.0",
       "_model_name": "DescriptionStyleModel",
       "_view_count": null,
       "_view_module": "@jupyter-widgets/base",
       "_view_module_version": "1.2.0",
       "_view_name": "StyleView",
       "description_width": ""
      }
     },
     "b8874335ebcd4acfba56b025177529e2": {
      "model_module": "@jupyter-widgets/base",
      "model_module_version": "1.2.0",
      "model_name": "LayoutModel",
      "state": {
       "_model_module": "@jupyter-widgets/base",
       "_model_module_version": "1.2.0",
       "_model_name": "LayoutModel",
       "_view_count": null,
       "_view_module": "@jupyter-widgets/base",
       "_view_module_version": "1.2.0",
       "_view_name": "LayoutView",
       "align_content": null,
       "align_items": null,
       "align_self": null,
       "border": null,
       "bottom": null,
       "display": null,
       "flex": null,
       "flex_flow": null,
       "grid_area": null,
       "grid_auto_columns": null,
       "grid_auto_flow": null,
       "grid_auto_rows": null,
       "grid_column": null,
       "grid_gap": null,
       "grid_row": null,
       "grid_template_areas": null,
       "grid_template_columns": null,
       "grid_template_rows": null,
       "height": null,
       "justify_content": null,
       "justify_items": null,
       "left": null,
       "margin": null,
       "max_height": null,
       "max_width": null,
       "min_height": null,
       "min_width": null,
       "object_fit": null,
       "object_position": null,
       "order": null,
       "overflow": null,
       "overflow_x": null,
       "overflow_y": null,
       "padding": null,
       "right": null,
       "top": null,
       "visibility": null,
       "width": null
      }
     },
     "be2a122caeb041b294c081dbe6ac7bcb": {
      "model_module": "@jupyter-widgets/base",
      "model_module_version": "1.2.0",
      "model_name": "LayoutModel",
      "state": {
       "_model_module": "@jupyter-widgets/base",
       "_model_module_version": "1.2.0",
       "_model_name": "LayoutModel",
       "_view_count": null,
       "_view_module": "@jupyter-widgets/base",
       "_view_module_version": "1.2.0",
       "_view_name": "LayoutView",
       "align_content": null,
       "align_items": null,
       "align_self": null,
       "border": null,
       "bottom": null,
       "display": null,
       "flex": null,
       "flex_flow": null,
       "grid_area": null,
       "grid_auto_columns": null,
       "grid_auto_flow": null,
       "grid_auto_rows": null,
       "grid_column": null,
       "grid_gap": null,
       "grid_row": null,
       "grid_template_areas": null,
       "grid_template_columns": null,
       "grid_template_rows": null,
       "height": null,
       "justify_content": null,
       "justify_items": null,
       "left": null,
       "margin": null,
       "max_height": null,
       "max_width": null,
       "min_height": null,
       "min_width": null,
       "object_fit": null,
       "object_position": null,
       "order": null,
       "overflow": null,
       "overflow_x": null,
       "overflow_y": null,
       "padding": null,
       "right": null,
       "top": null,
       "visibility": null,
       "width": null
      }
     },
     "c0e6859b8bf74c0da2bb7d0f3885ca38": {
      "model_module": "@jupyter-widgets/controls",
      "model_module_version": "1.5.0",
      "model_name": "HBoxModel",
      "state": {
       "_dom_classes": [],
       "_model_module": "@jupyter-widgets/controls",
       "_model_module_version": "1.5.0",
       "_model_name": "HBoxModel",
       "_view_count": null,
       "_view_module": "@jupyter-widgets/controls",
       "_view_module_version": "1.5.0",
       "_view_name": "HBoxView",
       "box_style": "",
       "children": [
        "IPY_MODEL_3021ff72538b48d8be672451851fd75f",
        "IPY_MODEL_1e3f30f735ba493fad6fcdf2d03426ee",
        "IPY_MODEL_9673457238ca452b8e4b28aa8361745d"
       ],
       "layout": "IPY_MODEL_0ecc93506f12482a8e09c94a5c40bfe9"
      }
     },
     "c16f2e007040429ca12ff68056192ca2": {
      "model_module": "@jupyter-widgets/base",
      "model_module_version": "1.2.0",
      "model_name": "LayoutModel",
      "state": {
       "_model_module": "@jupyter-widgets/base",
       "_model_module_version": "1.2.0",
       "_model_name": "LayoutModel",
       "_view_count": null,
       "_view_module": "@jupyter-widgets/base",
       "_view_module_version": "1.2.0",
       "_view_name": "LayoutView",
       "align_content": null,
       "align_items": null,
       "align_self": null,
       "border": null,
       "bottom": null,
       "display": null,
       "flex": null,
       "flex_flow": null,
       "grid_area": null,
       "grid_auto_columns": null,
       "grid_auto_flow": null,
       "grid_auto_rows": null,
       "grid_column": null,
       "grid_gap": null,
       "grid_row": null,
       "grid_template_areas": null,
       "grid_template_columns": null,
       "grid_template_rows": null,
       "height": null,
       "justify_content": null,
       "justify_items": null,
       "left": null,
       "margin": null,
       "max_height": null,
       "max_width": null,
       "min_height": null,
       "min_width": null,
       "object_fit": null,
       "object_position": null,
       "order": null,
       "overflow": null,
       "overflow_x": null,
       "overflow_y": null,
       "padding": null,
       "right": null,
       "top": null,
       "visibility": null,
       "width": null
      }
     },
     "c19e36cc1b924e77b67ee45d7afc2e53": {
      "model_module": "@jupyter-widgets/controls",
      "model_module_version": "1.5.0",
      "model_name": "HBoxModel",
      "state": {
       "_dom_classes": [],
       "_model_module": "@jupyter-widgets/controls",
       "_model_module_version": "1.5.0",
       "_model_name": "HBoxModel",
       "_view_count": null,
       "_view_module": "@jupyter-widgets/controls",
       "_view_module_version": "1.5.0",
       "_view_name": "HBoxView",
       "box_style": "",
       "children": [
        "IPY_MODEL_cf5264e688f0471fad5db38763a4b4e1",
        "IPY_MODEL_21e59e4f2751417790c274f646aed5a8",
        "IPY_MODEL_db312528687c456095f0062a1fac0f67"
       ],
       "layout": "IPY_MODEL_eb3f634a3b3f47be8426ca5b6497ae59"
      }
     },
     "c2e3858b10174d7eb34566fd5dbfda13": {
      "model_module": "@jupyter-widgets/controls",
      "model_module_version": "1.5.0",
      "model_name": "HTMLModel",
      "state": {
       "_dom_classes": [],
       "_model_module": "@jupyter-widgets/controls",
       "_model_module_version": "1.5.0",
       "_model_name": "HTMLModel",
       "_view_count": null,
       "_view_module": "@jupyter-widgets/controls",
       "_view_module_version": "1.5.0",
       "_view_name": "HTMLView",
       "description": "",
       "description_tooltip": null,
       "layout": "IPY_MODEL_e539d0892eb647cb8dc96456ccf8ef42",
       "placeholder": "​",
       "style": "IPY_MODEL_7a5d3a9cbb7a460eb9fafa369d517430",
       "value": " 5/5 [00:01&lt;00:00,  1.92it/s]"
      }
     },
     "c39df657b62b4028aa4d787aace4a655": {
      "model_module": "@jupyter-widgets/controls",
      "model_module_version": "1.5.0",
      "model_name": "DescriptionStyleModel",
      "state": {
       "_model_module": "@jupyter-widgets/controls",
       "_model_module_version": "1.5.0",
       "_model_name": "DescriptionStyleModel",
       "_view_count": null,
       "_view_module": "@jupyter-widgets/base",
       "_view_module_version": "1.2.0",
       "_view_name": "StyleView",
       "description_width": ""
      }
     },
     "cd224572d2174bee8052b72a30cdbb21": {
      "model_module": "@jupyter-widgets/controls",
      "model_module_version": "1.5.0",
      "model_name": "HTMLModel",
      "state": {
       "_dom_classes": [],
       "_model_module": "@jupyter-widgets/controls",
       "_model_module_version": "1.5.0",
       "_model_name": "HTMLModel",
       "_view_count": null,
       "_view_module": "@jupyter-widgets/controls",
       "_view_module_version": "1.5.0",
       "_view_name": "HTMLView",
       "description": "",
       "description_tooltip": null,
       "layout": "IPY_MODEL_3985e000b26c4ff882c084fe8a6a71e4",
       "placeholder": "​",
       "style": "IPY_MODEL_eab9eaca6ec64f078cf432c9f6785fd5",
       "value": " 5/5 [00:02&lt;00:00,  2.07it/s]"
      }
     },
     "cf5264e688f0471fad5db38763a4b4e1": {
      "model_module": "@jupyter-widgets/controls",
      "model_module_version": "1.5.0",
      "model_name": "HTMLModel",
      "state": {
       "_dom_classes": [],
       "_model_module": "@jupyter-widgets/controls",
       "_model_module_version": "1.5.0",
       "_model_name": "HTMLModel",
       "_view_count": null,
       "_view_module": "@jupyter-widgets/controls",
       "_view_module_version": "1.5.0",
       "_view_name": "HTMLView",
       "description": "",
       "description_tooltip": null,
       "layout": "IPY_MODEL_f25a0bae73cd468f8edc5f15777d6e2a",
       "placeholder": "​",
       "style": "IPY_MODEL_2c4f830af28a4c3d84d8296162be2062",
       "value": "100%"
      }
     },
     "d3f08f1bca43452c8bbd45d19fb05cc6": {
      "model_module": "@jupyter-widgets/base",
      "model_module_version": "1.2.0",
      "model_name": "LayoutModel",
      "state": {
       "_model_module": "@jupyter-widgets/base",
       "_model_module_version": "1.2.0",
       "_model_name": "LayoutModel",
       "_view_count": null,
       "_view_module": "@jupyter-widgets/base",
       "_view_module_version": "1.2.0",
       "_view_name": "LayoutView",
       "align_content": null,
       "align_items": null,
       "align_self": null,
       "border": null,
       "bottom": null,
       "display": null,
       "flex": null,
       "flex_flow": null,
       "grid_area": null,
       "grid_auto_columns": null,
       "grid_auto_flow": null,
       "grid_auto_rows": null,
       "grid_column": null,
       "grid_gap": null,
       "grid_row": null,
       "grid_template_areas": null,
       "grid_template_columns": null,
       "grid_template_rows": null,
       "height": null,
       "justify_content": null,
       "justify_items": null,
       "left": null,
       "margin": null,
       "max_height": null,
       "max_width": null,
       "min_height": null,
       "min_width": null,
       "object_fit": null,
       "object_position": null,
       "order": null,
       "overflow": null,
       "overflow_x": null,
       "overflow_y": null,
       "padding": null,
       "right": null,
       "top": null,
       "visibility": null,
       "width": null
      }
     },
     "db312528687c456095f0062a1fac0f67": {
      "model_module": "@jupyter-widgets/controls",
      "model_module_version": "1.5.0",
      "model_name": "HTMLModel",
      "state": {
       "_dom_classes": [],
       "_model_module": "@jupyter-widgets/controls",
       "_model_module_version": "1.5.0",
       "_model_name": "HTMLModel",
       "_view_count": null,
       "_view_module": "@jupyter-widgets/controls",
       "_view_module_version": "1.5.0",
       "_view_name": "HTMLView",
       "description": "",
       "description_tooltip": null,
       "layout": "IPY_MODEL_096f211a7429430abe5a18ccad96a9d3",
       "placeholder": "​",
       "style": "IPY_MODEL_38f91184c1e046f6bbb43a023c676c58",
       "value": " 16/16 [00:09&lt;00:00,  2.21it/s]"
      }
     },
     "de98dbb71e514b85a9043aaea20ee549": {
      "model_module": "@jupyter-widgets/base",
      "model_module_version": "1.2.0",
      "model_name": "LayoutModel",
      "state": {
       "_model_module": "@jupyter-widgets/base",
       "_model_module_version": "1.2.0",
       "_model_name": "LayoutModel",
       "_view_count": null,
       "_view_module": "@jupyter-widgets/base",
       "_view_module_version": "1.2.0",
       "_view_name": "LayoutView",
       "align_content": null,
       "align_items": null,
       "align_self": null,
       "border": null,
       "bottom": null,
       "display": null,
       "flex": null,
       "flex_flow": null,
       "grid_area": null,
       "grid_auto_columns": null,
       "grid_auto_flow": null,
       "grid_auto_rows": null,
       "grid_column": null,
       "grid_gap": null,
       "grid_row": null,
       "grid_template_areas": null,
       "grid_template_columns": null,
       "grid_template_rows": null,
       "height": null,
       "justify_content": null,
       "justify_items": null,
       "left": null,
       "margin": null,
       "max_height": null,
       "max_width": null,
       "min_height": null,
       "min_width": null,
       "object_fit": null,
       "object_position": null,
       "order": null,
       "overflow": null,
       "overflow_x": null,
       "overflow_y": null,
       "padding": null,
       "right": null,
       "top": null,
       "visibility": null,
       "width": null
      }
     },
     "e539d0892eb647cb8dc96456ccf8ef42": {
      "model_module": "@jupyter-widgets/base",
      "model_module_version": "1.2.0",
      "model_name": "LayoutModel",
      "state": {
       "_model_module": "@jupyter-widgets/base",
       "_model_module_version": "1.2.0",
       "_model_name": "LayoutModel",
       "_view_count": null,
       "_view_module": "@jupyter-widgets/base",
       "_view_module_version": "1.2.0",
       "_view_name": "LayoutView",
       "align_content": null,
       "align_items": null,
       "align_self": null,
       "border": null,
       "bottom": null,
       "display": null,
       "flex": null,
       "flex_flow": null,
       "grid_area": null,
       "grid_auto_columns": null,
       "grid_auto_flow": null,
       "grid_auto_rows": null,
       "grid_column": null,
       "grid_gap": null,
       "grid_row": null,
       "grid_template_areas": null,
       "grid_template_columns": null,
       "grid_template_rows": null,
       "height": null,
       "justify_content": null,
       "justify_items": null,
       "left": null,
       "margin": null,
       "max_height": null,
       "max_width": null,
       "min_height": null,
       "min_width": null,
       "object_fit": null,
       "object_position": null,
       "order": null,
       "overflow": null,
       "overflow_x": null,
       "overflow_y": null,
       "padding": null,
       "right": null,
       "top": null,
       "visibility": null,
       "width": null
      }
     },
     "e9ed4f2a015b45f7acf60985cc74020c": {
      "model_module": "@jupyter-widgets/controls",
      "model_module_version": "1.5.0",
      "model_name": "HTMLModel",
      "state": {
       "_dom_classes": [],
       "_model_module": "@jupyter-widgets/controls",
       "_model_module_version": "1.5.0",
       "_model_name": "HTMLModel",
       "_view_count": null,
       "_view_module": "@jupyter-widgets/controls",
       "_view_module_version": "1.5.0",
       "_view_name": "HTMLView",
       "description": "",
       "description_tooltip": null,
       "layout": "IPY_MODEL_67ddc1e625384e709839772ba31131da",
       "placeholder": "​",
       "style": "IPY_MODEL_b82325a8e9b84a91abd55e51cf16bd31",
       "value": " 16/16 [00:13&lt;00:00,  1.73it/s]"
      }
     },
     "eab9eaca6ec64f078cf432c9f6785fd5": {
      "model_module": "@jupyter-widgets/controls",
      "model_module_version": "1.5.0",
      "model_name": "DescriptionStyleModel",
      "state": {
       "_model_module": "@jupyter-widgets/controls",
       "_model_module_version": "1.5.0",
       "_model_name": "DescriptionStyleModel",
       "_view_count": null,
       "_view_module": "@jupyter-widgets/base",
       "_view_module_version": "1.2.0",
       "_view_name": "StyleView",
       "description_width": ""
      }
     },
     "eb3f634a3b3f47be8426ca5b6497ae59": {
      "model_module": "@jupyter-widgets/base",
      "model_module_version": "1.2.0",
      "model_name": "LayoutModel",
      "state": {
       "_model_module": "@jupyter-widgets/base",
       "_model_module_version": "1.2.0",
       "_model_name": "LayoutModel",
       "_view_count": null,
       "_view_module": "@jupyter-widgets/base",
       "_view_module_version": "1.2.0",
       "_view_name": "LayoutView",
       "align_content": null,
       "align_items": null,
       "align_self": null,
       "border": null,
       "bottom": null,
       "display": null,
       "flex": null,
       "flex_flow": null,
       "grid_area": null,
       "grid_auto_columns": null,
       "grid_auto_flow": null,
       "grid_auto_rows": null,
       "grid_column": null,
       "grid_gap": null,
       "grid_row": null,
       "grid_template_areas": null,
       "grid_template_columns": null,
       "grid_template_rows": null,
       "height": null,
       "justify_content": null,
       "justify_items": null,
       "left": null,
       "margin": null,
       "max_height": null,
       "max_width": null,
       "min_height": null,
       "min_width": null,
       "object_fit": null,
       "object_position": null,
       "order": null,
       "overflow": null,
       "overflow_x": null,
       "overflow_y": null,
       "padding": null,
       "right": null,
       "top": null,
       "visibility": null,
       "width": null
      }
     },
     "ec65e4c4826c4191b1f5d3ed1ac4e249": {
      "model_module": "@jupyter-widgets/base",
      "model_module_version": "1.2.0",
      "model_name": "LayoutModel",
      "state": {
       "_model_module": "@jupyter-widgets/base",
       "_model_module_version": "1.2.0",
       "_model_name": "LayoutModel",
       "_view_count": null,
       "_view_module": "@jupyter-widgets/base",
       "_view_module_version": "1.2.0",
       "_view_name": "LayoutView",
       "align_content": null,
       "align_items": null,
       "align_self": null,
       "border": null,
       "bottom": null,
       "display": null,
       "flex": null,
       "flex_flow": null,
       "grid_area": null,
       "grid_auto_columns": null,
       "grid_auto_flow": null,
       "grid_auto_rows": null,
       "grid_column": null,
       "grid_gap": null,
       "grid_row": null,
       "grid_template_areas": null,
       "grid_template_columns": null,
       "grid_template_rows": null,
       "height": null,
       "justify_content": null,
       "justify_items": null,
       "left": null,
       "margin": null,
       "max_height": null,
       "max_width": null,
       "min_height": null,
       "min_width": null,
       "object_fit": null,
       "object_position": null,
       "order": null,
       "overflow": null,
       "overflow_x": null,
       "overflow_y": null,
       "padding": null,
       "right": null,
       "top": null,
       "visibility": null,
       "width": null
      }
     },
     "f25a0bae73cd468f8edc5f15777d6e2a": {
      "model_module": "@jupyter-widgets/base",
      "model_module_version": "1.2.0",
      "model_name": "LayoutModel",
      "state": {
       "_model_module": "@jupyter-widgets/base",
       "_model_module_version": "1.2.0",
       "_model_name": "LayoutModel",
       "_view_count": null,
       "_view_module": "@jupyter-widgets/base",
       "_view_module_version": "1.2.0",
       "_view_name": "LayoutView",
       "align_content": null,
       "align_items": null,
       "align_self": null,
       "border": null,
       "bottom": null,
       "display": null,
       "flex": null,
       "flex_flow": null,
       "grid_area": null,
       "grid_auto_columns": null,
       "grid_auto_flow": null,
       "grid_auto_rows": null,
       "grid_column": null,
       "grid_gap": null,
       "grid_row": null,
       "grid_template_areas": null,
       "grid_template_columns": null,
       "grid_template_rows": null,
       "height": null,
       "justify_content": null,
       "justify_items": null,
       "left": null,
       "margin": null,
       "max_height": null,
       "max_width": null,
       "min_height": null,
       "min_width": null,
       "object_fit": null,
       "object_position": null,
       "order": null,
       "overflow": null,
       "overflow_x": null,
       "overflow_y": null,
       "padding": null,
       "right": null,
       "top": null,
       "visibility": null,
       "width": null
      }
     },
     "f87e2bba44d1427e88683c684ea45b05": {
      "model_module": "@jupyter-widgets/base",
      "model_module_version": "1.2.0",
      "model_name": "LayoutModel",
      "state": {
       "_model_module": "@jupyter-widgets/base",
       "_model_module_version": "1.2.0",
       "_model_name": "LayoutModel",
       "_view_count": null,
       "_view_module": "@jupyter-widgets/base",
       "_view_module_version": "1.2.0",
       "_view_name": "LayoutView",
       "align_content": null,
       "align_items": null,
       "align_self": null,
       "border": null,
       "bottom": null,
       "display": null,
       "flex": null,
       "flex_flow": null,
       "grid_area": null,
       "grid_auto_columns": null,
       "grid_auto_flow": null,
       "grid_auto_rows": null,
       "grid_column": null,
       "grid_gap": null,
       "grid_row": null,
       "grid_template_areas": null,
       "grid_template_columns": null,
       "grid_template_rows": null,
       "height": null,
       "justify_content": null,
       "justify_items": null,
       "left": null,
       "margin": null,
       "max_height": null,
       "max_width": null,
       "min_height": null,
       "min_width": null,
       "object_fit": null,
       "object_position": null,
       "order": null,
       "overflow": null,
       "overflow_x": null,
       "overflow_y": null,
       "padding": null,
       "right": null,
       "top": null,
       "visibility": null,
       "width": null
      }
     },
     "fb3d41b818dd4caea3a1592091ee551a": {
      "model_module": "@jupyter-widgets/controls",
      "model_module_version": "1.5.0",
      "model_name": "DescriptionStyleModel",
      "state": {
       "_model_module": "@jupyter-widgets/controls",
       "_model_module_version": "1.5.0",
       "_model_name": "DescriptionStyleModel",
       "_view_count": null,
       "_view_module": "@jupyter-widgets/base",
       "_view_module_version": "1.2.0",
       "_view_name": "StyleView",
       "description_width": ""
      }
     }
    },
    "version_major": 2,
    "version_minor": 0
   }
  }
 },
 "nbformat": 4,
 "nbformat_minor": 5
}
