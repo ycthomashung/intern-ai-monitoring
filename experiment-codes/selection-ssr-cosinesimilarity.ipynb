{
 "cells": [
  {
   "cell_type": "code",
   "execution_count": 1,
   "id": "efc80f0a",
   "metadata": {
    "_cell_guid": "b1076dfc-b9ad-4769-8c92-a6c4dae69d19",
    "_uuid": "8f2839f25d086af736a60e9eeb907d3b93b6e0e5",
    "execution": {
     "iopub.execute_input": "2022-09-30T12:14:15.526063Z",
     "iopub.status.busy": "2022-09-30T12:14:15.525504Z",
     "iopub.status.idle": "2022-09-30T12:14:32.818275Z",
     "shell.execute_reply": "2022-09-30T12:14:32.817246Z"
    },
    "papermill": {
     "duration": 17.301808,
     "end_time": "2022-09-30T12:14:32.821107",
     "exception": false,
     "start_time": "2022-09-30T12:14:15.519299",
     "status": "completed"
    },
    "tags": []
   },
   "outputs": [
    {
     "name": "stdout",
     "output_type": "stream",
     "text": [
      "Collecting torchsummary\r\n",
      "  Downloading torchsummary-1.5.1-py3-none-any.whl (2.8 kB)\r\n",
      "Installing collected packages: torchsummary\r\n",
      "Successfully installed torchsummary-1.5.1\r\n",
      "\u001b[33mWARNING: Running pip as the 'root' user can result in broken permissions and conflicting behaviour with the system package manager. It is recommended to use a virtual environment instead: https://pip.pypa.io/warnings/venv\u001b[0m\u001b[33m\r\n",
      "\u001b[0m"
     ]
    }
   ],
   "source": [
    "# numpy, scipy, pandas, sklearn, matplotlib\n",
    "import numpy as np\n",
    "import pandas as pd\n",
    "from scipy.stats import entropy\n",
    "# from sklearn.metrics.pairwise import cosine_similarity\n",
    "import matplotlib.pyplot as plt\n",
    "\n",
    "# pytorch and pytorch lightning\n",
    "import torch\n",
    "import torch.nn as nn\n",
    "import torch.nn.functional as F\n",
    "from torch.utils.data import Dataset, DataLoader, Subset\n",
    "import torchvision \n",
    "from torchvision import datasets\n",
    "import torchvision.transforms as transforms\n",
    "!pip install torchsummary\n",
    "from torchsummary import summary\n",
    "try:\n",
    "    import pytorch_lightning as pl\n",
    "except ModuleNotFoundError: # Google Colab does not have PyTorch Lightning installed by default. Hence, we do it here if necessary\n",
    "    !pip install --quiet pytorch-lightning>=1.4\n",
    "    import pytorch_lightning as pl\n",
    "from pytorch_lightning.callbacks import LearningRateMonitor, ModelCheckpoint, EarlyStopping\n",
    "\n",
    "# others\n",
    "import os\n",
    "from tqdm import tqdm_notebook as tqdm\n",
    "import time\n",
    "import warnings\n",
    "warnings.simplefilter(\"ignore\")\n",
    "warnings.filterwarnings(\"ignore\", category=DeprecationWarning)\n",
    "warnings.filterwarnings(\"ignore\", category=UserWarning)\n",
    "warnings.filterwarnings(\"ignore\", category=FutureWarning)"
   ]
  },
  {
   "cell_type": "code",
   "execution_count": 2,
   "id": "ac203aa5",
   "metadata": {
    "execution": {
     "iopub.execute_input": "2022-09-30T12:14:32.830057Z",
     "iopub.status.busy": "2022-09-30T12:14:32.829473Z",
     "iopub.status.idle": "2022-09-30T12:14:32.892369Z",
     "shell.execute_reply": "2022-09-30T12:14:32.891075Z"
    },
    "papermill": {
     "duration": 0.070163,
     "end_time": "2022-09-30T12:14:32.895070",
     "exception": false,
     "start_time": "2022-09-30T12:14:32.824907",
     "status": "completed"
    },
    "tags": []
   },
   "outputs": [
    {
     "name": "stdout",
     "output_type": "stream",
     "text": [
      "Device: cuda:0\n"
     ]
    }
   ],
   "source": [
    "# Setting the seed\n",
    "pl.seed_everything(42)\n",
    "\n",
    "# Ensure that all operations are deterministic on GPU (if used) for reproducibility\n",
    "torch.backends.cudnn.deterministic = True\n",
    "torch.backends.cudnn.benchmark = False\n",
    "\n",
    "device = torch.device(\"cuda:0\") if torch.cuda.is_available() else torch.device(\"cpu\")\n",
    "print(\"Device:\", device)\n",
    "# print(\"Number of workers:\", NUM_WORKERS)"
   ]
  },
  {
   "cell_type": "code",
   "execution_count": 3,
   "id": "65d9ad47",
   "metadata": {
    "execution": {
     "iopub.execute_input": "2022-09-30T12:14:32.903815Z",
     "iopub.status.busy": "2022-09-30T12:14:32.903507Z",
     "iopub.status.idle": "2022-09-30T12:14:32.907928Z",
     "shell.execute_reply": "2022-09-30T12:14:32.906915Z"
    },
    "papermill": {
     "duration": 0.011301,
     "end_time": "2022-09-30T12:14:32.910174",
     "exception": false,
     "start_time": "2022-09-30T12:14:32.898873",
     "status": "completed"
    },
    "tags": []
   },
   "outputs": [],
   "source": [
    "# global constants\n",
    "IMAGE_SIZE = (224, 224)\n",
    "NUM_CLASSES = 3\n",
    "BATCH_SIZE = 32"
   ]
  },
  {
   "cell_type": "code",
   "execution_count": 4,
   "id": "3fe48239",
   "metadata": {
    "execution": {
     "iopub.execute_input": "2022-09-30T12:14:32.918173Z",
     "iopub.status.busy": "2022-09-30T12:14:32.917915Z",
     "iopub.status.idle": "2022-09-30T12:14:50.668446Z",
     "shell.execute_reply": "2022-09-30T12:14:50.667454Z"
    },
    "papermill": {
     "duration": 17.757256,
     "end_time": "2022-09-30T12:14:50.670877",
     "exception": false,
     "start_time": "2022-09-30T12:14:32.913621",
     "status": "completed"
    },
    "tags": []
   },
   "outputs": [],
   "source": [
    "# dataset path\n",
    "deploy_path = '../input/covid19radiographydatabaseedited/COVID-19_Radiography_Dataset'\n",
    "\n",
    "# import data\n",
    "image_transform = transforms.Compose([transforms.Resize(IMAGE_SIZE), transforms.ToTensor(), transforms.Normalize([0.485, 0.456, 0.406],[0.229, 0.224, 0.225])])\n",
    "deployset = datasets.ImageFolder(deploy_path,transform = image_transform)\n",
    "\n",
    "# reduce size of deployment data (for computational time and memory)\n",
    "n_deployment = 800\n",
    "deploy_idx = np.random.choice(len(deployset.targets), size=n_deployment, replace=False)\n",
    "deployset = Subset(deployset, deploy_idx)\n",
    "\n",
    "# print(\"Training set size: {}\\nValidation set size: {}\\nDeployment set size: {}\".format(len(trainset.targets),len(valset.targets),n_deployment))\n",
    "# print(deployset.class_to_idx)"
   ]
  },
  {
   "cell_type": "code",
   "execution_count": 5,
   "id": "a186193b",
   "metadata": {
    "execution": {
     "iopub.execute_input": "2022-09-30T12:14:50.679999Z",
     "iopub.status.busy": "2022-09-30T12:14:50.679667Z",
     "iopub.status.idle": "2022-09-30T12:14:50.695237Z",
     "shell.execute_reply": "2022-09-30T12:14:50.694313Z"
    },
    "papermill": {
     "duration": 0.022545,
     "end_time": "2022-09-30T12:14:50.697261",
     "exception": false,
     "start_time": "2022-09-30T12:14:50.674716",
     "status": "completed"
    },
    "tags": []
   },
   "outputs": [],
   "source": [
    "class SimCLR(pl.LightningModule):\n",
    "\n",
    "    def __init__(self, hidden_dim, lr, temperature, weight_decay, pretrained_model=None, max_epochs=500):\n",
    "        super().__init__()\n",
    "        self.save_hyperparameters()\n",
    "        assert self.hparams.temperature > 0.0, 'The temperature must be a positive float!'\n",
    "        # Base model f(.)\n",
    "        self.model = pretrained_model if pretrained_model is not None else torchvision.models.resnet50(pretrained=True)  # Output of last linear layer: 2048-dim representation\n",
    "        # print(\"Hi\\n{}\".format(list(self.model.children())))\n",
    "        # The MLP for g(.) consists of Linear->ReLU->Linear\n",
    "        # print(self.model.fc)\n",
    "        # print(len(list(list(self.model.children())[-1].children())))\n",
    "        # print(list(self.model.children())[-1])\n",
    "        # print(list(list(self.model.children())[-1].children()))\n",
    "        if len(list(list(self.model.children())[-1].children())) == 0:\n",
    "            self.model = nn.Sequential(*(list(self.model.children())[:-1]),\n",
    "                                        nn.Flatten(),\n",
    "                                        nn.Linear(self.model.fc.in_features, 2048),\n",
    "                                        nn.ReLU(inplace=True),\n",
    "                                        nn.Linear(2048, hidden_dim))\n",
    "            print(\"done\")\n",
    "        # print(\"Hihi\\n{}\".format(list(self.model.children())))\n",
    "    \n",
    "    def forward(self, x):\n",
    "        return self.model(x)\n",
    "    \n",
    "    def configure_optimizers(self):\n",
    "        optimizer = torch.optim.Adam(self.parameters(),\n",
    "                                lr=self.hparams.lr,\n",
    "                                weight_decay=self.hparams.weight_decay)\n",
    "        lr_scheduler = torch.optim.lr_scheduler.CosineAnnealingLR(optimizer,\n",
    "                                                            T_max=self.hparams.max_epochs,\n",
    "                                                            eta_min=self.hparams.lr/50) # search what does it refer to\n",
    "        return [optimizer], [lr_scheduler]\n",
    "\n",
    "    def info_nce_loss(self, batch, mode='train'):\n",
    "        imgs, _ = batch\n",
    "        # print(imgs.shape)\n",
    "        imgs = torch.cat(imgs, dim=0)\n",
    "        # print(imgs.shape)\n",
    "\n",
    "        # Encode all images\n",
    "        feats = self(imgs)\n",
    "        # print(feats.shape)\n",
    "        # Calculate cosine similarity\n",
    "        cos_sim = F.cosine_similarity(feats[:,None,:], feats[None,:,:], dim=-1)\n",
    "        # Mask out cosine similarity to itself\n",
    "        self_mask = torch.eye(cos_sim.shape[0], dtype=torch.bool, device=cos_sim.device)\n",
    "        cos_sim.masked_fill_(self_mask, -9e15)\n",
    "        # Find positive example -> batch_size//2 away from the original example\n",
    "        pos_mask = self_mask.roll(shifts=cos_sim.shape[0]//2, dims=0)\n",
    "        # InfoNCE loss\n",
    "        cos_sim = cos_sim / self.hparams.temperature\n",
    "        nll = -cos_sim[pos_mask] + torch.logsumexp(cos_sim, dim=-1)\n",
    "        nll = nll.mean()\n",
    "\n",
    "        # Logging loss\n",
    "        print(mode+'_loss: {:.4f}'.format(nll))\n",
    "        self.log(mode+'_loss', nll)\n",
    "        # Get ranking position of positive example\n",
    "        comb_sim = torch.cat([cos_sim[pos_mask][:,None],  # First position positive example\n",
    "                              cos_sim.masked_fill(pos_mask, -9e15)],\n",
    "                             dim=-1)\n",
    "        sim_argsort = comb_sim.argsort(dim=-1, descending=True).argmin(dim=-1)\n",
    "        # Logging ranking metrics\n",
    "        self.log(mode+'_acc_top1', (sim_argsort == 0).float().mean())\n",
    "        self.log(mode+'_acc_top5', (sim_argsort < 5).float().mean())\n",
    "        self.log(mode+'_acc_mean_pos', 1+sim_argsort.float().mean())\n",
    "\n",
    "        return nll\n",
    "\n",
    "    def training_step(self, batch, batch_idx):\n",
    "        return self.info_nce_loss(batch, mode='train')\n",
    "\n",
    "    def validation_step(self, batch, batch_idx):\n",
    "        self.info_nce_loss(batch, mode='val')"
   ]
  },
  {
   "cell_type": "code",
   "execution_count": 6,
   "id": "276d751f",
   "metadata": {
    "execution": {
     "iopub.execute_input": "2022-09-30T12:14:50.705674Z",
     "iopub.status.busy": "2022-09-30T12:14:50.705391Z",
     "iopub.status.idle": "2022-09-30T12:14:56.410761Z",
     "shell.execute_reply": "2022-09-30T12:14:56.409359Z"
    },
    "papermill": {
     "duration": 5.712114,
     "end_time": "2022-09-30T12:14:56.413040",
     "exception": false,
     "start_time": "2022-09-30T12:14:50.700926",
     "status": "completed"
    },
    "tags": []
   },
   "outputs": [
    {
     "name": "stdout",
     "output_type": "stream",
     "text": [
      "done\n"
     ]
    }
   ],
   "source": [
    "simclr_model = SimCLR.load_from_checkpoint(\"../input/ssrchestxray/ssr-chest-x-ray.ckpt\") # load pre-trained model\n",
    "feature_model = torch.nn.Sequential(*(list(simclr_model.model.children())[:-3]))\n",
    "# feature_model = simclr_model\n",
    "\n",
    "FEATURE_SIZE = 2048"
   ]
  },
  {
   "cell_type": "code",
   "execution_count": 7,
   "id": "fed2cdc5",
   "metadata": {
    "execution": {
     "iopub.execute_input": "2022-09-30T12:14:56.422456Z",
     "iopub.status.busy": "2022-09-30T12:14:56.422175Z",
     "iopub.status.idle": "2022-09-30T12:35:39.409334Z",
     "shell.execute_reply": "2022-09-30T12:35:39.408270Z"
    },
    "papermill": {
     "duration": 1242.994547,
     "end_time": "2022-09-30T12:35:39.411529",
     "exception": false,
     "start_time": "2022-09-30T12:14:56.416982",
     "status": "completed"
    },
    "tags": []
   },
   "outputs": [
    {
     "data": {
      "application/vnd.jupyter.widget-view+json": {
       "model_id": "3870aa6c3284441bbbb8c8e62349afc9",
       "version_major": 2,
       "version_minor": 0
      },
      "text/plain": [
       "  0%|          | 0/25 [00:00<?, ?it/s]"
      ]
     },
     "metadata": {},
     "output_type": "display_data"
    }
   ],
   "source": [
    "deploy_loader = DataLoader(deployset,batch_size=BATCH_SIZE,shuffle=False,num_workers=4)\n",
    "# deploy_values = torch.empty(n_deployment, FEATURE_SIZE)\n",
    "# deploy_labels = torch.empty(n_deployment)\n",
    "deploy_values = torch.empty(n_deployment, FEATURE_SIZE)\n",
    "deploy_labels = torch.empty(n_deployment)\n",
    "\n",
    "for i, (images, labels) in enumerate(tqdm(deploy_loader, total=int(len(deploy_loader)))):\n",
    "    deploy_values[BATCH_SIZE*i:BATCH_SIZE*i+images.shape[0],:] = feature_model(images).detach().cpu()\n",
    "    deploy_labels[BATCH_SIZE*i:BATCH_SIZE*i+images.shape[0]] = labels"
   ]
  },
  {
   "cell_type": "code",
   "execution_count": 8,
   "id": "e30769aa",
   "metadata": {
    "execution": {
     "iopub.execute_input": "2022-09-30T12:35:39.421102Z",
     "iopub.status.busy": "2022-09-30T12:35:39.420752Z",
     "iopub.status.idle": "2022-09-30T12:35:39.425394Z",
     "shell.execute_reply": "2022-09-30T12:35:39.424355Z"
    },
    "papermill": {
     "duration": 0.012054,
     "end_time": "2022-09-30T12:35:39.427692",
     "exception": false,
     "start_time": "2022-09-30T12:35:39.415638",
     "status": "completed"
    },
    "tags": []
   },
   "outputs": [],
   "source": [
    "# print(deploy_values.shape)\n",
    "# print(deploy_labels)\n",
    "# print(torch.sum(deploy_labels == 0.), torch.sum(deploy_labels == 1.), torch.sum(deploy_labels == 2.))"
   ]
  },
  {
   "cell_type": "code",
   "execution_count": 9,
   "id": "b80cdba4",
   "metadata": {
    "execution": {
     "iopub.execute_input": "2022-09-30T12:35:39.436230Z",
     "iopub.status.busy": "2022-09-30T12:35:39.435952Z",
     "iopub.status.idle": "2022-09-30T12:35:39.443917Z",
     "shell.execute_reply": "2022-09-30T12:35:39.442269Z"
    },
    "papermill": {
     "duration": 0.014451,
     "end_time": "2022-09-30T12:35:39.445842",
     "exception": false,
     "start_time": "2022-09-30T12:35:39.431391",
     "status": "completed"
    },
    "tags": []
   },
   "outputs": [
    {
     "name": "stdout",
     "output_type": "stream",
     "text": [
      "Number of class 0 (COVID) in the dataset: 194\n",
      "Number of class 1 (Normal) in the dataset: 536\n",
      "Number of class 2 (Viral Pneumonia) in the dataset: 70\n"
     ]
    }
   ],
   "source": [
    "# class distribution\n",
    "print(\"Number of class 0 (COVID) in the dataset: {}\\nNumber of class 1 (Normal) in the dataset: {}\\nNumber of class 2 (Viral Pneumonia) in the dataset: {}\".format(torch.sum(deploy_labels == 0.).item(), torch.sum(deploy_labels == 1.).item(), torch.sum(deploy_labels == 2.).item()))"
   ]
  },
  {
   "cell_type": "code",
   "execution_count": 10,
   "id": "3e67d007",
   "metadata": {
    "execution": {
     "iopub.execute_input": "2022-09-30T12:35:39.455397Z",
     "iopub.status.busy": "2022-09-30T12:35:39.454518Z",
     "iopub.status.idle": "2022-09-30T12:35:52.224545Z",
     "shell.execute_reply": "2022-09-30T12:35:52.223553Z"
    },
    "papermill": {
     "duration": 12.777324,
     "end_time": "2022-09-30T12:35:52.227045",
     "exception": false,
     "start_time": "2022-09-30T12:35:39.449721",
     "status": "completed"
    },
    "tags": []
   },
   "outputs": [],
   "source": [
    "cos_sim = nn.CosineSimilarity(dim = 1)\n",
    "cos_sim_matrix = F.cosine_similarity(deploy_values[:,None,:], deploy_values[None,:,:], dim=-1)"
   ]
  },
  {
   "cell_type": "code",
   "execution_count": 11,
   "id": "1a8b0ed3",
   "metadata": {
    "execution": {
     "iopub.execute_input": "2022-09-30T12:35:52.238044Z",
     "iopub.status.busy": "2022-09-30T12:35:52.236443Z",
     "iopub.status.idle": "2022-09-30T12:35:52.271693Z",
     "shell.execute_reply": "2022-09-30T12:35:52.270789Z"
    },
    "papermill": {
     "duration": 0.042575,
     "end_time": "2022-09-30T12:35:52.273883",
     "exception": false,
     "start_time": "2022-09-30T12:35:52.231308",
     "status": "completed"
    },
    "tags": []
   },
   "outputs": [],
   "source": [
    "# print(cos_sim_matrix)"
   ]
  },
  {
   "cell_type": "code",
   "execution_count": 12,
   "id": "abf099a0",
   "metadata": {
    "execution": {
     "iopub.execute_input": "2022-09-30T12:35:52.283516Z",
     "iopub.status.busy": "2022-09-30T12:35:52.282625Z",
     "iopub.status.idle": "2022-09-30T12:35:52.294093Z",
     "shell.execute_reply": "2022-09-30T12:35:52.293093Z"
    },
    "papermill": {
     "duration": 0.018544,
     "end_time": "2022-09-30T12:35:52.296505",
     "exception": false,
     "start_time": "2022-09-30T12:35:52.277961",
     "status": "completed"
    },
    "tags": []
   },
   "outputs": [
    {
     "data": {
      "text/plain": [
       "tensor([[-2.0000,  0.8809,  0.5422,  ...,  0.7102,  0.9351,  0.9827],\n",
       "        [ 0.8809, -2.0000,  0.5649,  ...,  0.9029,  0.9681,  0.9024],\n",
       "        [ 0.5422,  0.5649, -2.0000,  ...,  0.7108,  0.4944,  0.4618],\n",
       "        ...,\n",
       "        [ 0.7102,  0.9029,  0.7108,  ..., -2.0000,  0.8090,  0.7036],\n",
       "        [ 0.9351,  0.9681,  0.4944,  ...,  0.8090, -2.0000,  0.9649],\n",
       "        [ 0.9827,  0.9024,  0.4618,  ...,  0.7036,  0.9649, -2.0000]])"
      ]
     },
     "execution_count": 12,
     "metadata": {},
     "output_type": "execute_result"
    }
   ],
   "source": [
    "# self mask\n",
    "self_mask = torch.eye(cos_sim_matrix.shape[0], dtype=torch.bool, device=cos_sim_matrix.device)\n",
    "cos_sim_matrix.masked_fill_(self_mask, -2)\n",
    "# print(cos_sim_matrix)"
   ]
  },
  {
   "cell_type": "code",
   "execution_count": 13,
   "id": "b95b555a",
   "metadata": {
    "execution": {
     "iopub.execute_input": "2022-09-30T12:35:52.306073Z",
     "iopub.status.busy": "2022-09-30T12:35:52.305715Z",
     "iopub.status.idle": "2022-09-30T12:35:52.409007Z",
     "shell.execute_reply": "2022-09-30T12:35:52.407598Z"
    },
    "papermill": {
     "duration": 0.112268,
     "end_time": "2022-09-30T12:35:52.412784",
     "exception": false,
     "start_time": "2022-09-30T12:35:52.300516",
     "status": "completed"
    },
    "tags": []
   },
   "outputs": [
    {
     "name": "stdout",
     "output_type": "stream",
     "text": [
      "Selection batch 1\n",
      "Number of class 0 (COVID) selected: 1\n",
      "Number of class 1 (Normal) selected: 13\n",
      "Number of class 2 (Viral Pneumonia) selected: 2\n",
      "The least selected class is class 0\n",
      "Selection batch 2\n",
      "Number of class 0 (COVID) selected: 4\n",
      "Number of class 1 (Normal) selected: 25\n",
      "Number of class 2 (Viral Pneumonia) selected: 3\n",
      "The least selected class is class 2\n",
      "Selection batch 3\n",
      "Number of class 0 (COVID) selected: 10\n",
      "Number of class 1 (Normal) selected: 26\n",
      "Number of class 2 (Viral Pneumonia) selected: 12\n",
      "The least selected class is class 0\n",
      "Selection batch 4\n",
      "Number of class 0 (COVID) selected: 17\n",
      "Number of class 1 (Normal) selected: 34\n",
      "Number of class 2 (Viral Pneumonia) selected: 13\n",
      "The least selected class is class 2\n",
      "Selection batch 5\n",
      "Number of class 0 (COVID) selected: 23\n",
      "Number of class 1 (Normal) selected: 44\n",
      "Number of class 2 (Viral Pneumonia) selected: 13\n",
      "The least selected class is class 2\n",
      "Selection batch 6\n",
      "Number of class 0 (COVID) selected: 31\n",
      "Number of class 1 (Normal) selected: 44\n",
      "Number of class 2 (Viral Pneumonia) selected: 21\n",
      "The least selected class is class 2\n",
      "Selection batch 7\n",
      "Number of class 0 (COVID) selected: 31\n",
      "Number of class 1 (Normal) selected: 49\n",
      "Number of class 2 (Viral Pneumonia) selected: 32\n",
      "The least selected class is class 0\n",
      "Selection batch 8\n",
      "Number of class 0 (COVID) selected: 38\n",
      "Number of class 1 (Normal) selected: 58\n",
      "Number of class 2 (Viral Pneumonia) selected: 32\n",
      "The least selected class is class 2\n",
      "Selection batch 9\n",
      "Number of class 0 (COVID) selected: 38\n",
      "Number of class 1 (Normal) selected: 67\n",
      "Number of class 2 (Viral Pneumonia) selected: 39\n",
      "The least selected class is class 0\n",
      "Selection batch 10\n",
      "Number of class 0 (COVID) selected: 51\n",
      "Number of class 1 (Normal) selected: 70\n",
      "Number of class 2 (Viral Pneumonia) selected: 39\n",
      "The least selected class is class 2\n",
      "Selection batch 11\n",
      "Number of class 0 (COVID) selected: 51\n",
      "Number of class 1 (Normal) selected: 80\n",
      "Number of class 2 (Viral Pneumonia) selected: 45\n",
      "The least selected class is class 2\n",
      "Selection batch 12\n",
      "Number of class 0 (COVID) selected: 51\n",
      "Number of class 1 (Normal) selected: 90\n",
      "Number of class 2 (Viral Pneumonia) selected: 51\n",
      "The least selected class is class 0\n",
      "Selection batch 13\n",
      "Number of class 0 (COVID) selected: 58\n",
      "Number of class 1 (Normal) selected: 99\n",
      "Number of class 2 (Viral Pneumonia) selected: 51\n",
      "The least selected class is class 2\n",
      "Selection batch 14\n",
      "Number of class 0 (COVID) selected: 59\n",
      "Number of class 1 (Normal) selected: 112\n",
      "Number of class 2 (Viral Pneumonia) selected: 53\n",
      "The least selected class is class 2\n",
      "Selection batch 15\n",
      "Number of class 0 (COVID) selected: 64\n",
      "Number of class 1 (Normal) selected: 114\n",
      "Number of class 2 (Viral Pneumonia) selected: 62\n",
      "The least selected class is class 2\n",
      "Selection batch 16\n",
      "Number of class 0 (COVID) selected: 64\n",
      "Number of class 1 (Normal) selected: 124\n",
      "Number of class 2 (Viral Pneumonia) selected: 68\n",
      "The least selected class is class 0\n",
      "Selection batch 17\n",
      "Number of class 0 (COVID) selected: 71\n",
      "Number of class 1 (Normal) selected: 133\n",
      "Number of class 2 (Viral Pneumonia) selected: 68\n",
      "The least selected class is class 2\n",
      "Selection batch 18\n",
      "Number of class 0 (COVID) selected: 73\n",
      "Number of class 1 (Normal) selected: 146\n",
      "Number of class 2 (Viral Pneumonia) selected: 69\n",
      "The least selected class is class 2\n",
      "Selection batch 19\n",
      "Number of class 0 (COVID) selected: 76\n",
      "Number of class 1 (Normal) selected: 159\n",
      "Number of class 2 (Viral Pneumonia) selected: 69\n",
      "The least selected class is class 2\n",
      "Selection batch 20\n",
      "Number of class 0 (COVID) selected: 91\n",
      "Number of class 1 (Normal) selected: 160\n",
      "Number of class 2 (Viral Pneumonia) selected: 69\n",
      "The least selected class is class 2\n",
      "Selection batch 21\n",
      "Number of class 0 (COVID) selected: 102\n",
      "Number of class 1 (Normal) selected: 165\n",
      "Number of class 2 (Viral Pneumonia) selected: 69\n",
      "The least selected class is class 2\n",
      "Selection batch 22\n",
      "Number of class 0 (COVID) selected: 108\n",
      "Number of class 1 (Normal) selected: 175\n",
      "Number of class 2 (Viral Pneumonia) selected: 69\n",
      "The least selected class is class 2\n",
      "Selection batch 23\n",
      "Number of class 0 (COVID) selected: 109\n",
      "Number of class 1 (Normal) selected: 190\n",
      "Number of class 2 (Viral Pneumonia) selected: 69\n",
      "The least selected class is class 2\n",
      "Selection batch 24\n",
      "Number of class 0 (COVID) selected: 110\n",
      "Number of class 1 (Normal) selected: 205\n",
      "Number of class 2 (Viral Pneumonia) selected: 69\n",
      "The least selected class is class 2\n",
      "Selection batch 25\n",
      "Number of class 0 (COVID) selected: 112\n",
      "Number of class 1 (Normal) selected: 219\n",
      "Number of class 2 (Viral Pneumonia) selected: 69\n",
      "The least selected class is class 2\n",
      "[90, 355, 98, 138, 545, 111, 694, 313, 326, 561, 184, 510, 743, 759, 102, 71, 174, 746, 789, 508, 710, 785, 692, 479, 672, 338, 385, 354, 4, 235, 656, 606, 519, 495, 687, 667, 341, 541, 769, 144, 633, 295, 95, 636, 647, 307, 735, 362, 79, 497, 554, 657, 595, 591, 709, 34, 173, 366, 535, 281, 218, 82, 461, 316, 280, 579, 299, 314, 577, 765, 372, 739, 187, 244, 581, 501, 485, 293, 188, 587, 791, 637, 180, 150, 726, 361, 301, 195, 488, 782, 594, 644, 287, 532, 76, 674, 176, 717, 409, 450, 500, 245, 17, 404, 794, 697, 322, 339, 626, 518, 465, 712, 428, 384, 105, 200, 223, 506, 582, 492, 367, 568, 471, 186, 68, 476, 458, 279, 685, 158, 253, 330, 563, 370, 623, 183, 788, 469, 616, 574, 208, 232, 58, 67, 569, 161, 678, 601, 122, 549, 306, 734, 248, 583, 204, 80, 412, 417, 750, 713, 387, 38, 706, 25, 262, 179, 237, 650, 419, 507, 620, 343, 243, 663, 560, 156, 142, 196, 526, 256, 55, 276, 612, 772, 669, 198, 181, 247, 209, 447, 749, 691, 779, 157, 116, 547, 327, 681, 575, 477, 113, 389, 133, 323, 369, 552, 331, 467, 397, 619, 570, 585, 29, 621, 75, 325, 662, 26, 543, 191, 115, 707, 131, 698, 556, 148, 182, 446, 56, 272, 126, 305, 189, 778, 642, 288, 103, 576, 146, 572, 2, 382, 542, 730, 410, 432, 604, 379, 242, 504, 46, 741, 457, 123, 738, 406, 77, 760, 740, 401, 294, 255, 793, 445, 573, 407, 444, 723, 320, 673, 737, 40, 290, 64, 350, 311, 481, 72, 267, 474, 590, 434, 731, 347, 352, 396, 664, 784, 169, 120, 771, 201, 261, 266, 449, 796, 531, 268, 212, 752, 99, 309, 754, 8, 462, 28, 675, 436, 238, 473, 119, 298, 192, 640, 275, 155, 291, 592, 671, 84, 252, 284, 41, 220, 537, 22, 704, 733, 586, 661, 482, 756, 588, 538, 97, 515, 721, 753, 118, 23, 130, 378, 121, 87, 512, 78, 792, 502, 490, 31, 54, 49, 766, 277, 304, 85, 797, 224, 696, 358, 108, 219, 452, 32, 464, 308, 534, 539, 736, 431, 715, 296, 405, 222, 303, 205, 271, 365, 246, 171, 655, 42, 470, 30, 762, 487, 466, 498, 456, 164, 430, 45, 533, 135, 315, 190, 101, 368, 517, 776]\n"
     ]
    }
   ],
   "source": [
    "# active learning step\n",
    "SELECTION_BATCH_SIZE = 16\n",
    "MIN_ALL_CLASSES = 2 # alternative: edit algorithm so random selection happens with a probability (exploration-exploitation trade-off)\n",
    "selection_idx = []\n",
    "least_selected = None\n",
    "\n",
    "for i in range(int(0.5*n_deployment/SELECTION_BATCH_SIZE)):\n",
    "    print(\"Selection batch {}\".format(i+1))\n",
    "    if i == 0 or torch.sum(deploy_labels[selection_idx] == least_selected).item() < MIN_ALL_CLASSES:\n",
    "        # search until all classes have at least 1 data\n",
    "        new_selection = np.random.choice(cos_sim_matrix.shape[0], size=SELECTION_BATCH_SIZE, replace=False)\n",
    "    else:\n",
    "        least_selected_pos = np.where(deploy_labels[selection_idx] == least_selected)[0] # get the positions in selection_idx for the least selected class\n",
    "        least_selected_idx = selection_idx[np.random.choice(least_selected_pos, size=1)[0]] # get an index belonging to the least selected class\n",
    "        sim_array = cos_sim_matrix[least_selected_idx,:] # get the similarity array for the specific index\n",
    "        sim_array_rank = torch.argsort(sim_array, descending=True) # get the rank of each image in terms of similarity\n",
    "        # print(sim_array) # sanity check\n",
    "        # print(sim_array_rank) # sanity check\n",
    "        new_selection = sim_array_rank[:SELECTION_BATCH_SIZE]\n",
    "    for idx in new_selection.tolist():\n",
    "        selection_idx.append(idx)\n",
    "    # mask the index so they won't be selected again\n",
    "    new_selection_mask = torch.Tensor([(i in selection_idx) for i in range(cos_sim_matrix.shape[0])]).type(torch.BoolTensor)\n",
    "    cos_sim_matrix.masked_fill_(new_selection_mask, -2) # mask by columns\n",
    "    \n",
    "    least_selected = np.argmin([torch.sum(deploy_labels[selection_idx] == 0.).item(), torch.sum(deploy_labels[selection_idx] == 1.).item(), torch.sum(deploy_labels[selection_idx] == 2.).item()])\n",
    "    print(\"Number of class 0 (COVID) selected: {}\\nNumber of class 1 (Normal) selected: {}\\nNumber of class 2 (Viral Pneumonia) selected: {}\".format(torch.sum(deploy_labels[selection_idx] == 0.).item(), torch.sum(deploy_labels[selection_idx] == 1.).item(), torch.sum(deploy_labels[selection_idx] == 2.).item()))\n",
    "    print(\"The least selected class is class {}\".format(least_selected)) # sanity check\n",
    "\n",
    "print(selection_idx)"
   ]
  }
 ],
 "metadata": {
  "kernelspec": {
   "display_name": "Python 3",
   "language": "python",
   "name": "python3"
  },
  "language_info": {
   "codemirror_mode": {
    "name": "ipython",
    "version": 3
   },
   "file_extension": ".py",
   "mimetype": "text/x-python",
   "name": "python",
   "nbconvert_exporter": "python",
   "pygments_lexer": "ipython3",
   "version": "3.7.12"
  },
  "papermill": {
   "default_parameters": {},
   "duration": 1307.173863,
   "end_time": "2022-09-30T12:35:54.853262",
   "environment_variables": {},
   "exception": null,
   "input_path": "__notebook__.ipynb",
   "output_path": "__notebook__.ipynb",
   "parameters": {},
   "start_time": "2022-09-30T12:14:07.679399",
   "version": "2.3.4"
  },
  "widgets": {
   "application/vnd.jupyter.widget-state+json": {
    "state": {
     "200454dde39742d4b36209e1e14b0173": {
      "model_module": "@jupyter-widgets/base",
      "model_module_version": "1.2.0",
      "model_name": "LayoutModel",
      "state": {
       "_model_module": "@jupyter-widgets/base",
       "_model_module_version": "1.2.0",
       "_model_name": "LayoutModel",
       "_view_count": null,
       "_view_module": "@jupyter-widgets/base",
       "_view_module_version": "1.2.0",
       "_view_name": "LayoutView",
       "align_content": null,
       "align_items": null,
       "align_self": null,
       "border": null,
       "bottom": null,
       "display": null,
       "flex": null,
       "flex_flow": null,
       "grid_area": null,
       "grid_auto_columns": null,
       "grid_auto_flow": null,
       "grid_auto_rows": null,
       "grid_column": null,
       "grid_gap": null,
       "grid_row": null,
       "grid_template_areas": null,
       "grid_template_columns": null,
       "grid_template_rows": null,
       "height": null,
       "justify_content": null,
       "justify_items": null,
       "left": null,
       "margin": null,
       "max_height": null,
       "max_width": null,
       "min_height": null,
       "min_width": null,
       "object_fit": null,
       "object_position": null,
       "order": null,
       "overflow": null,
       "overflow_x": null,
       "overflow_y": null,
       "padding": null,
       "right": null,
       "top": null,
       "visibility": null,
       "width": null
      }
     },
     "3870aa6c3284441bbbb8c8e62349afc9": {
      "model_module": "@jupyter-widgets/controls",
      "model_module_version": "1.5.0",
      "model_name": "HBoxModel",
      "state": {
       "_dom_classes": [],
       "_model_module": "@jupyter-widgets/controls",
       "_model_module_version": "1.5.0",
       "_model_name": "HBoxModel",
       "_view_count": null,
       "_view_module": "@jupyter-widgets/controls",
       "_view_module_version": "1.5.0",
       "_view_name": "HBoxView",
       "box_style": "",
       "children": [
        "IPY_MODEL_403caa0e93b94771b46a01c03705c7fe",
        "IPY_MODEL_3ce812281d6c404888c05e5968c16441",
        "IPY_MODEL_42f0926c496846d0838d01e0d39f4760"
       ],
       "layout": "IPY_MODEL_f1d8ec87f57747d5bae491d9bc03e4ee"
      }
     },
     "3ce812281d6c404888c05e5968c16441": {
      "model_module": "@jupyter-widgets/controls",
      "model_module_version": "1.5.0",
      "model_name": "FloatProgressModel",
      "state": {
       "_dom_classes": [],
       "_model_module": "@jupyter-widgets/controls",
       "_model_module_version": "1.5.0",
       "_model_name": "FloatProgressModel",
       "_view_count": null,
       "_view_module": "@jupyter-widgets/controls",
       "_view_module_version": "1.5.0",
       "_view_name": "ProgressView",
       "bar_style": "success",
       "description": "",
       "description_tooltip": null,
       "layout": "IPY_MODEL_9fd3f9aa261842e2a8b906afb7dd10ef",
       "max": 25.0,
       "min": 0.0,
       "orientation": "horizontal",
       "style": "IPY_MODEL_c5b27b948d4f401a9fe9b3c991a91aea",
       "value": 25.0
      }
     },
     "403caa0e93b94771b46a01c03705c7fe": {
      "model_module": "@jupyter-widgets/controls",
      "model_module_version": "1.5.0",
      "model_name": "HTMLModel",
      "state": {
       "_dom_classes": [],
       "_model_module": "@jupyter-widgets/controls",
       "_model_module_version": "1.5.0",
       "_model_name": "HTMLModel",
       "_view_count": null,
       "_view_module": "@jupyter-widgets/controls",
       "_view_module_version": "1.5.0",
       "_view_name": "HTMLView",
       "description": "",
       "description_tooltip": null,
       "layout": "IPY_MODEL_200454dde39742d4b36209e1e14b0173",
       "placeholder": "​",
       "style": "IPY_MODEL_6a9b03644ea4472c97c999832232228e",
       "value": "100%"
      }
     },
     "42f0926c496846d0838d01e0d39f4760": {
      "model_module": "@jupyter-widgets/controls",
      "model_module_version": "1.5.0",
      "model_name": "HTMLModel",
      "state": {
       "_dom_classes": [],
       "_model_module": "@jupyter-widgets/controls",
       "_model_module_version": "1.5.0",
       "_model_name": "HTMLModel",
       "_view_count": null,
       "_view_module": "@jupyter-widgets/controls",
       "_view_module_version": "1.5.0",
       "_view_name": "HTMLView",
       "description": "",
       "description_tooltip": null,
       "layout": "IPY_MODEL_6b12f858de004506ad37f325ea79f6a7",
       "placeholder": "​",
       "style": "IPY_MODEL_71c85f0744504fa3858d983583948be1",
       "value": " 25/25 [20:42&lt;00:00, 49.57s/it]"
      }
     },
     "6a9b03644ea4472c97c999832232228e": {
      "model_module": "@jupyter-widgets/controls",
      "model_module_version": "1.5.0",
      "model_name": "DescriptionStyleModel",
      "state": {
       "_model_module": "@jupyter-widgets/controls",
       "_model_module_version": "1.5.0",
       "_model_name": "DescriptionStyleModel",
       "_view_count": null,
       "_view_module": "@jupyter-widgets/base",
       "_view_module_version": "1.2.0",
       "_view_name": "StyleView",
       "description_width": ""
      }
     },
     "6b12f858de004506ad37f325ea79f6a7": {
      "model_module": "@jupyter-widgets/base",
      "model_module_version": "1.2.0",
      "model_name": "LayoutModel",
      "state": {
       "_model_module": "@jupyter-widgets/base",
       "_model_module_version": "1.2.0",
       "_model_name": "LayoutModel",
       "_view_count": null,
       "_view_module": "@jupyter-widgets/base",
       "_view_module_version": "1.2.0",
       "_view_name": "LayoutView",
       "align_content": null,
       "align_items": null,
       "align_self": null,
       "border": null,
       "bottom": null,
       "display": null,
       "flex": null,
       "flex_flow": null,
       "grid_area": null,
       "grid_auto_columns": null,
       "grid_auto_flow": null,
       "grid_auto_rows": null,
       "grid_column": null,
       "grid_gap": null,
       "grid_row": null,
       "grid_template_areas": null,
       "grid_template_columns": null,
       "grid_template_rows": null,
       "height": null,
       "justify_content": null,
       "justify_items": null,
       "left": null,
       "margin": null,
       "max_height": null,
       "max_width": null,
       "min_height": null,
       "min_width": null,
       "object_fit": null,
       "object_position": null,
       "order": null,
       "overflow": null,
       "overflow_x": null,
       "overflow_y": null,
       "padding": null,
       "right": null,
       "top": null,
       "visibility": null,
       "width": null
      }
     },
     "71c85f0744504fa3858d983583948be1": {
      "model_module": "@jupyter-widgets/controls",
      "model_module_version": "1.5.0",
      "model_name": "DescriptionStyleModel",
      "state": {
       "_model_module": "@jupyter-widgets/controls",
       "_model_module_version": "1.5.0",
       "_model_name": "DescriptionStyleModel",
       "_view_count": null,
       "_view_module": "@jupyter-widgets/base",
       "_view_module_version": "1.2.0",
       "_view_name": "StyleView",
       "description_width": ""
      }
     },
     "9fd3f9aa261842e2a8b906afb7dd10ef": {
      "model_module": "@jupyter-widgets/base",
      "model_module_version": "1.2.0",
      "model_name": "LayoutModel",
      "state": {
       "_model_module": "@jupyter-widgets/base",
       "_model_module_version": "1.2.0",
       "_model_name": "LayoutModel",
       "_view_count": null,
       "_view_module": "@jupyter-widgets/base",
       "_view_module_version": "1.2.0",
       "_view_name": "LayoutView",
       "align_content": null,
       "align_items": null,
       "align_self": null,
       "border": null,
       "bottom": null,
       "display": null,
       "flex": null,
       "flex_flow": null,
       "grid_area": null,
       "grid_auto_columns": null,
       "grid_auto_flow": null,
       "grid_auto_rows": null,
       "grid_column": null,
       "grid_gap": null,
       "grid_row": null,
       "grid_template_areas": null,
       "grid_template_columns": null,
       "grid_template_rows": null,
       "height": null,
       "justify_content": null,
       "justify_items": null,
       "left": null,
       "margin": null,
       "max_height": null,
       "max_width": null,
       "min_height": null,
       "min_width": null,
       "object_fit": null,
       "object_position": null,
       "order": null,
       "overflow": null,
       "overflow_x": null,
       "overflow_y": null,
       "padding": null,
       "right": null,
       "top": null,
       "visibility": null,
       "width": null
      }
     },
     "c5b27b948d4f401a9fe9b3c991a91aea": {
      "model_module": "@jupyter-widgets/controls",
      "model_module_version": "1.5.0",
      "model_name": "ProgressStyleModel",
      "state": {
       "_model_module": "@jupyter-widgets/controls",
       "_model_module_version": "1.5.0",
       "_model_name": "ProgressStyleModel",
       "_view_count": null,
       "_view_module": "@jupyter-widgets/base",
       "_view_module_version": "1.2.0",
       "_view_name": "StyleView",
       "bar_color": null,
       "description_width": ""
      }
     },
     "f1d8ec87f57747d5bae491d9bc03e4ee": {
      "model_module": "@jupyter-widgets/base",
      "model_module_version": "1.2.0",
      "model_name": "LayoutModel",
      "state": {
       "_model_module": "@jupyter-widgets/base",
       "_model_module_version": "1.2.0",
       "_model_name": "LayoutModel",
       "_view_count": null,
       "_view_module": "@jupyter-widgets/base",
       "_view_module_version": "1.2.0",
       "_view_name": "LayoutView",
       "align_content": null,
       "align_items": null,
       "align_self": null,
       "border": null,
       "bottom": null,
       "display": null,
       "flex": null,
       "flex_flow": null,
       "grid_area": null,
       "grid_auto_columns": null,
       "grid_auto_flow": null,
       "grid_auto_rows": null,
       "grid_column": null,
       "grid_gap": null,
       "grid_row": null,
       "grid_template_areas": null,
       "grid_template_columns": null,
       "grid_template_rows": null,
       "height": null,
       "justify_content": null,
       "justify_items": null,
       "left": null,
       "margin": null,
       "max_height": null,
       "max_width": null,
       "min_height": null,
       "min_width": null,
       "object_fit": null,
       "object_position": null,
       "order": null,
       "overflow": null,
       "overflow_x": null,
       "overflow_y": null,
       "padding": null,
       "right": null,
       "top": null,
       "visibility": null,
       "width": null
      }
     }
    },
    "version_major": 2,
    "version_minor": 0
   }
  }
 },
 "nbformat": 4,
 "nbformat_minor": 5
}
