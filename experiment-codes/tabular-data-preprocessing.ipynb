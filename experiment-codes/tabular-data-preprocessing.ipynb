{
 "cells": [
  {
   "cell_type": "code",
   "execution_count": 1,
   "id": "1c9b3e05",
   "metadata": {
    "_cell_guid": "b1076dfc-b9ad-4769-8c92-a6c4dae69d19",
    "_uuid": "8f2839f25d086af736a60e9eeb907d3b93b6e0e5",
    "execution": {
     "iopub.execute_input": "2022-07-18T13:36:16.003461Z",
     "iopub.status.busy": "2022-07-18T13:36:16.002875Z",
     "iopub.status.idle": "2022-07-18T13:36:16.017313Z",
     "shell.execute_reply": "2022-07-18T13:36:16.016417Z"
    },
    "papermill": {
     "duration": 0.022173,
     "end_time": "2022-07-18T13:36:16.019702",
     "exception": false,
     "start_time": "2022-07-18T13:36:15.997529",
     "status": "completed"
    },
    "tags": []
   },
   "outputs": [],
   "source": [
    "# import libraries\n",
    "import numpy as np\n",
    "import pandas as pd\n",
    "import datetime\n",
    "import math\n",
    "from tqdm import tqdm"
   ]
  },
  {
   "cell_type": "code",
   "execution_count": 2,
   "id": "4836c2a3",
   "metadata": {
    "execution": {
     "iopub.execute_input": "2022-07-18T13:36:16.026375Z",
     "iopub.status.busy": "2022-07-18T13:36:16.026054Z",
     "iopub.status.idle": "2022-07-18T13:36:16.035376Z",
     "shell.execute_reply": "2022-07-18T13:36:16.034518Z"
    },
    "papermill": {
     "duration": 0.015191,
     "end_time": "2022-07-18T13:36:16.037513",
     "exception": false,
     "start_time": "2022-07-18T13:36:16.022322",
     "status": "completed"
    },
    "tags": []
   },
   "outputs": [],
   "source": [
    "# preprocessing the demographic part of the data\n",
    "def preprocess_demo(df):\n",
    "    # standardize the inputs in ETHNICITY\n",
    "    for i in tqdm(range(len(df))):\n",
    "        if 'ASIAN' in df.loc[i, 'ETHNICITY']:\n",
    "            df.loc[i, 'ETHNICITY'] = 'ASIAN'\n",
    "        elif 'BLACK' in df.loc[i, 'ETHNICITY']:\n",
    "            df.loc[i, 'ETHNICITY'] = 'BLACK'\n",
    "        elif 'HISPANIC' in df.loc[i, 'ETHNICITY']:\n",
    "            df.loc[i, 'ETHNICITY'] = 'HISPANIC'\n",
    "        elif 'WHITE' in df.loc[i, 'ETHNICITY']:\n",
    "            df.loc[i, 'ETHNICITY'] = 'WHITE'\n",
    "        else:\n",
    "            df.loc[i, 'ETHNICITY'] = 'OTHERS'\n",
    "    \n",
    "    assert len(pd.unique(df['GENDER'])) == 2\n",
    "    assert len(pd.unique(df['ETHNICITY'])) == 5\n",
    "    \n",
    "    df = pd.get_dummies(df, columns=['GENDER', 'ETHNICITY']) # one-hot-encoding on GENDER and ETHNICITY\n",
    "    df.reset_index(drop=True, inplace=True)\n",
    "    # print(len(df))\n",
    "    return df"
   ]
  },
  {
   "cell_type": "code",
   "execution_count": 3,
   "id": "6c135fa3",
   "metadata": {
    "execution": {
     "iopub.execute_input": "2022-07-18T13:36:16.044030Z",
     "iopub.status.busy": "2022-07-18T13:36:16.043715Z",
     "iopub.status.idle": "2022-07-18T13:36:16.049080Z",
     "shell.execute_reply": "2022-07-18T13:36:16.047919Z"
    },
    "papermill": {
     "duration": 0.011212,
     "end_time": "2022-07-18T13:36:16.051267",
     "exception": false,
     "start_time": "2022-07-18T13:36:16.040055",
     "status": "completed"
    },
    "tags": []
   },
   "outputs": [],
   "source": [
    "# convert the DataTime in SQL to a Python DataTime object\n",
    "def convert_datetime(df):\n",
    "    f = '%Y-%m-%d'+' '+'%H:%M:%S'\n",
    "    df['CHARTTIME'] = df['CHARTTIME'].apply(lambda x: datetime.datetime.strptime(x, f))\n",
    "    return df"
   ]
  },
  {
   "cell_type": "code",
   "execution_count": 4,
   "id": "a0480749",
   "metadata": {
    "execution": {
     "iopub.execute_input": "2022-07-18T13:36:16.057900Z",
     "iopub.status.busy": "2022-07-18T13:36:16.057524Z",
     "iopub.status.idle": "2022-07-18T13:36:16.073801Z",
     "shell.execute_reply": "2022-07-18T13:36:16.073023Z"
    },
    "papermill": {
     "duration": 0.022337,
     "end_time": "2022-07-18T13:36:16.076108",
     "exception": false,
     "start_time": "2022-07-18T13:36:16.053771",
     "status": "completed"
    },
    "tags": []
   },
   "outputs": [],
   "source": [
    "# preprocessing the clinical part of the data\n",
    "def preprocess_value(df_value, clinical):\n",
    "    # set column names for the 24 bins for each clinical feature, and the ICUSTAY_ID for merging\n",
    "    l = ['ICUSTAY_ID']\n",
    "    for i in range(24):\n",
    "        l.append('{} {}-{}hr'.format(clinical, i, i+1))\n",
    "    # print(l)\n",
    "    new_df_value_array = np.empty((len(pd.unique(df_value['ICUSTAY_ID'])), 25)) # define the new DataFrame array\n",
    "    cnt = 0 # number of cases processed\n",
    "    bins = [[] for i in range(24)] # set 24 bins, representing each hour in the first 24 hours of each case\n",
    "    current_id = df_value.loc[0,'ICUSTAY_ID'] # initialization\n",
    "    base_time = df_value.loc[0,'CHARTTIME'] # initialization\n",
    "    for i in range(len(df_value)):\n",
    "        icustay_id = df_value.loc[i,'ICUSTAY_ID']\n",
    "        if current_id != icustay_id:\n",
    "            # perform the averaging over each hour bin\n",
    "            for idx,e in enumerate(bins):\n",
    "                if len(e) > 0:\n",
    "                    bins[idx] = sum(e) / len(e)\n",
    "                else:\n",
    "                    bins[idx] = None\n",
    "            bins.insert(0, current_id)\n",
    "            new_df_value_array[cnt,:] = np.array(bins, dtype=np.float64) # add preprocessed data\n",
    "            cnt += 1\n",
    "            bins = [[] for i in range(24)]\n",
    "            base_time = df_value.loc[i,'CHARTTIME'] # update base_time\n",
    "            current_id = icustay_id # update current_id\n",
    "        time_diff = math.floor((df_value.loc[i,'CHARTTIME']-base_time).total_seconds() / 3600) # time difference in terms of hours\n",
    "        assert time_diff < 24 # if this generates an error, it is the problem of the generation of .csv file\n",
    "        bins[time_diff].append(df_value.loc[i,'VALUENUM']) # add a value into the corresponding bin\n",
    "        \n",
    "        # check end of for-loop and perform the averaging over each hour bin\n",
    "        if i == len(df_value)-1:\n",
    "            for idx,e in enumerate(bins):\n",
    "                if len(e) > 0:\n",
    "                    bins[idx] = sum(e) / len(e)\n",
    "                else:\n",
    "                    bins[idx] = None\n",
    "            bins.insert(0, current_id)\n",
    "            new_df_value_array[cnt,:] = np.array(bins, dtype=np.float64) # add preprocessed data\n",
    "            cnt += 1\n",
    "    assert cnt == len(pd.unique(df_value['ICUSTAY_ID']))\n",
    "    new_df_value = pd.DataFrame(new_df_value_array, columns=l)\n",
    "    new_df_value['ICUSTAY_ID'] = new_df_value['ICUSTAY_ID'].astype(new_df['ICUSTAY_ID'].dtypes) # change data type so that it can be merged\n",
    "    return new_df_value"
   ]
  },
  {
   "cell_type": "code",
   "execution_count": 5,
   "id": "c858e36f",
   "metadata": {
    "execution": {
     "iopub.execute_input": "2022-07-18T13:36:16.082592Z",
     "iopub.status.busy": "2022-07-18T13:36:16.082192Z",
     "iopub.status.idle": "2022-07-18T13:41:21.432352Z",
     "shell.execute_reply": "2022-07-18T13:41:21.431232Z"
    },
    "papermill": {
     "duration": 305.356495,
     "end_time": "2022-07-18T13:41:21.435149",
     "exception": false,
     "start_time": "2022-07-18T13:36:16.078654",
     "status": "completed"
    },
    "tags": []
   },
   "outputs": [
    {
     "name": "stderr",
     "output_type": "stream",
     "text": [
      "100%|██████████| 14568/14568 [00:06<00:00, 2100.51it/s]\n",
      "100%|██████████| 6/6 [02:49<00:00, 28.26s/it]\n",
      "100%|██████████| 9870/9870 [00:04<00:00, 2415.47it/s]\n",
      "100%|██████████| 6/6 [02:01<00:00, 20.29s/it]\n"
     ]
    }
   ],
   "source": [
    "for s in ['cv', 'mv']:\n",
    "    df_demo_los = pd.read_csv(\"../input/tabularraw/data/{}/case-demographic-LOS-{}.csv\".format(s,s)) # read .csv file for the demographic feature of a system\n",
    "    new_df = preprocess_demo(df_demo_los) # demographic preprocessing\n",
    "    for c in tqdm(['hr', 'meanbp', 'spo2', 'fio2', 'temp', 'rr']):\n",
    "        df_clinical = pd.read_csv(\"../input/tabularraw/data/{}/{}-{}.csv\".format(s,c,s)) # read .csv file for a clinical feature of a system\n",
    "        df_clinical = convert_datetime(df_clinical) # DateTime conversion from SQL to Python\n",
    "        df_clinical = preprocess_value(df_clinical, c) # clinical preprocessing\n",
    "        new_df = new_df.merge(df_clinical, how='left', on='ICUSTAY_ID') # merge by ICUSTAY_ID\n",
    "    # put the LOS column to the end of DataFrame\n",
    "    cols = new_df.columns.tolist()\n",
    "    cols = cols[0:1] + cols[2:] + cols[1:2]\n",
    "    new_df = new_df[cols]\n",
    "    new_df.to_csv('{}-preprocess.csv'.format(s),index=False) # export the preprocessed DataFrame"
   ]
  }
 ],
 "metadata": {
  "kernelspec": {
   "display_name": "Python 3",
   "language": "python",
   "name": "python3"
  },
  "language_info": {
   "codemirror_mode": {
    "name": "ipython",
    "version": 3
   },
   "file_extension": ".py",
   "mimetype": "text/x-python",
   "name": "python",
   "nbconvert_exporter": "python",
   "pygments_lexer": "ipython3",
   "version": "3.7.12"
  },
  "papermill": {
   "default_parameters": {},
   "duration": 316.042012,
   "end_time": "2022-07-18T13:41:22.069602",
   "environment_variables": {},
   "exception": null,
   "input_path": "__notebook__.ipynb",
   "output_path": "__notebook__.ipynb",
   "parameters": {},
   "start_time": "2022-07-18T13:36:06.027590",
   "version": "2.3.4"
  }
 },
 "nbformat": 4,
 "nbformat_minor": 5
}
